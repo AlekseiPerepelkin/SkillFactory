{
 "cells": [
  {
   "cell_type": "code",
   "execution_count": 1,
   "id": "b2684b26",
   "metadata": {},
   "outputs": [],
   "source": [
    "import pandas as pd\n",
    "import numpy as np\n",
    "import matplotlib.pyplot as plt\n",
    "import seaborn as sns\n",
    "import warnings\n",
    "warnings.filterwarnings('ignore')\n",
    "from IPython.display import Markdown, display"
   ]
  },
  {
   "cell_type": "code",
   "execution_count": 2,
   "id": "acdcfbef",
   "metadata": {},
   "outputs": [],
   "source": [
    "def printmd(string):\n",
    "    display(Markdown(string))\n",
    "    \n",
    "def first_look(df: pd.DataFrame, column: object):\n",
    "    '''\n",
    "    Функция для осмотра переменных\n",
    "    '''\n",
    "    \n",
    "    printmd('### ' + str(column))\n",
    "    if df.loc[:, col].dtypes == np.dtype('O'): # Проверка на строковый тип данных\n",
    "        fig, ax = plt.subplots(figsize=(6, 5))\n",
    "        sns.countplot(df.loc[:, column], ax=ax)\n",
    "        plt.show()\n",
    "        # Print misses percent\n",
    "        misses = (1 - (df[column].count() / df.shape[0]))\n",
    "        print('Процент пропусков: ', round(misses*100, 2), \"%\")\n",
    "    else:\n",
    "        # Prepare plot data frame\n",
    "        plot_df = pd.DataFrame({'Распределение': df[column]})\n",
    "       \n",
    "        # Draw plot\n",
    "        fig, ax = plt.subplots(figsize=(7 * plot_df.shape[1], 4))\n",
    "        plot_df.hist(ax=ax)\n",
    "        plt.show()\n",
    "        # Print misses percent\n",
    "        misses = (1 - (df[column].count() / df.shape[0]))\n",
    "        print('Процент пропусков: ', round(misses*100, 2), \"%\")\n"
   ]
  },
  {
   "cell_type": "code",
   "execution_count": 3,
   "id": "00554342",
   "metadata": {},
   "outputs": [
    {
     "data": {
      "text/html": [
       "<div>\n",
       "<style scoped>\n",
       "    .dataframe tbody tr th:only-of-type {\n",
       "        vertical-align: middle;\n",
       "    }\n",
       "\n",
       "    .dataframe tbody tr th {\n",
       "        vertical-align: top;\n",
       "    }\n",
       "\n",
       "    .dataframe thead th {\n",
       "        text-align: right;\n",
       "    }\n",
       "</style>\n",
       "<table border=\"1\" class=\"dataframe\">\n",
       "  <thead>\n",
       "    <tr style=\"text-align: right;\">\n",
       "      <th></th>\n",
       "      <th>flight_id</th>\n",
       "      <th>actual_departure</th>\n",
       "      <th>scheduled_departure</th>\n",
       "      <th>actual_arrival</th>\n",
       "      <th>scheduled_arrival</th>\n",
       "      <th>actual_flight_time</th>\n",
       "      <th>departure_city</th>\n",
       "      <th>departure_airport</th>\n",
       "      <th>arrival_city</th>\n",
       "      <th>arrival_airport</th>\n",
       "      <th>model</th>\n",
       "      <th>range</th>\n",
       "      <th>seats</th>\n",
       "      <th>passengers</th>\n",
       "      <th>economy_seats</th>\n",
       "      <th>economy_passengers</th>\n",
       "      <th>business_seats</th>\n",
       "      <th>business_passengers</th>\n",
       "      <th>profit</th>\n",
       "    </tr>\n",
       "  </thead>\n",
       "  <tbody>\n",
       "    <tr>\n",
       "      <th>0</th>\n",
       "      <td>136119</td>\n",
       "      <td>2017-01-03T10:08:00Z</td>\n",
       "      <td>2017-01-03T10:05:00Z</td>\n",
       "      <td>2017-01-03T11:49:00Z</td>\n",
       "      <td>2017-01-03T11:45:00Z</td>\n",
       "      <td>101.0</td>\n",
       "      <td>Anapa</td>\n",
       "      <td>AAQ</td>\n",
       "      <td>Moscow</td>\n",
       "      <td>SVO</td>\n",
       "      <td>Boeing 737-300</td>\n",
       "      <td>4200</td>\n",
       "      <td>130</td>\n",
       "      <td>113.0</td>\n",
       "      <td>118</td>\n",
       "      <td>102.0</td>\n",
       "      <td>12</td>\n",
       "      <td>11.0</td>\n",
       "      <td>1653000.0</td>\n",
       "    </tr>\n",
       "    <tr>\n",
       "      <th>1</th>\n",
       "      <td>136120</td>\n",
       "      <td>2017-02-24T10:07:00Z</td>\n",
       "      <td>2017-02-24T10:05:00Z</td>\n",
       "      <td>2017-02-24T11:46:00Z</td>\n",
       "      <td>2017-02-24T11:45:00Z</td>\n",
       "      <td>99.0</td>\n",
       "      <td>Anapa</td>\n",
       "      <td>AAQ</td>\n",
       "      <td>Moscow</td>\n",
       "      <td>SVO</td>\n",
       "      <td>Boeing 737-300</td>\n",
       "      <td>4200</td>\n",
       "      <td>130</td>\n",
       "      <td>109.0</td>\n",
       "      <td>118</td>\n",
       "      <td>98.0</td>\n",
       "      <td>12</td>\n",
       "      <td>11.0</td>\n",
       "      <td>1605400.0</td>\n",
       "    </tr>\n",
       "    <tr>\n",
       "      <th>2</th>\n",
       "      <td>136122</td>\n",
       "      <td>2017-01-08T10:08:00Z</td>\n",
       "      <td>2017-01-08T10:05:00Z</td>\n",
       "      <td>2017-01-08T11:48:00Z</td>\n",
       "      <td>2017-01-08T11:45:00Z</td>\n",
       "      <td>100.0</td>\n",
       "      <td>Anapa</td>\n",
       "      <td>AAQ</td>\n",
       "      <td>Moscow</td>\n",
       "      <td>SVO</td>\n",
       "      <td>Boeing 737-300</td>\n",
       "      <td>4200</td>\n",
       "      <td>130</td>\n",
       "      <td>97.0</td>\n",
       "      <td>118</td>\n",
       "      <td>87.0</td>\n",
       "      <td>12</td>\n",
       "      <td>10.0</td>\n",
       "      <td>1431000.0</td>\n",
       "    </tr>\n",
       "    <tr>\n",
       "      <th>3</th>\n",
       "      <td>136130</td>\n",
       "      <td>2017-02-13T10:07:00Z</td>\n",
       "      <td>2017-02-13T10:05:00Z</td>\n",
       "      <td>2017-02-13T11:46:00Z</td>\n",
       "      <td>2017-02-13T11:45:00Z</td>\n",
       "      <td>99.0</td>\n",
       "      <td>Anapa</td>\n",
       "      <td>AAQ</td>\n",
       "      <td>Moscow</td>\n",
       "      <td>SVO</td>\n",
       "      <td>Boeing 737-300</td>\n",
       "      <td>4200</td>\n",
       "      <td>130</td>\n",
       "      <td>107.0</td>\n",
       "      <td>118</td>\n",
       "      <td>97.0</td>\n",
       "      <td>12</td>\n",
       "      <td>10.0</td>\n",
       "      <td>1556600.0</td>\n",
       "    </tr>\n",
       "    <tr>\n",
       "      <th>4</th>\n",
       "      <td>136131</td>\n",
       "      <td>2017-01-28T10:07:00Z</td>\n",
       "      <td>2017-01-28T10:05:00Z</td>\n",
       "      <td>2017-01-28T11:46:00Z</td>\n",
       "      <td>2017-01-28T11:45:00Z</td>\n",
       "      <td>99.0</td>\n",
       "      <td>Anapa</td>\n",
       "      <td>AAQ</td>\n",
       "      <td>Moscow</td>\n",
       "      <td>SVO</td>\n",
       "      <td>Boeing 737-300</td>\n",
       "      <td>4200</td>\n",
       "      <td>130</td>\n",
       "      <td>124.0</td>\n",
       "      <td>118</td>\n",
       "      <td>112.0</td>\n",
       "      <td>12</td>\n",
       "      <td>12.0</td>\n",
       "      <td>1812800.0</td>\n",
       "    </tr>\n",
       "  </tbody>\n",
       "</table>\n",
       "</div>"
      ],
      "text/plain": [
       "   flight_id      actual_departure   scheduled_departure  \\\n",
       "0     136119  2017-01-03T10:08:00Z  2017-01-03T10:05:00Z   \n",
       "1     136120  2017-02-24T10:07:00Z  2017-02-24T10:05:00Z   \n",
       "2     136122  2017-01-08T10:08:00Z  2017-01-08T10:05:00Z   \n",
       "3     136130  2017-02-13T10:07:00Z  2017-02-13T10:05:00Z   \n",
       "4     136131  2017-01-28T10:07:00Z  2017-01-28T10:05:00Z   \n",
       "\n",
       "         actual_arrival     scheduled_arrival  actual_flight_time  \\\n",
       "0  2017-01-03T11:49:00Z  2017-01-03T11:45:00Z               101.0   \n",
       "1  2017-02-24T11:46:00Z  2017-02-24T11:45:00Z                99.0   \n",
       "2  2017-01-08T11:48:00Z  2017-01-08T11:45:00Z               100.0   \n",
       "3  2017-02-13T11:46:00Z  2017-02-13T11:45:00Z                99.0   \n",
       "4  2017-01-28T11:46:00Z  2017-01-28T11:45:00Z                99.0   \n",
       "\n",
       "  departure_city departure_airport arrival_city arrival_airport  \\\n",
       "0          Anapa               AAQ       Moscow             SVO   \n",
       "1          Anapa               AAQ       Moscow             SVO   \n",
       "2          Anapa               AAQ       Moscow             SVO   \n",
       "3          Anapa               AAQ       Moscow             SVO   \n",
       "4          Anapa               AAQ       Moscow             SVO   \n",
       "\n",
       "            model  range  seats  passengers  economy_seats  \\\n",
       "0  Boeing 737-300   4200    130       113.0            118   \n",
       "1  Boeing 737-300   4200    130       109.0            118   \n",
       "2  Boeing 737-300   4200    130        97.0            118   \n",
       "3  Boeing 737-300   4200    130       107.0            118   \n",
       "4  Boeing 737-300   4200    130       124.0            118   \n",
       "\n",
       "   economy_passengers  business_seats  business_passengers     profit  \n",
       "0               102.0              12                 11.0  1653000.0  \n",
       "1                98.0              12                 11.0  1605400.0  \n",
       "2                87.0              12                 10.0  1431000.0  \n",
       "3                97.0              12                 10.0  1556600.0  \n",
       "4               112.0              12                 12.0  1812800.0  "
      ]
     },
     "execution_count": 3,
     "metadata": {},
     "output_type": "execute_result"
    }
   ],
   "source": [
    "df = pd.read_csv(\"query_result_1.1.csv\")\n",
    "df.head()"
   ]
  },
  {
   "cell_type": "code",
   "execution_count": 4,
   "id": "d3be5ff2",
   "metadata": {},
   "outputs": [
    {
     "name": "stdout",
     "output_type": "stream",
     "text": [
      "<class 'pandas.core.frame.DataFrame'>\n",
      "RangeIndex: 127 entries, 0 to 126\n",
      "Data columns (total 19 columns):\n",
      " #   Column               Non-Null Count  Dtype  \n",
      "---  ------               --------------  -----  \n",
      " 0   flight_id            127 non-null    int64  \n",
      " 1   actual_departure     127 non-null    object \n",
      " 2   scheduled_departure  127 non-null    object \n",
      " 3   actual_arrival       127 non-null    object \n",
      " 4   scheduled_arrival    127 non-null    object \n",
      " 5   actual_flight_time   127 non-null    float64\n",
      " 6   departure_city       127 non-null    object \n",
      " 7   departure_airport    127 non-null    object \n",
      " 8   arrival_city         127 non-null    object \n",
      " 9   arrival_airport      127 non-null    object \n",
      " 10  model                127 non-null    object \n",
      " 11  range                127 non-null    int64  \n",
      " 12  seats                127 non-null    int64  \n",
      " 13  passengers           118 non-null    float64\n",
      " 14  economy_seats        127 non-null    int64  \n",
      " 15  economy_passengers   118 non-null    float64\n",
      " 16  business_seats       127 non-null    int64  \n",
      " 17  business_passengers  118 non-null    float64\n",
      " 18  profit               118 non-null    float64\n",
      "dtypes: float64(5), int64(5), object(9)\n",
      "memory usage: 19.0+ KB\n"
     ]
    }
   ],
   "source": [
    "df.info()"
   ]
  },
  {
   "cell_type": "code",
   "execution_count": 5,
   "id": "f2fefa0a",
   "metadata": {},
   "outputs": [
    {
     "data": {
      "text/markdown": [
       "### flight_id"
      ],
      "text/plain": [
       "<IPython.core.display.Markdown object>"
      ]
     },
     "metadata": {},
     "output_type": "display_data"
    },
    {
     "data": {
      "image/png": "[encoded data removed]",
      "text/plain": [
       "<Figure size 504x288 with 1 Axes>"
      ]
     },
     "metadata": {
      "needs_background": "light"
     },
     "output_type": "display_data"
    },
    {
     "name": "stdout",
     "output_type": "stream",
     "text": [
      "Процент пропусков:  0.0 %\n"
     ]
    },
    {
     "data": {
      "text/markdown": [
       "### actual_departure"
      ],
      "text/plain": [
       "<IPython.core.display.Markdown object>"
      ]
     },
     "metadata": {},
     "output_type": "display_data"
    },
    {
     "data": {
      "image/png": "[encoded data removed]",
      "text/plain": [
       "<Figure size 432x360 with 1 Axes>"
      ]
     },
     "metadata": {
      "needs_background": "light"
     },
     "output_type": "display_data"
    },
    {
     "name": "stdout",
     "output_type": "stream",
     "text": [
      "Процент пропусков:  0.0 %\n"
     ]
    },
    {
     "data": {
      "text/markdown": [
       "### scheduled_departure"
      ],
      "text/plain": [
       "<IPython.core.display.Markdown object>"
      ]
     },
     "metadata": {},
     "output_type": "display_data"
    },
    {
     "data": {
      "image/png": "[encoded data removed]",
      "text/plain": [
       "<Figure size 432x360 with 1 Axes>"
      ]
     },
     "metadata": {
      "needs_background": "light"
     },
     "output_type": "display_data"
    },
    {
     "name": "stdout",
     "output_type": "stream",
     "text": [
      "Процент пропусков:  0.0 %\n"
     ]
    },
    {
     "data": {
      "text/markdown": [
       "### actual_arrival"
      ],
      "text/plain": [
       "<IPython.core.display.Markdown object>"
      ]
     },
     "metadata": {},
     "output_type": "display_data"
    },
    {
     "data": {
      "image/png": "[encoded data removed]",
      "text/plain": [
       "<Figure size 432x360 with 1 Axes>"
      ]
     },
     "metadata": {
      "needs_background": "light"
     },
     "output_type": "display_data"
    },
    {
     "name": "stdout",
     "output_type": "stream",
     "text": [
      "Процент пропусков:  0.0 %\n"
     ]
    },
    {
     "data": {
      "text/markdown": [
       "### scheduled_arrival"
      ],
      "text/plain": [
       "<IPython.core.display.Markdown object>"
      ]
     },
     "metadata": {},
     "output_type": "display_data"
    },
    {
     "data": {
      "image/png": "[encoded data removed]",
      "text/plain": [
       "<Figure size 432x360 with 1 Axes>"
      ]
     },
     "metadata": {
      "needs_background": "light"
     },
     "output_type": "display_data"
    },
    {
     "name": "stdout",
     "output_type": "stream",
     "text": [
      "Процент пропусков:  0.0 %\n"
     ]
    },
    {
     "data": {
      "text/markdown": [
       "### actual_flight_time"
      ],
      "text/plain": [
       "<IPython.core.display.Markdown object>"
      ]
     },
     "metadata": {},
     "output_type": "display_data"
    },
    {
     "data": {
      "image/png": "[encoded data removed]",
      "text/plain": [
       "<Figure size 504x288 with 1 Axes>"
      ]
     },
     "metadata": {
      "needs_background": "light"
     },
     "output_type": "display_data"
    },
    {
     "name": "stdout",
     "output_type": "stream",
     "text": [
      "Процент пропусков:  0.0 %\n"
     ]
    },
    {
     "data": {
      "text/markdown": [
       "### departure_city"
      ],
      "text/plain": [
       "<IPython.core.display.Markdown object>"
      ]
     },
     "metadata": {},
     "output_type": "display_data"
    },
    {
     "data": {
      "image/png": "[encoded data removed]",
      "text/plain": [
       "<Figure size 432x360 with 1 Axes>"
      ]
     },
     "metadata": {
      "needs_background": "light"
     },
     "output_type": "display_data"
    },
    {
     "name": "stdout",
     "output_type": "stream",
     "text": [
      "Процент пропусков:  0.0 %\n"
     ]
    },
    {
     "data": {
      "text/markdown": [
       "### departure_airport"
      ],
      "text/plain": [
       "<IPython.core.display.Markdown object>"
      ]
     },
     "metadata": {},
     "output_type": "display_data"
    },
    {
     "data": {
      "image/png": "[encoded data removed]",
      "text/plain": [
       "<Figure size 432x360 with 1 Axes>"
      ]
     },
     "metadata": {
      "needs_background": "light"
     },
     "output_type": "display_data"
    },
    {
     "name": "stdout",
     "output_type": "stream",
     "text": [
      "Процент пропусков:  0.0 %\n"
     ]
    },
    {
     "data": {
      "text/markdown": [
       "### arrival_city"
      ],
      "text/plain": [
       "<IPython.core.display.Markdown object>"
      ]
     },
     "metadata": {},
     "output_type": "display_data"
    },
    {
     "data": {
      "image/png": "[encoded data removed]",
      "text/plain": [
       "<Figure size 432x360 with 1 Axes>"
      ]
     },
     "metadata": {
      "needs_background": "light"
     },
     "output_type": "display_data"
    },
    {
     "name": "stdout",
     "output_type": "stream",
     "text": [
      "Процент пропусков:  0.0 %\n"
     ]
    },
    {
     "data": {
      "text/markdown": [
       "### arrival_airport"
      ],
      "text/plain": [
       "<IPython.core.display.Markdown object>"
      ]
     },
     "metadata": {},
     "output_type": "display_data"
    },
    {
     "data": {
      "image/png": "[encoded data removed]",
      "text/plain": [
       "<Figure size 432x360 with 1 Axes>"
      ]
     },
     "metadata": {
      "needs_background": "light"
     },
     "output_type": "display_data"
    },
    {
     "name": "stdout",
     "output_type": "stream",
     "text": [
      "Процент пропусков:  0.0 %\n"
     ]
    },
    {
     "data": {
      "text/markdown": [
       "### model"
      ],
      "text/plain": [
       "<IPython.core.display.Markdown object>"
      ]
     },
     "metadata": {},
     "output_type": "display_data"
    },
    {
     "data": {
      "image/png": "[encoded data removed]",
      "text/plain": [
       "<Figure size 432x360 with 1 Axes>"
      ]
     },
     "metadata": {
      "needs_background": "light"
     },
     "output_type": "display_data"
    },
    {
     "name": "stdout",
     "output_type": "stream",
     "text": [
      "Процент пропусков:  0.0 %\n"
     ]
    },
    {
     "data": {
      "text/markdown": [
       "### range"
      ],
      "text/plain": [
       "<IPython.core.display.Markdown object>"
      ]
     },
     "metadata": {},
     "output_type": "display_data"
    },
    {
     "data": {
      "image/png": "[encoded data removed]",
      "text/plain": [
       "<Figure size 504x288 with 1 Axes>"
      ]
     },
     "metadata": {
      "needs_background": "light"
     },
     "output_type": "display_data"
    },
    {
     "name": "stdout",
     "output_type": "stream",
     "text": [
      "Процент пропусков:  0.0 %\n"
     ]
    },
    {
     "data": {
      "text/markdown": [
       "### seats"
      ],
      "text/plain": [
       "<IPython.core.display.Markdown object>"
      ]
     },
     "metadata": {},
     "output_type": "display_data"
    },
    {
     "data": {
      "image/png": "[encoded data removed]",
      "text/plain": [
       "<Figure size 504x288 with 1 Axes>"
      ]
     },
     "metadata": {
      "needs_background": "light"
     },
     "output_type": "display_data"
    },
    {
     "name": "stdout",
     "output_type": "stream",
     "text": [
      "Процент пропусков:  0.0 %\n"
     ]
    },
    {
     "data": {
      "text/markdown": [
       "### passengers"
      ],
      "text/plain": [
       "<IPython.core.display.Markdown object>"
      ]
     },
     "metadata": {},
     "output_type": "display_data"
    },
    {
     "data": {
      "image/png": "[encoded data removed]",
      "text/plain": [
       "<Figure size 504x288 with 1 Axes>"
      ]
     },
     "metadata": {
      "needs_background": "light"
     },
     "output_type": "display_data"
    },
    {
     "name": "stdout",
     "output_type": "stream",
     "text": [
      "Процент пропусков:  7.09 %\n"
     ]
    },
    {
     "data": {
      "text/markdown": [
       "### economy_seats"
      ],
      "text/plain": [
       "<IPython.core.display.Markdown object>"
      ]
     },
     "metadata": {},
     "output_type": "display_data"
    },
    {
     "data": {
      "image/png": "[encoded data removed]",
      "text/plain": [
       "<Figure size 504x288 with 1 Axes>"
      ]
     },
     "metadata": {
      "needs_background": "light"
     },
     "output_type": "display_data"
    },
    {
     "name": "stdout",
     "output_type": "stream",
     "text": [
      "Процент пропусков:  0.0 %\n"
     ]
    },
    {
     "data": {
      "text/markdown": [
       "### economy_passengers"
      ],
      "text/plain": [
       "<IPython.core.display.Markdown object>"
      ]
     },
     "metadata": {},
     "output_type": "display_data"
    },
    {
     "data": {
      "image/png": "[encoded data removed]",
      "text/plain": [
       "<Figure size 504x288 with 1 Axes>"
      ]
     },
     "metadata": {
      "needs_background": "light"
     },
     "output_type": "display_data"
    },
    {
     "name": "stdout",
     "output_type": "stream",
     "text": [
      "Процент пропусков:  7.09 %\n"
     ]
    },
    {
     "data": {
      "text/markdown": [
       "### business_seats"
      ],
      "text/plain": [
       "<IPython.core.display.Markdown object>"
      ]
     },
     "metadata": {},
     "output_type": "display_data"
    },
    {
     "data": {
      "image/png": "[encoded data removed]",
      "text/plain": [
       "<Figure size 504x288 with 1 Axes>"
      ]
     },
     "metadata": {
      "needs_background": "light"
     },
     "output_type": "display_data"
    },
    {
     "name": "stdout",
     "output_type": "stream",
     "text": [
      "Процент пропусков:  0.0 %\n"
     ]
    },
    {
     "data": {
      "text/markdown": [
       "### business_passengers"
      ],
      "text/plain": [
       "<IPython.core.display.Markdown object>"
      ]
     },
     "metadata": {},
     "output_type": "display_data"
    },
    {
     "data": {
      "image/png": "[encoded data removed]",
      "text/plain": [
       "<Figure size 504x288 with 1 Axes>"
      ]
     },
     "metadata": {
      "needs_background": "light"
     },
     "output_type": "display_data"
    },
    {
     "name": "stdout",
     "output_type": "stream",
     "text": [
      "Процент пропусков:  7.09 %\n"
     ]
    },
    {
     "data": {
      "text/markdown": [
       "### profit"
      ],
      "text/plain": [
       "<IPython.core.display.Markdown object>"
      ]
     },
     "metadata": {},
     "output_type": "display_data"
    },
    {
     "data": {
      "image/png": "[encoded data removed]",
      "text/plain": [
       "<Figure size 504x288 with 1 Axes>"
      ]
     },
     "metadata": {
      "needs_background": "light"
     },
     "output_type": "display_data"
    },
    {
     "name": "stdout",
     "output_type": "stream",
     "text": [
      "Процент пропусков:  7.09 %\n"
     ]
    }
   ],
   "source": [
    "for col in df.columns:\n",
    "    first_look(df, col)"
   ]
  },
  {
   "cell_type": "code",
   "execution_count": 6,
   "id": "0f870afd",
   "metadata": {},
   "outputs": [
    {
     "data": {
      "text/html": [
       "<div>\n",
       "<style scoped>\n",
       "    .dataframe tbody tr th:only-of-type {\n",
       "        vertical-align: middle;\n",
       "    }\n",
       "\n",
       "    .dataframe tbody tr th {\n",
       "        vertical-align: top;\n",
       "    }\n",
       "\n",
       "    .dataframe thead th {\n",
       "        text-align: right;\n",
       "    }\n",
       "</style>\n",
       "<table border=\"1\" class=\"dataframe\">\n",
       "  <thead>\n",
       "    <tr style=\"text-align: right;\">\n",
       "      <th></th>\n",
       "      <th>flight_id</th>\n",
       "      <th>actual_departure</th>\n",
       "      <th>scheduled_departure</th>\n",
       "      <th>actual_arrival</th>\n",
       "      <th>scheduled_arrival</th>\n",
       "      <th>actual_flight_time</th>\n",
       "      <th>departure_city</th>\n",
       "      <th>departure_airport</th>\n",
       "      <th>arrival_city</th>\n",
       "      <th>arrival_airport</th>\n",
       "      <th>model</th>\n",
       "      <th>range</th>\n",
       "      <th>seats</th>\n",
       "      <th>passengers</th>\n",
       "      <th>economy_seats</th>\n",
       "      <th>economy_passengers</th>\n",
       "      <th>business_seats</th>\n",
       "      <th>business_passengers</th>\n",
       "      <th>profit</th>\n",
       "    </tr>\n",
       "  </thead>\n",
       "  <tbody>\n",
       "    <tr>\n",
       "      <th>59</th>\n",
       "      <td>136511</td>\n",
       "      <td>2017-02-21T06:15:00Z</td>\n",
       "      <td>2017-02-21T06:10:00Z</td>\n",
       "      <td>2017-02-21T11:25:00Z</td>\n",
       "      <td>2017-02-21T11:15:00Z</td>\n",
       "      <td>310.0</td>\n",
       "      <td>Anapa</td>\n",
       "      <td>AAQ</td>\n",
       "      <td>Novokuznetsk</td>\n",
       "      <td>NOZ</td>\n",
       "      <td>Boeing 737-300</td>\n",
       "      <td>4200</td>\n",
       "      <td>130</td>\n",
       "      <td>NaN</td>\n",
       "      <td>118</td>\n",
       "      <td>NaN</td>\n",
       "      <td>12</td>\n",
       "      <td>NaN</td>\n",
       "      <td>NaN</td>\n",
       "    </tr>\n",
       "    <tr>\n",
       "      <th>60</th>\n",
       "      <td>136513</td>\n",
       "      <td>2017-02-28T06:13:00Z</td>\n",
       "      <td>2017-02-28T06:10:00Z</td>\n",
       "      <td>2017-02-28T11:23:00Z</td>\n",
       "      <td>2017-02-28T11:15:00Z</td>\n",
       "      <td>310.0</td>\n",
       "      <td>Anapa</td>\n",
       "      <td>AAQ</td>\n",
       "      <td>Novokuznetsk</td>\n",
       "      <td>NOZ</td>\n",
       "      <td>Boeing 737-300</td>\n",
       "      <td>4200</td>\n",
       "      <td>130</td>\n",
       "      <td>NaN</td>\n",
       "      <td>118</td>\n",
       "      <td>NaN</td>\n",
       "      <td>12</td>\n",
       "      <td>NaN</td>\n",
       "      <td>NaN</td>\n",
       "    </tr>\n",
       "    <tr>\n",
       "      <th>61</th>\n",
       "      <td>136514</td>\n",
       "      <td>2017-02-07T06:14:00Z</td>\n",
       "      <td>2017-02-07T06:10:00Z</td>\n",
       "      <td>2017-02-07T11:13:00Z</td>\n",
       "      <td>2017-02-07T11:15:00Z</td>\n",
       "      <td>299.0</td>\n",
       "      <td>Anapa</td>\n",
       "      <td>AAQ</td>\n",
       "      <td>Novokuznetsk</td>\n",
       "      <td>NOZ</td>\n",
       "      <td>Boeing 737-300</td>\n",
       "      <td>4200</td>\n",
       "      <td>130</td>\n",
       "      <td>NaN</td>\n",
       "      <td>118</td>\n",
       "      <td>NaN</td>\n",
       "      <td>12</td>\n",
       "      <td>NaN</td>\n",
       "      <td>NaN</td>\n",
       "    </tr>\n",
       "    <tr>\n",
       "      <th>62</th>\n",
       "      <td>136523</td>\n",
       "      <td>2017-01-10T06:14:00Z</td>\n",
       "      <td>2017-01-10T06:10:00Z</td>\n",
       "      <td>2017-01-10T11:26:00Z</td>\n",
       "      <td>2017-01-10T11:15:00Z</td>\n",
       "      <td>312.0</td>\n",
       "      <td>Anapa</td>\n",
       "      <td>AAQ</td>\n",
       "      <td>Novokuznetsk</td>\n",
       "      <td>NOZ</td>\n",
       "      <td>Boeing 737-300</td>\n",
       "      <td>4200</td>\n",
       "      <td>130</td>\n",
       "      <td>NaN</td>\n",
       "      <td>118</td>\n",
       "      <td>NaN</td>\n",
       "      <td>12</td>\n",
       "      <td>NaN</td>\n",
       "      <td>NaN</td>\n",
       "    </tr>\n",
       "    <tr>\n",
       "      <th>63</th>\n",
       "      <td>136540</td>\n",
       "      <td>2017-01-17T06:14:00Z</td>\n",
       "      <td>2017-01-17T06:10:00Z</td>\n",
       "      <td>2017-01-17T11:21:00Z</td>\n",
       "      <td>2017-01-17T11:15:00Z</td>\n",
       "      <td>307.0</td>\n",
       "      <td>Anapa</td>\n",
       "      <td>AAQ</td>\n",
       "      <td>Novokuznetsk</td>\n",
       "      <td>NOZ</td>\n",
       "      <td>Boeing 737-300</td>\n",
       "      <td>4200</td>\n",
       "      <td>130</td>\n",
       "      <td>NaN</td>\n",
       "      <td>118</td>\n",
       "      <td>NaN</td>\n",
       "      <td>12</td>\n",
       "      <td>NaN</td>\n",
       "      <td>NaN</td>\n",
       "    </tr>\n",
       "    <tr>\n",
       "      <th>64</th>\n",
       "      <td>136544</td>\n",
       "      <td>2017-01-31T06:10:00Z</td>\n",
       "      <td>2017-01-31T06:10:00Z</td>\n",
       "      <td>2017-01-31T11:14:00Z</td>\n",
       "      <td>2017-01-31T11:15:00Z</td>\n",
       "      <td>304.0</td>\n",
       "      <td>Anapa</td>\n",
       "      <td>AAQ</td>\n",
       "      <td>Novokuznetsk</td>\n",
       "      <td>NOZ</td>\n",
       "      <td>Boeing 737-300</td>\n",
       "      <td>4200</td>\n",
       "      <td>130</td>\n",
       "      <td>NaN</td>\n",
       "      <td>118</td>\n",
       "      <td>NaN</td>\n",
       "      <td>12</td>\n",
       "      <td>NaN</td>\n",
       "      <td>NaN</td>\n",
       "    </tr>\n",
       "    <tr>\n",
       "      <th>65</th>\n",
       "      <td>136546</td>\n",
       "      <td>2017-01-03T06:13:00Z</td>\n",
       "      <td>2017-01-03T06:10:00Z</td>\n",
       "      <td>2017-01-03T11:15:00Z</td>\n",
       "      <td>2017-01-03T11:15:00Z</td>\n",
       "      <td>302.0</td>\n",
       "      <td>Anapa</td>\n",
       "      <td>AAQ</td>\n",
       "      <td>Novokuznetsk</td>\n",
       "      <td>NOZ</td>\n",
       "      <td>Boeing 737-300</td>\n",
       "      <td>4200</td>\n",
       "      <td>130</td>\n",
       "      <td>NaN</td>\n",
       "      <td>118</td>\n",
       "      <td>NaN</td>\n",
       "      <td>12</td>\n",
       "      <td>NaN</td>\n",
       "      <td>NaN</td>\n",
       "    </tr>\n",
       "    <tr>\n",
       "      <th>66</th>\n",
       "      <td>136560</td>\n",
       "      <td>2017-01-24T06:13:00Z</td>\n",
       "      <td>2017-01-24T06:10:00Z</td>\n",
       "      <td>2017-01-24T11:18:00Z</td>\n",
       "      <td>2017-01-24T11:15:00Z</td>\n",
       "      <td>305.0</td>\n",
       "      <td>Anapa</td>\n",
       "      <td>AAQ</td>\n",
       "      <td>Novokuznetsk</td>\n",
       "      <td>NOZ</td>\n",
       "      <td>Boeing 737-300</td>\n",
       "      <td>4200</td>\n",
       "      <td>130</td>\n",
       "      <td>NaN</td>\n",
       "      <td>118</td>\n",
       "      <td>NaN</td>\n",
       "      <td>12</td>\n",
       "      <td>NaN</td>\n",
       "      <td>NaN</td>\n",
       "    </tr>\n",
       "    <tr>\n",
       "      <th>67</th>\n",
       "      <td>136567</td>\n",
       "      <td>2017-02-14T06:12:00Z</td>\n",
       "      <td>2017-02-14T06:10:00Z</td>\n",
       "      <td>2017-02-14T11:23:00Z</td>\n",
       "      <td>2017-02-14T11:15:00Z</td>\n",
       "      <td>311.0</td>\n",
       "      <td>Anapa</td>\n",
       "      <td>AAQ</td>\n",
       "      <td>Novokuznetsk</td>\n",
       "      <td>NOZ</td>\n",
       "      <td>Boeing 737-300</td>\n",
       "      <td>4200</td>\n",
       "      <td>130</td>\n",
       "      <td>NaN</td>\n",
       "      <td>118</td>\n",
       "      <td>NaN</td>\n",
       "      <td>12</td>\n",
       "      <td>NaN</td>\n",
       "      <td>NaN</td>\n",
       "    </tr>\n",
       "  </tbody>\n",
       "</table>\n",
       "</div>"
      ],
      "text/plain": [
       "    flight_id      actual_departure   scheduled_departure  \\\n",
       "59     136511  2017-02-21T06:15:00Z  2017-02-21T06:10:00Z   \n",
       "60     136513  2017-02-28T06:13:00Z  2017-02-28T06:10:00Z   \n",
       "61     136514  2017-02-07T06:14:00Z  2017-02-07T06:10:00Z   \n",
       "62     136523  2017-01-10T06:14:00Z  2017-01-10T06:10:00Z   \n",
       "63     136540  2017-01-17T06:14:00Z  2017-01-17T06:10:00Z   \n",
       "64     136544  2017-01-31T06:10:00Z  2017-01-31T06:10:00Z   \n",
       "65     136546  2017-01-03T06:13:00Z  2017-01-03T06:10:00Z   \n",
       "66     136560  2017-01-24T06:13:00Z  2017-01-24T06:10:00Z   \n",
       "67     136567  2017-02-14T06:12:00Z  2017-02-14T06:10:00Z   \n",
       "\n",
       "          actual_arrival     scheduled_arrival  actual_flight_time  \\\n",
       "59  2017-02-21T11:25:00Z  2017-02-21T11:15:00Z               310.0   \n",
       "60  2017-02-28T11:23:00Z  2017-02-28T11:15:00Z               310.0   \n",
       "61  2017-02-07T11:13:00Z  2017-02-07T11:15:00Z               299.0   \n",
       "62  2017-01-10T11:26:00Z  2017-01-10T11:15:00Z               312.0   \n",
       "63  2017-01-17T11:21:00Z  2017-01-17T11:15:00Z               307.0   \n",
       "64  2017-01-31T11:14:00Z  2017-01-31T11:15:00Z               304.0   \n",
       "65  2017-01-03T11:15:00Z  2017-01-03T11:15:00Z               302.0   \n",
       "66  2017-01-24T11:18:00Z  2017-01-24T11:15:00Z               305.0   \n",
       "67  2017-02-14T11:23:00Z  2017-02-14T11:15:00Z               311.0   \n",
       "\n",
       "   departure_city departure_airport  arrival_city arrival_airport  \\\n",
       "59          Anapa               AAQ  Novokuznetsk             NOZ   \n",
       "60          Anapa               AAQ  Novokuznetsk             NOZ   \n",
       "61          Anapa               AAQ  Novokuznetsk             NOZ   \n",
       "62          Anapa               AAQ  Novokuznetsk             NOZ   \n",
       "63          Anapa               AAQ  Novokuznetsk             NOZ   \n",
       "64          Anapa               AAQ  Novokuznetsk             NOZ   \n",
       "65          Anapa               AAQ  Novokuznetsk             NOZ   \n",
       "66          Anapa               AAQ  Novokuznetsk             NOZ   \n",
       "67          Anapa               AAQ  Novokuznetsk             NOZ   \n",
       "\n",
       "             model  range  seats  passengers  economy_seats  \\\n",
       "59  Boeing 737-300   4200    130         NaN            118   \n",
       "60  Boeing 737-300   4200    130         NaN            118   \n",
       "61  Boeing 737-300   4200    130         NaN            118   \n",
       "62  Boeing 737-300   4200    130         NaN            118   \n",
       "63  Boeing 737-300   4200    130         NaN            118   \n",
       "64  Boeing 737-300   4200    130         NaN            118   \n",
       "65  Boeing 737-300   4200    130         NaN            118   \n",
       "66  Boeing 737-300   4200    130         NaN            118   \n",
       "67  Boeing 737-300   4200    130         NaN            118   \n",
       "\n",
       "    economy_passengers  business_seats  business_passengers  profit  \n",
       "59                 NaN              12                  NaN     NaN  \n",
       "60                 NaN              12                  NaN     NaN  \n",
       "61                 NaN              12                  NaN     NaN  \n",
       "62                 NaN              12                  NaN     NaN  \n",
       "63                 NaN              12                  NaN     NaN  \n",
       "64                 NaN              12                  NaN     NaN  \n",
       "65                 NaN              12                  NaN     NaN  \n",
       "66                 NaN              12                  NaN     NaN  \n",
       "67                 NaN              12                  NaN     NaN  "
      ]
     },
     "execution_count": 6,
     "metadata": {},
     "output_type": "execute_result"
    }
   ],
   "source": [
    "df[df.passengers.isnull()]"
   ]
  },
  {
   "cell_type": "markdown",
   "id": "5dbac5f8",
   "metadata": {},
   "source": [
    "В датасете присутствуют пропуски, все они относятся к рейсам в Новокузнецк. Не имея возможности заполнить их, просто удалим эти строки."
   ]
  },
  {
   "cell_type": "code",
   "execution_count": 7,
   "id": "134b9898",
   "metadata": {},
   "outputs": [],
   "source": [
    "df = df.dropna()"
   ]
  },
  {
   "cell_type": "code",
   "execution_count": 8,
   "id": "3e54a396",
   "metadata": {},
   "outputs": [
    {
     "name": "stdout",
     "output_type": "stream",
     "text": [
      "<class 'pandas.core.frame.DataFrame'>\n",
      "Int64Index: 118 entries, 0 to 126\n",
      "Data columns (total 19 columns):\n",
      " #   Column               Non-Null Count  Dtype  \n",
      "---  ------               --------------  -----  \n",
      " 0   flight_id            118 non-null    int64  \n",
      " 1   actual_departure     118 non-null    object \n",
      " 2   scheduled_departure  118 non-null    object \n",
      " 3   actual_arrival       118 non-null    object \n",
      " 4   scheduled_arrival    118 non-null    object \n",
      " 5   actual_flight_time   118 non-null    float64\n",
      " 6   departure_city       118 non-null    object \n",
      " 7   departure_airport    118 non-null    object \n",
      " 8   arrival_city         118 non-null    object \n",
      " 9   arrival_airport      118 non-null    object \n",
      " 10  model                118 non-null    object \n",
      " 11  range                118 non-null    int64  \n",
      " 12  seats                118 non-null    int64  \n",
      " 13  passengers           118 non-null    float64\n",
      " 14  economy_seats        118 non-null    int64  \n",
      " 15  economy_passengers   118 non-null    float64\n",
      " 16  business_seats       118 non-null    int64  \n",
      " 17  business_passengers  118 non-null    float64\n",
      " 18  profit               118 non-null    float64\n",
      "dtypes: float64(5), int64(5), object(9)\n",
      "memory usage: 18.4+ KB\n"
     ]
    }
   ],
   "source": [
    "df.info()"
   ]
  },
  {
   "cell_type": "code",
   "execution_count": 9,
   "id": "7f93b859",
   "metadata": {},
   "outputs": [
    {
     "data": {
      "image/png": "[encoded data removed]",
      "text/plain": [
       "<Figure size 576x288 with 1 Axes>"
      ]
     },
     "metadata": {
      "needs_background": "light"
     },
     "output_type": "display_data"
    }
   ],
   "source": [
    "#Отдельно посмотрим на profit\n",
    "plt.figure(figsize=(8, 4))\n",
    "sns.boxplot(data=df['profit'], orient=\"h\",\n",
    "                 palette=\"Set2\", whis=1.5);"
   ]
  },
  {
   "cell_type": "markdown",
   "id": "9629f0ce",
   "metadata": {},
   "source": [
    "Выбросов нет, медиана смещена."
   ]
  },
  {
   "cell_type": "markdown",
   "id": "889ae8cf",
   "metadata": {},
   "source": [
    "Добавим несколько новых признаков:"
   ]
  },
  {
   "cell_type": "code",
   "execution_count": 10,
   "id": "f93768b1",
   "metadata": {},
   "outputs": [],
   "source": [
    "# приведём actual_departure, scheduled_departure, actual_arrival и scheduled_arrival  к формату datetime\n",
    "df.actual_departure = pd.to_datetime(df.actual_departure)\n",
    "df.actual_arrival = pd.to_datetime(df.actual_arrival)\n",
    "df.scheduled_departure = pd.to_datetime(df.scheduled_departure)\n",
    "df.scheduled_arrival = pd.to_datetime(df.scheduled_arrival)"
   ]
  },
  {
   "cell_type": "code",
   "execution_count": 11,
   "id": "ac3787b8",
   "metadata": {},
   "outputs": [],
   "source": [
    "# день недели рейса\n",
    "df['weekday'] = df.actual_departure.dt.weekday"
   ]
  },
  {
   "cell_type": "code",
   "execution_count": 12,
   "id": "01c9df5a",
   "metadata": {},
   "outputs": [],
   "source": [
    "# загрузка самолёта по классам\n",
    "df['load_economy'] = df.economy_passengers / df.economy_seats\n",
    "df['load_business'] = df.business_passengers / df.business_seats"
   ]
  },
  {
   "cell_type": "markdown",
   "id": "5b44f009",
   "metadata": {},
   "source": [
    "По данным источника https://favt.gov.ru/dejatelnost-ajeroporty-i-ajerodromy-ceny-na-aviagsm?id=7329, зимой в Анапе средняя \n",
    "    стоимость топлтива составляла 40494 рубля за тонну   \n",
    "По данным источника https://vpolete.online/pereletyi/rashod-topliva-raznyih-samoletov.html у моделей самолёта \n",
    "    Boeing 737-300: затрата горючего – 2,4 т/ч или 0,04 т/м, Sukhoi Superjet 100: затрата горючего – 1,7 т/ч или 0,028 т/м"
   ]
  },
  {
   "cell_type": "code",
   "execution_count": 13,
   "id": "67963066",
   "metadata": {},
   "outputs": [],
   "source": [
    "# затраты на топливо\n",
    "def fuel_consumption(row):\n",
    "    if row.model == 'Sukhoi Superjet-100':\n",
    "        return 0.028\n",
    "    elif row.model == 'Boeing 737-300':\n",
    "        return 0.04\n",
    "df['fuel_consumption'] = df.apply(fuel_consumption, axis=1)\n",
    "df['fuel_cost'] = df.actual_flight_time * df.fuel_consumption * 40494"
   ]
  },
  {
   "cell_type": "code",
   "execution_count": 14,
   "id": "08f59654",
   "metadata": {},
   "outputs": [],
   "source": [
    "# прибыль за вычетом затрат на топливо\n",
    "df['profit'] = df['profit'] - df['fuel_cost']"
   ]
  },
  {
   "attachments": {
    "1536453910165120199.png": {
     "image/png": "[encoded data removed]"
    }
   },
   "cell_type": "markdown",
   "id": "ae5fd264",
   "metadata": {},
   "source": [
    "Прибыль с одного билета для авиакомпании составляет не более 5%\n",
    "![1536453910165120199.png](attachment:1536453910165120199.png)"
   ]
  },
  {
   "cell_type": "markdown",
   "id": "ba1a48ee",
   "metadata": {},
   "source": [
    "Из базы данных мы не получили данные о затратах на содержание флота, зарплаты сотрудников, диспетчерское и аэропортовое облуживание и другие расходы. Будем ориентироваться по расходу топлива, модели самолёта, загруженности самолёта и датам вылета"
   ]
  },
  {
   "cell_type": "code",
   "execution_count": 15,
   "id": "88a3af94",
   "metadata": {},
   "outputs": [
    {
     "data": {
      "text/plain": [
       "1067261.3562711868"
      ]
     },
     "execution_count": 15,
     "metadata": {},
     "output_type": "execute_result"
    }
   ],
   "source": [
    "df['profit'].mean()"
   ]
  },
  {
   "cell_type": "markdown",
   "id": "a1722d15",
   "metadata": {},
   "source": [
    "Медиана сильно смещена, правильно будет рассматривать отдельно рейсы в Москву и Белгород"
   ]
  },
  {
   "cell_type": "code",
   "execution_count": 16,
   "id": "cdf805ae",
   "metadata": {},
   "outputs": [],
   "source": [
    "df_moscow = df[df.arrival_city == \"Moscow\"]\n",
    "df_belgorod = df[df.arrival_city == \"Belgorod\"]"
   ]
  },
  {
   "cell_type": "code",
   "execution_count": 17,
   "id": "145d697e",
   "metadata": {},
   "outputs": [
    {
     "data": {
      "image/png": "[encoded data removed]",
      "text/plain": [
       "<Figure size 864x360 with 2 Axes>"
      ]
     },
     "metadata": {
      "needs_background": "light"
     },
     "output_type": "display_data"
    }
   ],
   "source": [
    "fig, axes = plt.subplots(1, 2, sharey=True, figsize=(12, 5))\n",
    "\n",
    "sns.histplot(data=df_moscow.profit, ax=axes[0])\n",
    "axes[0].set_title(\"Moscow\")\n",
    "\n",
    "sns.histplot(df_belgorod.profit, ax=axes[1], bins=20)\n",
    "axes[1].set_title(\"Belgorod\")\n",
    "\n",
    "plt.show()"
   ]
  },
  {
   "cell_type": "markdown",
   "id": "4463b3ee",
   "metadata": {},
   "source": [
    "Рейсы в Белгород приносят значительно меньший доход, имеют явный перекос в правую сторону. Посмотрим заисимость прибыли от загрузки самолёта в разных классах"
   ]
  },
  {
   "cell_type": "code",
   "execution_count": 18,
   "id": "dd7ba487",
   "metadata": {},
   "outputs": [
    {
     "data": {
      "text/plain": [
       "Text(0.5, 1.0, 'Belgorod, economy')"
      ]
     },
     "execution_count": 18,
     "metadata": {},
     "output_type": "execute_result"
    },
    {
     "data": {
      "image/png": "[encoded data removed]",
      "text/plain": [
       "<Figure size 864x360 with 2 Axes>"
      ]
     },
     "metadata": {
      "needs_background": "light"
     },
     "output_type": "display_data"
    }
   ],
   "source": [
    "fig, axes = plt.subplots(1, 2, figsize=(12, 5))\n",
    "\n",
    "sns.scatterplot(y=df_moscow.load_economy, x=df_moscow.profit, ax=axes[0])\n",
    "axes[0].set_title(\"Moscow, economy\")\n",
    "\n",
    "sns.scatterplot(y=df_belgorod.load_economy,\n",
    "                x=df_belgorod.profit, ax=axes[1])\n",
    "axes[1].set_title(\"Belgorod, economy\")"
   ]
  },
  {
   "cell_type": "code",
   "execution_count": 19,
   "id": "44184c3b",
   "metadata": {},
   "outputs": [
    {
     "data": {
      "text/plain": [
       "Text(0.5, 1.0, 'Belgorod, business')"
      ]
     },
     "execution_count": 19,
     "metadata": {},
     "output_type": "execute_result"
    },
    {
     "data": {
      "image/png": "[encoded data removed]",
      "text/plain": [
       "<Figure size 864x360 with 2 Axes>"
      ]
     },
     "metadata": {
      "needs_background": "light"
     },
     "output_type": "display_data"
    }
   ],
   "source": [
    "fig, axes = plt.subplots(1, 2, figsize=(12, 5))\n",
    "\n",
    "sns.scatterplot(y=df_moscow.load_business, x=df_moscow.profit, ax=axes[0])\n",
    "axes[0].set_title(\"Moscow, business\")\n",
    "\n",
    "sns.scatterplot(y=df_belgorod.load_business,\n",
    "                x=df_belgorod.profit, ax=axes[1])\n",
    "axes[1].set_title(\"Belgorod, business\")"
   ]
  },
  {
   "cell_type": "markdown",
   "id": "3413a352",
   "metadata": {},
   "source": [
    "По большей части заполняемость обоих класов более 75%. Наблюдаем прямую зависимость прибыли от загруженности самолёта."
   ]
  },
  {
   "cell_type": "markdown",
   "id": "573b8464",
   "metadata": {},
   "source": [
    "Посмотрим заисимость прибыли от дня недели."
   ]
  },
  {
   "cell_type": "code",
   "execution_count": 20,
   "id": "15ee7da4",
   "metadata": {},
   "outputs": [
    {
     "data": {
      "text/plain": [
       "Text(0.5, 1.0, 'Belgorod by weekday')"
      ]
     },
     "execution_count": 20,
     "metadata": {},
     "output_type": "execute_result"
    },
    {
     "data": {
      "image/png": "[encoded data removed]",
      "text/plain": [
       "<Figure size 864x360 with 2 Axes>"
      ]
     },
     "metadata": {
      "needs_background": "light"
     },
     "output_type": "display_data"
    }
   ],
   "source": [
    "fig, axes = plt.subplots(1, 2, figsize=(12, 5))\n",
    "\n",
    "sns.scatterplot(x=df_moscow.weekday, y=df_moscow.profit, ax=axes[0])\n",
    "axes[0].set_title(\"Moscow by weekday\")\n",
    "\n",
    "sns.scatterplot(x=df_belgorod.weekday, y=df_belgorod.profit, ax=axes[1])\n",
    "axes[1].set_title(\"Belgorod by weekday\")"
   ]
  },
  {
   "cell_type": "markdown",
   "id": "46eb3606",
   "metadata": {},
   "source": [
    "Рейсы в Белгород стабильнее по прыбили."
   ]
  },
  {
   "cell_type": "code",
   "execution_count": 21,
   "id": "b223fedd",
   "metadata": {},
   "outputs": [
    {
     "data": {
      "text/html": [
       "<div>\n",
       "<style scoped>\n",
       "    .dataframe tbody tr th:only-of-type {\n",
       "        vertical-align: middle;\n",
       "    }\n",
       "\n",
       "    .dataframe tbody tr th {\n",
       "        vertical-align: top;\n",
       "    }\n",
       "\n",
       "    .dataframe thead th {\n",
       "        text-align: right;\n",
       "    }\n",
       "</style>\n",
       "<table border=\"1\" class=\"dataframe\">\n",
       "  <thead>\n",
       "    <tr style=\"text-align: right;\">\n",
       "      <th></th>\n",
       "      <th>flight_id</th>\n",
       "      <th>actual_departure</th>\n",
       "      <th>scheduled_departure</th>\n",
       "      <th>actual_arrival</th>\n",
       "      <th>scheduled_arrival</th>\n",
       "      <th>actual_flight_time</th>\n",
       "      <th>departure_city</th>\n",
       "      <th>departure_airport</th>\n",
       "      <th>arrival_city</th>\n",
       "      <th>arrival_airport</th>\n",
       "      <th>...</th>\n",
       "      <th>economy_passengers</th>\n",
       "      <th>business_seats</th>\n",
       "      <th>business_passengers</th>\n",
       "      <th>profit</th>\n",
       "      <th>weekday</th>\n",
       "      <th>load_economy</th>\n",
       "      <th>load_business</th>\n",
       "      <th>fuel_consumption</th>\n",
       "      <th>fuel_cost</th>\n",
       "      <th>to_med</th>\n",
       "    </tr>\n",
       "  </thead>\n",
       "  <tbody>\n",
       "    <tr>\n",
       "      <th>2</th>\n",
       "      <td>136122</td>\n",
       "      <td>2017-01-08 10:08:00+00:00</td>\n",
       "      <td>2017-01-08 10:05:00+00:00</td>\n",
       "      <td>2017-01-08 11:48:00+00:00</td>\n",
       "      <td>2017-01-08 11:45:00+00:00</td>\n",
       "      <td>100.0</td>\n",
       "      <td>Anapa</td>\n",
       "      <td>AAQ</td>\n",
       "      <td>Moscow</td>\n",
       "      <td>SVO</td>\n",
       "      <td>...</td>\n",
       "      <td>87.0</td>\n",
       "      <td>12</td>\n",
       "      <td>10.0</td>\n",
       "      <td>1269024.0</td>\n",
       "      <td>6</td>\n",
       "      <td>0.737288</td>\n",
       "      <td>0.833333</td>\n",
       "      <td>0.04</td>\n",
       "      <td>161976.0</td>\n",
       "      <td>0.864314</td>\n",
       "    </tr>\n",
       "    <tr>\n",
       "      <th>38</th>\n",
       "      <td>136360</td>\n",
       "      <td>2017-02-05 10:08:00+00:00</td>\n",
       "      <td>2017-02-05 10:05:00+00:00</td>\n",
       "      <td>2017-02-05 11:48:00+00:00</td>\n",
       "      <td>2017-02-05 11:45:00+00:00</td>\n",
       "      <td>100.0</td>\n",
       "      <td>Anapa</td>\n",
       "      <td>AAQ</td>\n",
       "      <td>Moscow</td>\n",
       "      <td>SVO</td>\n",
       "      <td>...</td>\n",
       "      <td>86.0</td>\n",
       "      <td>12</td>\n",
       "      <td>11.0</td>\n",
       "      <td>1293424.0</td>\n",
       "      <td>6</td>\n",
       "      <td>0.728814</td>\n",
       "      <td>0.916667</td>\n",
       "      <td>0.04</td>\n",
       "      <td>161976.0</td>\n",
       "      <td>0.880933</td>\n",
       "    </tr>\n",
       "  </tbody>\n",
       "</table>\n",
       "<p>2 rows × 25 columns</p>\n",
       "</div>"
      ],
      "text/plain": [
       "    flight_id          actual_departure       scheduled_departure  \\\n",
       "2      136122 2017-01-08 10:08:00+00:00 2017-01-08 10:05:00+00:00   \n",
       "38     136360 2017-02-05 10:08:00+00:00 2017-02-05 10:05:00+00:00   \n",
       "\n",
       "              actual_arrival         scheduled_arrival  actual_flight_time  \\\n",
       "2  2017-01-08 11:48:00+00:00 2017-01-08 11:45:00+00:00               100.0   \n",
       "38 2017-02-05 11:48:00+00:00 2017-02-05 11:45:00+00:00               100.0   \n",
       "\n",
       "   departure_city departure_airport arrival_city arrival_airport  ...  \\\n",
       "2           Anapa               AAQ       Moscow             SVO  ...   \n",
       "38          Anapa               AAQ       Moscow             SVO  ...   \n",
       "\n",
       "   economy_passengers  business_seats  business_passengers     profit  \\\n",
       "2                87.0              12                 10.0  1269024.0   \n",
       "38               86.0              12                 11.0  1293424.0   \n",
       "\n",
       "    weekday  load_economy  load_business  fuel_consumption  fuel_cost  \\\n",
       "2         6      0.737288       0.833333              0.04   161976.0   \n",
       "38        6      0.728814       0.916667              0.04   161976.0   \n",
       "\n",
       "      to_med  \n",
       "2   0.864314  \n",
       "38  0.880933  \n",
       "\n",
       "[2 rows x 25 columns]"
      ]
     },
     "execution_count": 21,
     "metadata": {},
     "output_type": "execute_result"
    }
   ],
   "source": [
    "df_moscow['to_med'] = df_moscow['profit']/df_moscow.profit.median() # процентное отношение прибыли к медиане\n",
    "df_moscow[df_moscow.load_economy < 0.75 ]"
   ]
  },
  {
   "cell_type": "code",
   "execution_count": 22,
   "id": "c31b8689",
   "metadata": {},
   "outputs": [
    {
     "data": {
      "text/html": [
       "<div>\n",
       "<style scoped>\n",
       "    .dataframe tbody tr th:only-of-type {\n",
       "        vertical-align: middle;\n",
       "    }\n",
       "\n",
       "    .dataframe tbody tr th {\n",
       "        vertical-align: top;\n",
       "    }\n",
       "\n",
       "    .dataframe thead th {\n",
       "        text-align: right;\n",
       "    }\n",
       "</style>\n",
       "<table border=\"1\" class=\"dataframe\">\n",
       "  <thead>\n",
       "    <tr style=\"text-align: right;\">\n",
       "      <th></th>\n",
       "      <th>flight_id</th>\n",
       "      <th>actual_departure</th>\n",
       "      <th>scheduled_departure</th>\n",
       "      <th>actual_arrival</th>\n",
       "      <th>scheduled_arrival</th>\n",
       "      <th>actual_flight_time</th>\n",
       "      <th>departure_city</th>\n",
       "      <th>departure_airport</th>\n",
       "      <th>arrival_city</th>\n",
       "      <th>arrival_airport</th>\n",
       "      <th>...</th>\n",
       "      <th>economy_passengers</th>\n",
       "      <th>business_seats</th>\n",
       "      <th>business_passengers</th>\n",
       "      <th>profit</th>\n",
       "      <th>weekday</th>\n",
       "      <th>load_economy</th>\n",
       "      <th>load_business</th>\n",
       "      <th>fuel_consumption</th>\n",
       "      <th>fuel_cost</th>\n",
       "      <th>to_med</th>\n",
       "    </tr>\n",
       "  </thead>\n",
       "  <tbody>\n",
       "    <tr>\n",
       "      <th>16</th>\n",
       "      <td>136204</td>\n",
       "      <td>2017-02-23 10:06:00+00:00</td>\n",
       "      <td>2017-02-23 10:05:00+00:00</td>\n",
       "      <td>2017-02-23 11:46:00+00:00</td>\n",
       "      <td>2017-02-23 11:45:00+00:00</td>\n",
       "      <td>100.0</td>\n",
       "      <td>Anapa</td>\n",
       "      <td>AAQ</td>\n",
       "      <td>Moscow</td>\n",
       "      <td>SVO</td>\n",
       "      <td>...</td>\n",
       "      <td>101.0</td>\n",
       "      <td>12</td>\n",
       "      <td>6.0</td>\n",
       "      <td>1295824.00</td>\n",
       "      <td>3</td>\n",
       "      <td>0.855932</td>\n",
       "      <td>0.500000</td>\n",
       "      <td>0.04</td>\n",
       "      <td>161976.00</td>\n",
       "      <td>0.882567</td>\n",
       "    </tr>\n",
       "    <tr>\n",
       "      <th>21</th>\n",
       "      <td>136250</td>\n",
       "      <td>2017-02-08 10:06:00+00:00</td>\n",
       "      <td>2017-02-08 10:05:00+00:00</td>\n",
       "      <td>2017-02-08 11:47:00+00:00</td>\n",
       "      <td>2017-02-08 11:45:00+00:00</td>\n",
       "      <td>101.0</td>\n",
       "      <td>Anapa</td>\n",
       "      <td>AAQ</td>\n",
       "      <td>Moscow</td>\n",
       "      <td>SVO</td>\n",
       "      <td>...</td>\n",
       "      <td>91.0</td>\n",
       "      <td>12</td>\n",
       "      <td>8.0</td>\n",
       "      <td>1244204.24</td>\n",
       "      <td>2</td>\n",
       "      <td>0.771186</td>\n",
       "      <td>0.666667</td>\n",
       "      <td>0.04</td>\n",
       "      <td>163595.76</td>\n",
       "      <td>0.847410</td>\n",
       "    </tr>\n",
       "    <tr>\n",
       "      <th>35</th>\n",
       "      <td>136345</td>\n",
       "      <td>2017-01-24 13:32:00+00:00</td>\n",
       "      <td>2017-01-24 10:05:00+00:00</td>\n",
       "      <td>2017-01-24 15:12:00+00:00</td>\n",
       "      <td>2017-01-24 11:45:00+00:00</td>\n",
       "      <td>100.0</td>\n",
       "      <td>Anapa</td>\n",
       "      <td>AAQ</td>\n",
       "      <td>Moscow</td>\n",
       "      <td>SVO</td>\n",
       "      <td>...</td>\n",
       "      <td>100.0</td>\n",
       "      <td>12</td>\n",
       "      <td>8.0</td>\n",
       "      <td>1355624.00</td>\n",
       "      <td>1</td>\n",
       "      <td>0.847458</td>\n",
       "      <td>0.666667</td>\n",
       "      <td>0.04</td>\n",
       "      <td>161976.00</td>\n",
       "      <td>0.923296</td>\n",
       "    </tr>\n",
       "    <tr>\n",
       "      <th>40</th>\n",
       "      <td>136383</td>\n",
       "      <td>2017-01-25 10:09:00+00:00</td>\n",
       "      <td>2017-01-25 10:05:00+00:00</td>\n",
       "      <td>2017-01-25 11:51:00+00:00</td>\n",
       "      <td>2017-01-25 11:45:00+00:00</td>\n",
       "      <td>102.0</td>\n",
       "      <td>Anapa</td>\n",
       "      <td>AAQ</td>\n",
       "      <td>Moscow</td>\n",
       "      <td>SVO</td>\n",
       "      <td>...</td>\n",
       "      <td>98.0</td>\n",
       "      <td>12</td>\n",
       "      <td>8.0</td>\n",
       "      <td>1327984.48</td>\n",
       "      <td>2</td>\n",
       "      <td>0.830508</td>\n",
       "      <td>0.666667</td>\n",
       "      <td>0.04</td>\n",
       "      <td>165215.52</td>\n",
       "      <td>0.904471</td>\n",
       "    </tr>\n",
       "    <tr>\n",
       "      <th>54</th>\n",
       "      <td>136464</td>\n",
       "      <td>2017-01-09 10:07:00+00:00</td>\n",
       "      <td>2017-01-09 10:05:00+00:00</td>\n",
       "      <td>2017-01-09 11:47:00+00:00</td>\n",
       "      <td>2017-01-09 11:45:00+00:00</td>\n",
       "      <td>100.0</td>\n",
       "      <td>Anapa</td>\n",
       "      <td>AAQ</td>\n",
       "      <td>Moscow</td>\n",
       "      <td>SVO</td>\n",
       "      <td>...</td>\n",
       "      <td>93.0</td>\n",
       "      <td>12</td>\n",
       "      <td>7.0</td>\n",
       "      <td>1236024.00</td>\n",
       "      <td>0</td>\n",
       "      <td>0.788136</td>\n",
       "      <td>0.583333</td>\n",
       "      <td>0.04</td>\n",
       "      <td>161976.00</td>\n",
       "      <td>0.841838</td>\n",
       "    </tr>\n",
       "    <tr>\n",
       "      <th>58</th>\n",
       "      <td>136486</td>\n",
       "      <td>2017-02-02 10:07:00+00:00</td>\n",
       "      <td>2017-02-02 10:05:00+00:00</td>\n",
       "      <td>2017-02-02 11:48:00+00:00</td>\n",
       "      <td>2017-02-02 11:45:00+00:00</td>\n",
       "      <td>101.0</td>\n",
       "      <td>Anapa</td>\n",
       "      <td>AAQ</td>\n",
       "      <td>Moscow</td>\n",
       "      <td>SVO</td>\n",
       "      <td>...</td>\n",
       "      <td>99.0</td>\n",
       "      <td>12</td>\n",
       "      <td>8.0</td>\n",
       "      <td>1341804.24</td>\n",
       "      <td>3</td>\n",
       "      <td>0.838983</td>\n",
       "      <td>0.666667</td>\n",
       "      <td>0.04</td>\n",
       "      <td>163595.76</td>\n",
       "      <td>0.913884</td>\n",
       "    </tr>\n",
       "  </tbody>\n",
       "</table>\n",
       "<p>6 rows × 25 columns</p>\n",
       "</div>"
      ],
      "text/plain": [
       "    flight_id          actual_departure       scheduled_departure  \\\n",
       "16     136204 2017-02-23 10:06:00+00:00 2017-02-23 10:05:00+00:00   \n",
       "21     136250 2017-02-08 10:06:00+00:00 2017-02-08 10:05:00+00:00   \n",
       "35     136345 2017-01-24 13:32:00+00:00 2017-01-24 10:05:00+00:00   \n",
       "40     136383 2017-01-25 10:09:00+00:00 2017-01-25 10:05:00+00:00   \n",
       "54     136464 2017-01-09 10:07:00+00:00 2017-01-09 10:05:00+00:00   \n",
       "58     136486 2017-02-02 10:07:00+00:00 2017-02-02 10:05:00+00:00   \n",
       "\n",
       "              actual_arrival         scheduled_arrival  actual_flight_time  \\\n",
       "16 2017-02-23 11:46:00+00:00 2017-02-23 11:45:00+00:00               100.0   \n",
       "21 2017-02-08 11:47:00+00:00 2017-02-08 11:45:00+00:00               101.0   \n",
       "35 2017-01-24 15:12:00+00:00 2017-01-24 11:45:00+00:00               100.0   \n",
       "40 2017-01-25 11:51:00+00:00 2017-01-25 11:45:00+00:00               102.0   \n",
       "54 2017-01-09 11:47:00+00:00 2017-01-09 11:45:00+00:00               100.0   \n",
       "58 2017-02-02 11:48:00+00:00 2017-02-02 11:45:00+00:00               101.0   \n",
       "\n",
       "   departure_city departure_airport arrival_city arrival_airport  ...  \\\n",
       "16          Anapa               AAQ       Moscow             SVO  ...   \n",
       "21          Anapa               AAQ       Moscow             SVO  ...   \n",
       "35          Anapa               AAQ       Moscow             SVO  ...   \n",
       "40          Anapa               AAQ       Moscow             SVO  ...   \n",
       "54          Anapa               AAQ       Moscow             SVO  ...   \n",
       "58          Anapa               AAQ       Moscow             SVO  ...   \n",
       "\n",
       "   economy_passengers  business_seats  business_passengers      profit  \\\n",
       "16              101.0              12                  6.0  1295824.00   \n",
       "21               91.0              12                  8.0  1244204.24   \n",
       "35              100.0              12                  8.0  1355624.00   \n",
       "40               98.0              12                  8.0  1327984.48   \n",
       "54               93.0              12                  7.0  1236024.00   \n",
       "58               99.0              12                  8.0  1341804.24   \n",
       "\n",
       "    weekday  load_economy  load_business  fuel_consumption  fuel_cost  \\\n",
       "16        3      0.855932       0.500000              0.04  161976.00   \n",
       "21        2      0.771186       0.666667              0.04  163595.76   \n",
       "35        1      0.847458       0.666667              0.04  161976.00   \n",
       "40        2      0.830508       0.666667              0.04  165215.52   \n",
       "54        0      0.788136       0.583333              0.04  161976.00   \n",
       "58        3      0.838983       0.666667              0.04  163595.76   \n",
       "\n",
       "      to_med  \n",
       "16  0.882567  \n",
       "21  0.847410  \n",
       "35  0.923296  \n",
       "40  0.904471  \n",
       "54  0.841838  \n",
       "58  0.913884  \n",
       "\n",
       "[6 rows x 25 columns]"
      ]
     },
     "execution_count": 22,
     "metadata": {},
     "output_type": "execute_result"
    }
   ],
   "source": [
    "df_moscow[df_moscow.load_business < 0.75]"
   ]
  },
  {
   "cell_type": "markdown",
   "id": "c72ca79d",
   "metadata": {},
   "source": [
    "Рейсы в Москву даже при малой загрузке имеют хорошую прибыль"
   ]
  },
  {
   "cell_type": "code",
   "execution_count": 23,
   "id": "d55f1e08",
   "metadata": {},
   "outputs": [
    {
     "data": {
      "text/html": [
       "<div>\n",
       "<style scoped>\n",
       "    .dataframe tbody tr th:only-of-type {\n",
       "        vertical-align: middle;\n",
       "    }\n",
       "\n",
       "    .dataframe tbody tr th {\n",
       "        vertical-align: top;\n",
       "    }\n",
       "\n",
       "    .dataframe thead th {\n",
       "        text-align: right;\n",
       "    }\n",
       "</style>\n",
       "<table border=\"1\" class=\"dataframe\">\n",
       "  <thead>\n",
       "    <tr style=\"text-align: right;\">\n",
       "      <th></th>\n",
       "      <th>flight_id</th>\n",
       "      <th>actual_departure</th>\n",
       "      <th>scheduled_departure</th>\n",
       "      <th>actual_arrival</th>\n",
       "      <th>scheduled_arrival</th>\n",
       "      <th>actual_flight_time</th>\n",
       "      <th>departure_city</th>\n",
       "      <th>departure_airport</th>\n",
       "      <th>arrival_city</th>\n",
       "      <th>arrival_airport</th>\n",
       "      <th>...</th>\n",
       "      <th>economy_passengers</th>\n",
       "      <th>business_seats</th>\n",
       "      <th>business_passengers</th>\n",
       "      <th>profit</th>\n",
       "      <th>weekday</th>\n",
       "      <th>load_economy</th>\n",
       "      <th>load_business</th>\n",
       "      <th>fuel_consumption</th>\n",
       "      <th>fuel_cost</th>\n",
       "      <th>to_med</th>\n",
       "    </tr>\n",
       "  </thead>\n",
       "  <tbody>\n",
       "    <tr>\n",
       "      <th>77</th>\n",
       "      <td>136642</td>\n",
       "      <td>2017-01-30 09:28:00+00:00</td>\n",
       "      <td>2017-01-30 09:25:00+00:00</td>\n",
       "      <td>2017-01-30 10:17:00+00:00</td>\n",
       "      <td>2017-01-30 10:15:00+00:00</td>\n",
       "      <td>49.0</td>\n",
       "      <td>Anapa</td>\n",
       "      <td>AAQ</td>\n",
       "      <td>Belgorod</td>\n",
       "      <td>EGO</td>\n",
       "      <td>...</td>\n",
       "      <td>54.0</td>\n",
       "      <td>12</td>\n",
       "      <td>10.0</td>\n",
       "      <td>475442.232</td>\n",
       "      <td>0</td>\n",
       "      <td>0.635294</td>\n",
       "      <td>0.833333</td>\n",
       "      <td>0.028</td>\n",
       "      <td>55557.768</td>\n",
       "      <td>0.689338</td>\n",
       "    </tr>\n",
       "    <tr>\n",
       "      <th>102</th>\n",
       "      <td>136807</td>\n",
       "      <td>2017-02-23 09:28:00+00:00</td>\n",
       "      <td>2017-02-23 09:25:00+00:00</td>\n",
       "      <td>2017-02-23 10:18:00+00:00</td>\n",
       "      <td>2017-02-23 10:15:00+00:00</td>\n",
       "      <td>50.0</td>\n",
       "      <td>Anapa</td>\n",
       "      <td>AAQ</td>\n",
       "      <td>Belgorod</td>\n",
       "      <td>EGO</td>\n",
       "      <td>...</td>\n",
       "      <td>60.0</td>\n",
       "      <td>12</td>\n",
       "      <td>8.0</td>\n",
       "      <td>474308.400</td>\n",
       "      <td>3</td>\n",
       "      <td>0.705882</td>\n",
       "      <td>0.666667</td>\n",
       "      <td>0.028</td>\n",
       "      <td>56691.600</td>\n",
       "      <td>0.687694</td>\n",
       "    </tr>\n",
       "  </tbody>\n",
       "</table>\n",
       "<p>2 rows × 25 columns</p>\n",
       "</div>"
      ],
      "text/plain": [
       "     flight_id          actual_departure       scheduled_departure  \\\n",
       "77      136642 2017-01-30 09:28:00+00:00 2017-01-30 09:25:00+00:00   \n",
       "102     136807 2017-02-23 09:28:00+00:00 2017-02-23 09:25:00+00:00   \n",
       "\n",
       "               actual_arrival         scheduled_arrival  actual_flight_time  \\\n",
       "77  2017-01-30 10:17:00+00:00 2017-01-30 10:15:00+00:00                49.0   \n",
       "102 2017-02-23 10:18:00+00:00 2017-02-23 10:15:00+00:00                50.0   \n",
       "\n",
       "    departure_city departure_airport arrival_city arrival_airport  ...  \\\n",
       "77           Anapa               AAQ     Belgorod             EGO  ...   \n",
       "102          Anapa               AAQ     Belgorod             EGO  ...   \n",
       "\n",
       "    economy_passengers  business_seats  business_passengers      profit  \\\n",
       "77                54.0              12                 10.0  475442.232   \n",
       "102               60.0              12                  8.0  474308.400   \n",
       "\n",
       "     weekday  load_economy  load_business  fuel_consumption  fuel_cost  \\\n",
       "77         0      0.635294       0.833333             0.028  55557.768   \n",
       "102        3      0.705882       0.666667             0.028  56691.600   \n",
       "\n",
       "       to_med  \n",
       "77   0.689338  \n",
       "102  0.687694  \n",
       "\n",
       "[2 rows x 25 columns]"
      ]
     },
     "execution_count": 23,
     "metadata": {},
     "output_type": "execute_result"
    }
   ],
   "source": [
    "df_belgorod['to_med'] = df_belgorod['profit']/df_belgorod.profit.median() # процентное отношение прибыли к медиане\n",
    "df_belgorod[df_belgorod.load_economy < 0.75 ]"
   ]
  },
  {
   "cell_type": "code",
   "execution_count": 24,
   "id": "1261ca34",
   "metadata": {},
   "outputs": [
    {
     "data": {
      "text/html": [
       "<div>\n",
       "<style scoped>\n",
       "    .dataframe tbody tr th:only-of-type {\n",
       "        vertical-align: middle;\n",
       "    }\n",
       "\n",
       "    .dataframe tbody tr th {\n",
       "        vertical-align: top;\n",
       "    }\n",
       "\n",
       "    .dataframe thead th {\n",
       "        text-align: right;\n",
       "    }\n",
       "</style>\n",
       "<table border=\"1\" class=\"dataframe\">\n",
       "  <thead>\n",
       "    <tr style=\"text-align: right;\">\n",
       "      <th></th>\n",
       "      <th>flight_id</th>\n",
       "      <th>actual_departure</th>\n",
       "      <th>scheduled_departure</th>\n",
       "      <th>actual_arrival</th>\n",
       "      <th>scheduled_arrival</th>\n",
       "      <th>actual_flight_time</th>\n",
       "      <th>departure_city</th>\n",
       "      <th>departure_airport</th>\n",
       "      <th>arrival_city</th>\n",
       "      <th>arrival_airport</th>\n",
       "      <th>...</th>\n",
       "      <th>economy_passengers</th>\n",
       "      <th>business_seats</th>\n",
       "      <th>business_passengers</th>\n",
       "      <th>profit</th>\n",
       "      <th>weekday</th>\n",
       "      <th>load_economy</th>\n",
       "      <th>load_business</th>\n",
       "      <th>fuel_consumption</th>\n",
       "      <th>fuel_cost</th>\n",
       "      <th>to_med</th>\n",
       "    </tr>\n",
       "  </thead>\n",
       "  <tbody>\n",
       "    <tr>\n",
       "      <th>102</th>\n",
       "      <td>136807</td>\n",
       "      <td>2017-02-23 09:28:00+00:00</td>\n",
       "      <td>2017-02-23 09:25:00+00:00</td>\n",
       "      <td>2017-02-23 10:18:00+00:00</td>\n",
       "      <td>2017-02-23 10:15:00+00:00</td>\n",
       "      <td>50.0</td>\n",
       "      <td>Anapa</td>\n",
       "      <td>AAQ</td>\n",
       "      <td>Belgorod</td>\n",
       "      <td>EGO</td>\n",
       "      <td>...</td>\n",
       "      <td>60.0</td>\n",
       "      <td>12</td>\n",
       "      <td>8.0</td>\n",
       "      <td>474308.400</td>\n",
       "      <td>3</td>\n",
       "      <td>0.705882</td>\n",
       "      <td>0.666667</td>\n",
       "      <td>0.028</td>\n",
       "      <td>56691.600</td>\n",
       "      <td>0.687694</td>\n",
       "    </tr>\n",
       "    <tr>\n",
       "      <th>109</th>\n",
       "      <td>136844</td>\n",
       "      <td>2017-02-28 09:26:00+00:00</td>\n",
       "      <td>2017-02-28 09:25:00+00:00</td>\n",
       "      <td>2017-02-28 10:16:00+00:00</td>\n",
       "      <td>2017-02-28 10:15:00+00:00</td>\n",
       "      <td>50.0</td>\n",
       "      <td>Anapa</td>\n",
       "      <td>AAQ</td>\n",
       "      <td>Belgorod</td>\n",
       "      <td>EGO</td>\n",
       "      <td>...</td>\n",
       "      <td>73.0</td>\n",
       "      <td>12</td>\n",
       "      <td>6.0</td>\n",
       "      <td>518408.400</td>\n",
       "      <td>1</td>\n",
       "      <td>0.858824</td>\n",
       "      <td>0.500000</td>\n",
       "      <td>0.028</td>\n",
       "      <td>56691.600</td>\n",
       "      <td>0.751634</td>\n",
       "    </tr>\n",
       "    <tr>\n",
       "      <th>116</th>\n",
       "      <td>136887</td>\n",
       "      <td>2017-01-20 09:30:00+00:00</td>\n",
       "      <td>2017-01-20 09:25:00+00:00</td>\n",
       "      <td>2017-01-20 10:19:00+00:00</td>\n",
       "      <td>2017-01-20 10:15:00+00:00</td>\n",
       "      <td>49.0</td>\n",
       "      <td>Anapa</td>\n",
       "      <td>AAQ</td>\n",
       "      <td>Belgorod</td>\n",
       "      <td>EGO</td>\n",
       "      <td>...</td>\n",
       "      <td>70.0</td>\n",
       "      <td>12</td>\n",
       "      <td>8.0</td>\n",
       "      <td>539642.232</td>\n",
       "      <td>4</td>\n",
       "      <td>0.823529</td>\n",
       "      <td>0.666667</td>\n",
       "      <td>0.028</td>\n",
       "      <td>55557.768</td>\n",
       "      <td>0.782421</td>\n",
       "    </tr>\n",
       "  </tbody>\n",
       "</table>\n",
       "<p>3 rows × 25 columns</p>\n",
       "</div>"
      ],
      "text/plain": [
       "     flight_id          actual_departure       scheduled_departure  \\\n",
       "102     136807 2017-02-23 09:28:00+00:00 2017-02-23 09:25:00+00:00   \n",
       "109     136844 2017-02-28 09:26:00+00:00 2017-02-28 09:25:00+00:00   \n",
       "116     136887 2017-01-20 09:30:00+00:00 2017-01-20 09:25:00+00:00   \n",
       "\n",
       "               actual_arrival         scheduled_arrival  actual_flight_time  \\\n",
       "102 2017-02-23 10:18:00+00:00 2017-02-23 10:15:00+00:00                50.0   \n",
       "109 2017-02-28 10:16:00+00:00 2017-02-28 10:15:00+00:00                50.0   \n",
       "116 2017-01-20 10:19:00+00:00 2017-01-20 10:15:00+00:00                49.0   \n",
       "\n",
       "    departure_city departure_airport arrival_city arrival_airport  ...  \\\n",
       "102          Anapa               AAQ     Belgorod             EGO  ...   \n",
       "109          Anapa               AAQ     Belgorod             EGO  ...   \n",
       "116          Anapa               AAQ     Belgorod             EGO  ...   \n",
       "\n",
       "    economy_passengers  business_seats  business_passengers      profit  \\\n",
       "102               60.0              12                  8.0  474308.400   \n",
       "109               73.0              12                  6.0  518408.400   \n",
       "116               70.0              12                  8.0  539642.232   \n",
       "\n",
       "     weekday  load_economy  load_business  fuel_consumption  fuel_cost  \\\n",
       "102        3      0.705882       0.666667             0.028  56691.600   \n",
       "109        1      0.858824       0.500000             0.028  56691.600   \n",
       "116        4      0.823529       0.666667             0.028  55557.768   \n",
       "\n",
       "       to_med  \n",
       "102  0.687694  \n",
       "109  0.751634  \n",
       "116  0.782421  \n",
       "\n",
       "[3 rows x 25 columns]"
      ]
     },
     "execution_count": 24,
     "metadata": {},
     "output_type": "execute_result"
    }
   ],
   "source": [
    "df_belgorod[df_belgorod.load_business < 0.75]"
   ]
  },
  {
   "cell_type": "markdown",
   "id": "769944ad",
   "metadata": {},
   "source": [
    "А вот рейсы в Белгород очень зависят от загрузки самолёта"
   ]
  },
  {
   "cell_type": "code",
   "execution_count": 25,
   "id": "230b0a3b",
   "metadata": {},
   "outputs": [
    {
     "data": {
      "text/plain": [
       "Text(0.5, 1.0, 'Moscow_corr')"
      ]
     },
     "execution_count": 25,
     "metadata": {},
     "output_type": "execute_result"
    },
    {
     "data": {
      "image/png": "[encoded data removed]",
      "text/plain": [
       "<Figure size 720x720 with 2 Axes>"
      ]
     },
     "metadata": {
      "needs_background": "light"
     },
     "output_type": "display_data"
    }
   ],
   "source": [
    "mc = sns.heatmap(df_moscow.drop(['flight_id', 'departure_city','departure_airport','arrival_city','arrival_airport',\n",
    "                            'model','range','seats','passengers','economy_seats',\n",
    "                            'business_seats','fuel_consumption', 'fuel_cost' ], axis=1).corr(), annot=True, cmap='coolwarm')\n",
    "plt.gcf().set_size_inches(10, 10)\n",
    "mc.set_title(\"Moscow_corr\")"
   ]
  },
  {
   "cell_type": "code",
   "execution_count": 26,
   "id": "f9412611",
   "metadata": {},
   "outputs": [
    {
     "data": {
      "text/plain": [
       "Text(0.5, 1.0, 'Belgorod_corr')"
      ]
     },
     "execution_count": 26,
     "metadata": {},
     "output_type": "execute_result"
    },
    {
     "data": {
      "image/png": "[encoded data removed]",
      "text/plain": [
       "<Figure size 720x720 with 2 Axes>"
      ]
     },
     "metadata": {
      "needs_background": "light"
     },
     "output_type": "display_data"
    }
   ],
   "source": [
    "bc = sns.heatmap(df_belgorod.drop(['flight_id', 'departure_city','departure_airport','arrival_city','arrival_airport',\n",
    "                            'model','range','seats','passengers','economy_seats',\n",
    "                            'business_seats','fuel_consumption', 'fuel_cost' ], axis=1).corr(), annot=True, cmap='coolwarm')\n",
    "plt.gcf().set_size_inches(10, 10)\n",
    "bc.set_title(\"Belgorod_corr\")"
   ]
  },
  {
   "cell_type": "markdown",
   "id": "6834eb97",
   "metadata": {},
   "source": [
    "Как бы очевидно это не звучало, но прибыль зависит от заполняемости рейса"
   ]
  },
  {
   "cell_type": "code",
   "execution_count": 27,
   "id": "44fc222e",
   "metadata": {},
   "outputs": [
    {
     "data": {
      "text/html": [
       "<div>\n",
       "<style scoped>\n",
       "    .dataframe tbody tr th:only-of-type {\n",
       "        vertical-align: middle;\n",
       "    }\n",
       "\n",
       "    .dataframe tbody tr th {\n",
       "        vertical-align: top;\n",
       "    }\n",
       "\n",
       "    .dataframe thead th {\n",
       "        text-align: right;\n",
       "    }\n",
       "</style>\n",
       "<table border=\"1\" class=\"dataframe\">\n",
       "  <thead>\n",
       "    <tr style=\"text-align: right;\">\n",
       "      <th></th>\n",
       "      <th>flight_id</th>\n",
       "      <th>actual_departure</th>\n",
       "      <th>scheduled_departure</th>\n",
       "      <th>actual_arrival</th>\n",
       "      <th>scheduled_arrival</th>\n",
       "      <th>actual_flight_time</th>\n",
       "      <th>departure_city</th>\n",
       "      <th>departure_airport</th>\n",
       "      <th>arrival_city</th>\n",
       "      <th>arrival_airport</th>\n",
       "      <th>...</th>\n",
       "      <th>economy_passengers</th>\n",
       "      <th>business_seats</th>\n",
       "      <th>business_passengers</th>\n",
       "      <th>profit</th>\n",
       "      <th>weekday</th>\n",
       "      <th>load_economy</th>\n",
       "      <th>load_business</th>\n",
       "      <th>fuel_consumption</th>\n",
       "      <th>fuel_cost</th>\n",
       "      <th>to_med</th>\n",
       "    </tr>\n",
       "  </thead>\n",
       "  <tbody>\n",
       "    <tr>\n",
       "      <th>54</th>\n",
       "      <td>136464</td>\n",
       "      <td>2017-01-09 10:07:00+00:00</td>\n",
       "      <td>2017-01-09 10:05:00+00:00</td>\n",
       "      <td>2017-01-09 11:47:00+00:00</td>\n",
       "      <td>2017-01-09 11:45:00+00:00</td>\n",
       "      <td>100.0</td>\n",
       "      <td>Anapa</td>\n",
       "      <td>AAQ</td>\n",
       "      <td>Moscow</td>\n",
       "      <td>SVO</td>\n",
       "      <td>...</td>\n",
       "      <td>93.0</td>\n",
       "      <td>12</td>\n",
       "      <td>7.0</td>\n",
       "      <td>1236024.00</td>\n",
       "      <td>0</td>\n",
       "      <td>0.788136</td>\n",
       "      <td>0.583333</td>\n",
       "      <td>0.04</td>\n",
       "      <td>161976.00</td>\n",
       "      <td>0.841838</td>\n",
       "    </tr>\n",
       "    <tr>\n",
       "      <th>21</th>\n",
       "      <td>136250</td>\n",
       "      <td>2017-02-08 10:06:00+00:00</td>\n",
       "      <td>2017-02-08 10:05:00+00:00</td>\n",
       "      <td>2017-02-08 11:47:00+00:00</td>\n",
       "      <td>2017-02-08 11:45:00+00:00</td>\n",
       "      <td>101.0</td>\n",
       "      <td>Anapa</td>\n",
       "      <td>AAQ</td>\n",
       "      <td>Moscow</td>\n",
       "      <td>SVO</td>\n",
       "      <td>...</td>\n",
       "      <td>91.0</td>\n",
       "      <td>12</td>\n",
       "      <td>8.0</td>\n",
       "      <td>1244204.24</td>\n",
       "      <td>2</td>\n",
       "      <td>0.771186</td>\n",
       "      <td>0.666667</td>\n",
       "      <td>0.04</td>\n",
       "      <td>163595.76</td>\n",
       "      <td>0.847410</td>\n",
       "    </tr>\n",
       "    <tr>\n",
       "      <th>2</th>\n",
       "      <td>136122</td>\n",
       "      <td>2017-01-08 10:08:00+00:00</td>\n",
       "      <td>2017-01-08 10:05:00+00:00</td>\n",
       "      <td>2017-01-08 11:48:00+00:00</td>\n",
       "      <td>2017-01-08 11:45:00+00:00</td>\n",
       "      <td>100.0</td>\n",
       "      <td>Anapa</td>\n",
       "      <td>AAQ</td>\n",
       "      <td>Moscow</td>\n",
       "      <td>SVO</td>\n",
       "      <td>...</td>\n",
       "      <td>87.0</td>\n",
       "      <td>12</td>\n",
       "      <td>10.0</td>\n",
       "      <td>1269024.00</td>\n",
       "      <td>6</td>\n",
       "      <td>0.737288</td>\n",
       "      <td>0.833333</td>\n",
       "      <td>0.04</td>\n",
       "      <td>161976.00</td>\n",
       "      <td>0.864314</td>\n",
       "    </tr>\n",
       "    <tr>\n",
       "      <th>12</th>\n",
       "      <td>136178</td>\n",
       "      <td>2017-01-29 10:10:00+00:00</td>\n",
       "      <td>2017-01-29 10:05:00+00:00</td>\n",
       "      <td>2017-01-29 11:49:00+00:00</td>\n",
       "      <td>2017-01-29 11:45:00+00:00</td>\n",
       "      <td>99.0</td>\n",
       "      <td>Anapa</td>\n",
       "      <td>AAQ</td>\n",
       "      <td>Moscow</td>\n",
       "      <td>SVO</td>\n",
       "      <td>...</td>\n",
       "      <td>90.0</td>\n",
       "      <td>12</td>\n",
       "      <td>9.0</td>\n",
       "      <td>1274243.76</td>\n",
       "      <td>6</td>\n",
       "      <td>0.762712</td>\n",
       "      <td>0.750000</td>\n",
       "      <td>0.04</td>\n",
       "      <td>160356.24</td>\n",
       "      <td>0.867869</td>\n",
       "    </tr>\n",
       "    <tr>\n",
       "      <th>38</th>\n",
       "      <td>136360</td>\n",
       "      <td>2017-02-05 10:08:00+00:00</td>\n",
       "      <td>2017-02-05 10:05:00+00:00</td>\n",
       "      <td>2017-02-05 11:48:00+00:00</td>\n",
       "      <td>2017-02-05 11:45:00+00:00</td>\n",
       "      <td>100.0</td>\n",
       "      <td>Anapa</td>\n",
       "      <td>AAQ</td>\n",
       "      <td>Moscow</td>\n",
       "      <td>SVO</td>\n",
       "      <td>...</td>\n",
       "      <td>86.0</td>\n",
       "      <td>12</td>\n",
       "      <td>11.0</td>\n",
       "      <td>1293424.00</td>\n",
       "      <td>6</td>\n",
       "      <td>0.728814</td>\n",
       "      <td>0.916667</td>\n",
       "      <td>0.04</td>\n",
       "      <td>161976.00</td>\n",
       "      <td>0.880933</td>\n",
       "    </tr>\n",
       "    <tr>\n",
       "      <th>16</th>\n",
       "      <td>136204</td>\n",
       "      <td>2017-02-23 10:06:00+00:00</td>\n",
       "      <td>2017-02-23 10:05:00+00:00</td>\n",
       "      <td>2017-02-23 11:46:00+00:00</td>\n",
       "      <td>2017-02-23 11:45:00+00:00</td>\n",
       "      <td>100.0</td>\n",
       "      <td>Anapa</td>\n",
       "      <td>AAQ</td>\n",
       "      <td>Moscow</td>\n",
       "      <td>SVO</td>\n",
       "      <td>...</td>\n",
       "      <td>101.0</td>\n",
       "      <td>12</td>\n",
       "      <td>6.0</td>\n",
       "      <td>1295824.00</td>\n",
       "      <td>3</td>\n",
       "      <td>0.855932</td>\n",
       "      <td>0.500000</td>\n",
       "      <td>0.04</td>\n",
       "      <td>161976.00</td>\n",
       "      <td>0.882567</td>\n",
       "    </tr>\n",
       "    <tr>\n",
       "      <th>40</th>\n",
       "      <td>136383</td>\n",
       "      <td>2017-01-25 10:09:00+00:00</td>\n",
       "      <td>2017-01-25 10:05:00+00:00</td>\n",
       "      <td>2017-01-25 11:51:00+00:00</td>\n",
       "      <td>2017-01-25 11:45:00+00:00</td>\n",
       "      <td>102.0</td>\n",
       "      <td>Anapa</td>\n",
       "      <td>AAQ</td>\n",
       "      <td>Moscow</td>\n",
       "      <td>SVO</td>\n",
       "      <td>...</td>\n",
       "      <td>98.0</td>\n",
       "      <td>12</td>\n",
       "      <td>8.0</td>\n",
       "      <td>1327984.48</td>\n",
       "      <td>2</td>\n",
       "      <td>0.830508</td>\n",
       "      <td>0.666667</td>\n",
       "      <td>0.04</td>\n",
       "      <td>165215.52</td>\n",
       "      <td>0.904471</td>\n",
       "    </tr>\n",
       "    <tr>\n",
       "      <th>15</th>\n",
       "      <td>136202</td>\n",
       "      <td>2017-01-05 10:07:00+00:00</td>\n",
       "      <td>2017-01-05 10:05:00+00:00</td>\n",
       "      <td>2017-01-05 11:49:00+00:00</td>\n",
       "      <td>2017-01-05 11:45:00+00:00</td>\n",
       "      <td>102.0</td>\n",
       "      <td>Anapa</td>\n",
       "      <td>AAQ</td>\n",
       "      <td>Moscow</td>\n",
       "      <td>SVO</td>\n",
       "      <td>...</td>\n",
       "      <td>89.0</td>\n",
       "      <td>12</td>\n",
       "      <td>11.0</td>\n",
       "      <td>1330384.48</td>\n",
       "      <td>3</td>\n",
       "      <td>0.754237</td>\n",
       "      <td>0.916667</td>\n",
       "      <td>0.04</td>\n",
       "      <td>165215.52</td>\n",
       "      <td>0.906106</td>\n",
       "    </tr>\n",
       "    <tr>\n",
       "      <th>58</th>\n",
       "      <td>136486</td>\n",
       "      <td>2017-02-02 10:07:00+00:00</td>\n",
       "      <td>2017-02-02 10:05:00+00:00</td>\n",
       "      <td>2017-02-02 11:48:00+00:00</td>\n",
       "      <td>2017-02-02 11:45:00+00:00</td>\n",
       "      <td>101.0</td>\n",
       "      <td>Anapa</td>\n",
       "      <td>AAQ</td>\n",
       "      <td>Moscow</td>\n",
       "      <td>SVO</td>\n",
       "      <td>...</td>\n",
       "      <td>99.0</td>\n",
       "      <td>12</td>\n",
       "      <td>8.0</td>\n",
       "      <td>1341804.24</td>\n",
       "      <td>3</td>\n",
       "      <td>0.838983</td>\n",
       "      <td>0.666667</td>\n",
       "      <td>0.04</td>\n",
       "      <td>163595.76</td>\n",
       "      <td>0.913884</td>\n",
       "    </tr>\n",
       "    <tr>\n",
       "      <th>14</th>\n",
       "      <td>136185</td>\n",
       "      <td>2017-01-14 10:06:00+00:00</td>\n",
       "      <td>2017-01-14 10:05:00+00:00</td>\n",
       "      <td>2017-01-14 11:49:00+00:00</td>\n",
       "      <td>2017-01-14 11:45:00+00:00</td>\n",
       "      <td>103.0</td>\n",
       "      <td>Anapa</td>\n",
       "      <td>AAQ</td>\n",
       "      <td>Moscow</td>\n",
       "      <td>SVO</td>\n",
       "      <td>...</td>\n",
       "      <td>94.0</td>\n",
       "      <td>12</td>\n",
       "      <td>10.0</td>\n",
       "      <td>1353164.72</td>\n",
       "      <td>5</td>\n",
       "      <td>0.796610</td>\n",
       "      <td>0.833333</td>\n",
       "      <td>0.04</td>\n",
       "      <td>166835.28</td>\n",
       "      <td>0.921621</td>\n",
       "    </tr>\n",
       "  </tbody>\n",
       "</table>\n",
       "<p>10 rows × 25 columns</p>\n",
       "</div>"
      ],
      "text/plain": [
       "    flight_id          actual_departure       scheduled_departure  \\\n",
       "54     136464 2017-01-09 10:07:00+00:00 2017-01-09 10:05:00+00:00   \n",
       "21     136250 2017-02-08 10:06:00+00:00 2017-02-08 10:05:00+00:00   \n",
       "2      136122 2017-01-08 10:08:00+00:00 2017-01-08 10:05:00+00:00   \n",
       "12     136178 2017-01-29 10:10:00+00:00 2017-01-29 10:05:00+00:00   \n",
       "38     136360 2017-02-05 10:08:00+00:00 2017-02-05 10:05:00+00:00   \n",
       "16     136204 2017-02-23 10:06:00+00:00 2017-02-23 10:05:00+00:00   \n",
       "40     136383 2017-01-25 10:09:00+00:00 2017-01-25 10:05:00+00:00   \n",
       "15     136202 2017-01-05 10:07:00+00:00 2017-01-05 10:05:00+00:00   \n",
       "58     136486 2017-02-02 10:07:00+00:00 2017-02-02 10:05:00+00:00   \n",
       "14     136185 2017-01-14 10:06:00+00:00 2017-01-14 10:05:00+00:00   \n",
       "\n",
       "              actual_arrival         scheduled_arrival  actual_flight_time  \\\n",
       "54 2017-01-09 11:47:00+00:00 2017-01-09 11:45:00+00:00               100.0   \n",
       "21 2017-02-08 11:47:00+00:00 2017-02-08 11:45:00+00:00               101.0   \n",
       "2  2017-01-08 11:48:00+00:00 2017-01-08 11:45:00+00:00               100.0   \n",
       "12 2017-01-29 11:49:00+00:00 2017-01-29 11:45:00+00:00                99.0   \n",
       "38 2017-02-05 11:48:00+00:00 2017-02-05 11:45:00+00:00               100.0   \n",
       "16 2017-02-23 11:46:00+00:00 2017-02-23 11:45:00+00:00               100.0   \n",
       "40 2017-01-25 11:51:00+00:00 2017-01-25 11:45:00+00:00               102.0   \n",
       "15 2017-01-05 11:49:00+00:00 2017-01-05 11:45:00+00:00               102.0   \n",
       "58 2017-02-02 11:48:00+00:00 2017-02-02 11:45:00+00:00               101.0   \n",
       "14 2017-01-14 11:49:00+00:00 2017-01-14 11:45:00+00:00               103.0   \n",
       "\n",
       "   departure_city departure_airport arrival_city arrival_airport  ...  \\\n",
       "54          Anapa               AAQ       Moscow             SVO  ...   \n",
       "21          Anapa               AAQ       Moscow             SVO  ...   \n",
       "2           Anapa               AAQ       Moscow             SVO  ...   \n",
       "12          Anapa               AAQ       Moscow             SVO  ...   \n",
       "38          Anapa               AAQ       Moscow             SVO  ...   \n",
       "16          Anapa               AAQ       Moscow             SVO  ...   \n",
       "40          Anapa               AAQ       Moscow             SVO  ...   \n",
       "15          Anapa               AAQ       Moscow             SVO  ...   \n",
       "58          Anapa               AAQ       Moscow             SVO  ...   \n",
       "14          Anapa               AAQ       Moscow             SVO  ...   \n",
       "\n",
       "   economy_passengers  business_seats  business_passengers      profit  \\\n",
       "54               93.0              12                  7.0  1236024.00   \n",
       "21               91.0              12                  8.0  1244204.24   \n",
       "2                87.0              12                 10.0  1269024.00   \n",
       "12               90.0              12                  9.0  1274243.76   \n",
       "38               86.0              12                 11.0  1293424.00   \n",
       "16              101.0              12                  6.0  1295824.00   \n",
       "40               98.0              12                  8.0  1327984.48   \n",
       "15               89.0              12                 11.0  1330384.48   \n",
       "58               99.0              12                  8.0  1341804.24   \n",
       "14               94.0              12                 10.0  1353164.72   \n",
       "\n",
       "    weekday  load_economy  load_business  fuel_consumption  fuel_cost  \\\n",
       "54        0      0.788136       0.583333              0.04  161976.00   \n",
       "21        2      0.771186       0.666667              0.04  163595.76   \n",
       "2         6      0.737288       0.833333              0.04  161976.00   \n",
       "12        6      0.762712       0.750000              0.04  160356.24   \n",
       "38        6      0.728814       0.916667              0.04  161976.00   \n",
       "16        3      0.855932       0.500000              0.04  161976.00   \n",
       "40        2      0.830508       0.666667              0.04  165215.52   \n",
       "15        3      0.754237       0.916667              0.04  165215.52   \n",
       "58        3      0.838983       0.666667              0.04  163595.76   \n",
       "14        5      0.796610       0.833333              0.04  166835.28   \n",
       "\n",
       "      to_med  \n",
       "54  0.841838  \n",
       "21  0.847410  \n",
       "2   0.864314  \n",
       "12  0.867869  \n",
       "38  0.880933  \n",
       "16  0.882567  \n",
       "40  0.904471  \n",
       "15  0.906106  \n",
       "58  0.913884  \n",
       "14  0.921621  \n",
       "\n",
       "[10 rows x 25 columns]"
      ]
     },
     "execution_count": 27,
     "metadata": {},
     "output_type": "execute_result"
    }
   ],
   "source": [
    "df_moscow.sort_values(by='profit').head(10)"
   ]
  },
  {
   "cell_type": "code",
   "execution_count": 28,
   "id": "66fae416",
   "metadata": {},
   "outputs": [
    {
     "data": {
      "text/html": [
       "<div>\n",
       "<style scoped>\n",
       "    .dataframe tbody tr th:only-of-type {\n",
       "        vertical-align: middle;\n",
       "    }\n",
       "\n",
       "    .dataframe tbody tr th {\n",
       "        vertical-align: top;\n",
       "    }\n",
       "\n",
       "    .dataframe thead th {\n",
       "        text-align: right;\n",
       "    }\n",
       "</style>\n",
       "<table border=\"1\" class=\"dataframe\">\n",
       "  <thead>\n",
       "    <tr style=\"text-align: right;\">\n",
       "      <th></th>\n",
       "      <th>flight_id</th>\n",
       "      <th>actual_departure</th>\n",
       "      <th>scheduled_departure</th>\n",
       "      <th>actual_arrival</th>\n",
       "      <th>scheduled_arrival</th>\n",
       "      <th>actual_flight_time</th>\n",
       "      <th>departure_city</th>\n",
       "      <th>departure_airport</th>\n",
       "      <th>arrival_city</th>\n",
       "      <th>arrival_airport</th>\n",
       "      <th>...</th>\n",
       "      <th>economy_passengers</th>\n",
       "      <th>business_seats</th>\n",
       "      <th>business_passengers</th>\n",
       "      <th>profit</th>\n",
       "      <th>weekday</th>\n",
       "      <th>load_economy</th>\n",
       "      <th>load_business</th>\n",
       "      <th>fuel_consumption</th>\n",
       "      <th>fuel_cost</th>\n",
       "      <th>to_med</th>\n",
       "    </tr>\n",
       "  </thead>\n",
       "  <tbody>\n",
       "    <tr>\n",
       "      <th>38</th>\n",
       "      <td>136360</td>\n",
       "      <td>2017-02-05 10:08:00+00:00</td>\n",
       "      <td>2017-02-05 10:05:00+00:00</td>\n",
       "      <td>2017-02-05 11:48:00+00:00</td>\n",
       "      <td>2017-02-05 11:45:00+00:00</td>\n",
       "      <td>100.0</td>\n",
       "      <td>Anapa</td>\n",
       "      <td>AAQ</td>\n",
       "      <td>Moscow</td>\n",
       "      <td>SVO</td>\n",
       "      <td>...</td>\n",
       "      <td>86.0</td>\n",
       "      <td>12</td>\n",
       "      <td>11.0</td>\n",
       "      <td>1293424.0</td>\n",
       "      <td>6</td>\n",
       "      <td>0.728814</td>\n",
       "      <td>0.916667</td>\n",
       "      <td>0.04</td>\n",
       "      <td>161976.0</td>\n",
       "      <td>0.880933</td>\n",
       "    </tr>\n",
       "  </tbody>\n",
       "</table>\n",
       "<p>1 rows × 25 columns</p>\n",
       "</div>"
      ],
      "text/plain": [
       "    flight_id          actual_departure       scheduled_departure  \\\n",
       "38     136360 2017-02-05 10:08:00+00:00 2017-02-05 10:05:00+00:00   \n",
       "\n",
       "              actual_arrival         scheduled_arrival  actual_flight_time  \\\n",
       "38 2017-02-05 11:48:00+00:00 2017-02-05 11:45:00+00:00               100.0   \n",
       "\n",
       "   departure_city departure_airport arrival_city arrival_airport  ...  \\\n",
       "38          Anapa               AAQ       Moscow             SVO  ...   \n",
       "\n",
       "   economy_passengers  business_seats  business_passengers     profit  \\\n",
       "38               86.0              12                 11.0  1293424.0   \n",
       "\n",
       "    weekday  load_economy  load_business  fuel_consumption  fuel_cost  \\\n",
       "38        6      0.728814       0.916667              0.04   161976.0   \n",
       "\n",
       "      to_med  \n",
       "38  0.880933  \n",
       "\n",
       "[1 rows x 25 columns]"
      ]
     },
     "execution_count": 28,
     "metadata": {},
     "output_type": "execute_result"
    }
   ],
   "source": [
    "df_moscow[df_moscow.load_economy == df_moscow.load_economy.min()]"
   ]
  },
  {
   "cell_type": "code",
   "execution_count": 29,
   "id": "f909a222",
   "metadata": {},
   "outputs": [
    {
     "data": {
      "text/html": [
       "<div>\n",
       "<style scoped>\n",
       "    .dataframe tbody tr th:only-of-type {\n",
       "        vertical-align: middle;\n",
       "    }\n",
       "\n",
       "    .dataframe tbody tr th {\n",
       "        vertical-align: top;\n",
       "    }\n",
       "\n",
       "    .dataframe thead th {\n",
       "        text-align: right;\n",
       "    }\n",
       "</style>\n",
       "<table border=\"1\" class=\"dataframe\">\n",
       "  <thead>\n",
       "    <tr style=\"text-align: right;\">\n",
       "      <th></th>\n",
       "      <th>flight_id</th>\n",
       "      <th>actual_departure</th>\n",
       "      <th>scheduled_departure</th>\n",
       "      <th>actual_arrival</th>\n",
       "      <th>scheduled_arrival</th>\n",
       "      <th>actual_flight_time</th>\n",
       "      <th>departure_city</th>\n",
       "      <th>departure_airport</th>\n",
       "      <th>arrival_city</th>\n",
       "      <th>arrival_airport</th>\n",
       "      <th>...</th>\n",
       "      <th>economy_passengers</th>\n",
       "      <th>business_seats</th>\n",
       "      <th>business_passengers</th>\n",
       "      <th>profit</th>\n",
       "      <th>weekday</th>\n",
       "      <th>load_economy</th>\n",
       "      <th>load_business</th>\n",
       "      <th>fuel_consumption</th>\n",
       "      <th>fuel_cost</th>\n",
       "      <th>to_med</th>\n",
       "    </tr>\n",
       "  </thead>\n",
       "  <tbody>\n",
       "    <tr>\n",
       "      <th>16</th>\n",
       "      <td>136204</td>\n",
       "      <td>2017-02-23 10:06:00+00:00</td>\n",
       "      <td>2017-02-23 10:05:00+00:00</td>\n",
       "      <td>2017-02-23 11:46:00+00:00</td>\n",
       "      <td>2017-02-23 11:45:00+00:00</td>\n",
       "      <td>100.0</td>\n",
       "      <td>Anapa</td>\n",
       "      <td>AAQ</td>\n",
       "      <td>Moscow</td>\n",
       "      <td>SVO</td>\n",
       "      <td>...</td>\n",
       "      <td>101.0</td>\n",
       "      <td>12</td>\n",
       "      <td>6.0</td>\n",
       "      <td>1295824.0</td>\n",
       "      <td>3</td>\n",
       "      <td>0.855932</td>\n",
       "      <td>0.5</td>\n",
       "      <td>0.04</td>\n",
       "      <td>161976.0</td>\n",
       "      <td>0.882567</td>\n",
       "    </tr>\n",
       "  </tbody>\n",
       "</table>\n",
       "<p>1 rows × 25 columns</p>\n",
       "</div>"
      ],
      "text/plain": [
       "    flight_id          actual_departure       scheduled_departure  \\\n",
       "16     136204 2017-02-23 10:06:00+00:00 2017-02-23 10:05:00+00:00   \n",
       "\n",
       "              actual_arrival         scheduled_arrival  actual_flight_time  \\\n",
       "16 2017-02-23 11:46:00+00:00 2017-02-23 11:45:00+00:00               100.0   \n",
       "\n",
       "   departure_city departure_airport arrival_city arrival_airport  ...  \\\n",
       "16          Anapa               AAQ       Moscow             SVO  ...   \n",
       "\n",
       "   economy_passengers  business_seats  business_passengers     profit  \\\n",
       "16              101.0              12                  6.0  1295824.0   \n",
       "\n",
       "    weekday  load_economy  load_business  fuel_consumption  fuel_cost  \\\n",
       "16        3      0.855932            0.5              0.04   161976.0   \n",
       "\n",
       "      to_med  \n",
       "16  0.882567  \n",
       "\n",
       "[1 rows x 25 columns]"
      ]
     },
     "execution_count": 29,
     "metadata": {},
     "output_type": "execute_result"
    }
   ],
   "source": [
    "df_moscow[df_moscow.load_business == df_moscow.load_business.min()]"
   ]
  },
  {
   "cell_type": "code",
   "execution_count": 30,
   "id": "8ea587c4",
   "metadata": {},
   "outputs": [
    {
     "data": {
      "text/html": [
       "<div>\n",
       "<style scoped>\n",
       "    .dataframe tbody tr th:only-of-type {\n",
       "        vertical-align: middle;\n",
       "    }\n",
       "\n",
       "    .dataframe tbody tr th {\n",
       "        vertical-align: top;\n",
       "    }\n",
       "\n",
       "    .dataframe thead th {\n",
       "        text-align: right;\n",
       "    }\n",
       "</style>\n",
       "<table border=\"1\" class=\"dataframe\">\n",
       "  <thead>\n",
       "    <tr style=\"text-align: right;\">\n",
       "      <th></th>\n",
       "      <th>flight_id</th>\n",
       "      <th>actual_departure</th>\n",
       "      <th>scheduled_departure</th>\n",
       "      <th>actual_arrival</th>\n",
       "      <th>scheduled_arrival</th>\n",
       "      <th>actual_flight_time</th>\n",
       "      <th>departure_city</th>\n",
       "      <th>departure_airport</th>\n",
       "      <th>arrival_city</th>\n",
       "      <th>arrival_airport</th>\n",
       "      <th>...</th>\n",
       "      <th>economy_passengers</th>\n",
       "      <th>business_seats</th>\n",
       "      <th>business_passengers</th>\n",
       "      <th>profit</th>\n",
       "      <th>weekday</th>\n",
       "      <th>load_economy</th>\n",
       "      <th>load_business</th>\n",
       "      <th>fuel_consumption</th>\n",
       "      <th>fuel_cost</th>\n",
       "      <th>to_med</th>\n",
       "    </tr>\n",
       "  </thead>\n",
       "  <tbody>\n",
       "    <tr>\n",
       "      <th>102</th>\n",
       "      <td>136807</td>\n",
       "      <td>2017-02-23 09:28:00+00:00</td>\n",
       "      <td>2017-02-23 09:25:00+00:00</td>\n",
       "      <td>2017-02-23 10:18:00+00:00</td>\n",
       "      <td>2017-02-23 10:15:00+00:00</td>\n",
       "      <td>50.0</td>\n",
       "      <td>Anapa</td>\n",
       "      <td>AAQ</td>\n",
       "      <td>Belgorod</td>\n",
       "      <td>EGO</td>\n",
       "      <td>...</td>\n",
       "      <td>60.0</td>\n",
       "      <td>12</td>\n",
       "      <td>8.0</td>\n",
       "      <td>474308.400</td>\n",
       "      <td>3</td>\n",
       "      <td>0.705882</td>\n",
       "      <td>0.666667</td>\n",
       "      <td>0.028</td>\n",
       "      <td>56691.600</td>\n",
       "      <td>0.687694</td>\n",
       "    </tr>\n",
       "    <tr>\n",
       "      <th>77</th>\n",
       "      <td>136642</td>\n",
       "      <td>2017-01-30 09:28:00+00:00</td>\n",
       "      <td>2017-01-30 09:25:00+00:00</td>\n",
       "      <td>2017-01-30 10:17:00+00:00</td>\n",
       "      <td>2017-01-30 10:15:00+00:00</td>\n",
       "      <td>49.0</td>\n",
       "      <td>Anapa</td>\n",
       "      <td>AAQ</td>\n",
       "      <td>Belgorod</td>\n",
       "      <td>EGO</td>\n",
       "      <td>...</td>\n",
       "      <td>54.0</td>\n",
       "      <td>12</td>\n",
       "      <td>10.0</td>\n",
       "      <td>475442.232</td>\n",
       "      <td>0</td>\n",
       "      <td>0.635294</td>\n",
       "      <td>0.833333</td>\n",
       "      <td>0.028</td>\n",
       "      <td>55557.768</td>\n",
       "      <td>0.689338</td>\n",
       "    </tr>\n",
       "    <tr>\n",
       "      <th>109</th>\n",
       "      <td>136844</td>\n",
       "      <td>2017-02-28 09:26:00+00:00</td>\n",
       "      <td>2017-02-28 09:25:00+00:00</td>\n",
       "      <td>2017-02-28 10:16:00+00:00</td>\n",
       "      <td>2017-02-28 10:15:00+00:00</td>\n",
       "      <td>50.0</td>\n",
       "      <td>Anapa</td>\n",
       "      <td>AAQ</td>\n",
       "      <td>Belgorod</td>\n",
       "      <td>EGO</td>\n",
       "      <td>...</td>\n",
       "      <td>73.0</td>\n",
       "      <td>12</td>\n",
       "      <td>6.0</td>\n",
       "      <td>518408.400</td>\n",
       "      <td>1</td>\n",
       "      <td>0.858824</td>\n",
       "      <td>0.500000</td>\n",
       "      <td>0.028</td>\n",
       "      <td>56691.600</td>\n",
       "      <td>0.751634</td>\n",
       "    </tr>\n",
       "    <tr>\n",
       "      <th>116</th>\n",
       "      <td>136887</td>\n",
       "      <td>2017-01-20 09:30:00+00:00</td>\n",
       "      <td>2017-01-20 09:25:00+00:00</td>\n",
       "      <td>2017-01-20 10:19:00+00:00</td>\n",
       "      <td>2017-01-20 10:15:00+00:00</td>\n",
       "      <td>49.0</td>\n",
       "      <td>Anapa</td>\n",
       "      <td>AAQ</td>\n",
       "      <td>Belgorod</td>\n",
       "      <td>EGO</td>\n",
       "      <td>...</td>\n",
       "      <td>70.0</td>\n",
       "      <td>12</td>\n",
       "      <td>8.0</td>\n",
       "      <td>539642.232</td>\n",
       "      <td>4</td>\n",
       "      <td>0.823529</td>\n",
       "      <td>0.666667</td>\n",
       "      <td>0.028</td>\n",
       "      <td>55557.768</td>\n",
       "      <td>0.782421</td>\n",
       "    </tr>\n",
       "    <tr>\n",
       "      <th>120</th>\n",
       "      <td>136922</td>\n",
       "      <td>2017-02-11 09:27:00+00:00</td>\n",
       "      <td>2017-02-11 09:25:00+00:00</td>\n",
       "      <td>2017-02-11 10:17:00+00:00</td>\n",
       "      <td>2017-02-11 10:15:00+00:00</td>\n",
       "      <td>50.0</td>\n",
       "      <td>Anapa</td>\n",
       "      <td>AAQ</td>\n",
       "      <td>Belgorod</td>\n",
       "      <td>EGO</td>\n",
       "      <td>...</td>\n",
       "      <td>66.0</td>\n",
       "      <td>12</td>\n",
       "      <td>10.0</td>\n",
       "      <td>551108.400</td>\n",
       "      <td>5</td>\n",
       "      <td>0.776471</td>\n",
       "      <td>0.833333</td>\n",
       "      <td>0.028</td>\n",
       "      <td>56691.600</td>\n",
       "      <td>0.799046</td>\n",
       "    </tr>\n",
       "    <tr>\n",
       "      <th>74</th>\n",
       "      <td>136620</td>\n",
       "      <td>2017-02-17 09:30:00+00:00</td>\n",
       "      <td>2017-02-17 09:25:00+00:00</td>\n",
       "      <td>2017-02-17 10:19:00+00:00</td>\n",
       "      <td>2017-02-17 10:15:00+00:00</td>\n",
       "      <td>49.0</td>\n",
       "      <td>Anapa</td>\n",
       "      <td>AAQ</td>\n",
       "      <td>Belgorod</td>\n",
       "      <td>EGO</td>\n",
       "      <td>...</td>\n",
       "      <td>70.0</td>\n",
       "      <td>12</td>\n",
       "      <td>9.0</td>\n",
       "      <td>557942.232</td>\n",
       "      <td>4</td>\n",
       "      <td>0.823529</td>\n",
       "      <td>0.750000</td>\n",
       "      <td>0.028</td>\n",
       "      <td>55557.768</td>\n",
       "      <td>0.808954</td>\n",
       "    </tr>\n",
       "    <tr>\n",
       "      <th>105</th>\n",
       "      <td>136823</td>\n",
       "      <td>2017-02-05 09:27:00+00:00</td>\n",
       "      <td>2017-02-05 09:25:00+00:00</td>\n",
       "      <td>2017-02-05 10:18:00+00:00</td>\n",
       "      <td>2017-02-05 10:15:00+00:00</td>\n",
       "      <td>51.0</td>\n",
       "      <td>Anapa</td>\n",
       "      <td>AAQ</td>\n",
       "      <td>Belgorod</td>\n",
       "      <td>EGO</td>\n",
       "      <td>...</td>\n",
       "      <td>68.0</td>\n",
       "      <td>12</td>\n",
       "      <td>10.0</td>\n",
       "      <td>562574.568</td>\n",
       "      <td>6</td>\n",
       "      <td>0.800000</td>\n",
       "      <td>0.833333</td>\n",
       "      <td>0.028</td>\n",
       "      <td>57825.432</td>\n",
       "      <td>0.815670</td>\n",
       "    </tr>\n",
       "    <tr>\n",
       "      <th>123</th>\n",
       "      <td>136937</td>\n",
       "      <td>2017-01-03 09:29:00+00:00</td>\n",
       "      <td>2017-01-03 09:25:00+00:00</td>\n",
       "      <td>2017-01-03 10:19:00+00:00</td>\n",
       "      <td>2017-01-03 10:15:00+00:00</td>\n",
       "      <td>50.0</td>\n",
       "      <td>Anapa</td>\n",
       "      <td>AAQ</td>\n",
       "      <td>Belgorod</td>\n",
       "      <td>EGO</td>\n",
       "      <td>...</td>\n",
       "      <td>72.0</td>\n",
       "      <td>12</td>\n",
       "      <td>9.0</td>\n",
       "      <td>569408.400</td>\n",
       "      <td>1</td>\n",
       "      <td>0.847059</td>\n",
       "      <td>0.750000</td>\n",
       "      <td>0.028</td>\n",
       "      <td>56691.600</td>\n",
       "      <td>0.825578</td>\n",
       "    </tr>\n",
       "    <tr>\n",
       "      <th>117</th>\n",
       "      <td>136888</td>\n",
       "      <td>2017-02-14 09:29:00+00:00</td>\n",
       "      <td>2017-02-14 09:25:00+00:00</td>\n",
       "      <td>2017-02-14 10:19:00+00:00</td>\n",
       "      <td>2017-02-14 10:15:00+00:00</td>\n",
       "      <td>50.0</td>\n",
       "      <td>Anapa</td>\n",
       "      <td>AAQ</td>\n",
       "      <td>Belgorod</td>\n",
       "      <td>EGO</td>\n",
       "      <td>...</td>\n",
       "      <td>69.0</td>\n",
       "      <td>12</td>\n",
       "      <td>10.0</td>\n",
       "      <td>569408.400</td>\n",
       "      <td>1</td>\n",
       "      <td>0.811765</td>\n",
       "      <td>0.833333</td>\n",
       "      <td>0.028</td>\n",
       "      <td>56691.600</td>\n",
       "      <td>0.825578</td>\n",
       "    </tr>\n",
       "    <tr>\n",
       "      <th>86</th>\n",
       "      <td>136678</td>\n",
       "      <td>2017-01-28 09:27:00+00:00</td>\n",
       "      <td>2017-01-28 09:25:00+00:00</td>\n",
       "      <td>2017-01-28 10:17:00+00:00</td>\n",
       "      <td>2017-01-28 10:15:00+00:00</td>\n",
       "      <td>50.0</td>\n",
       "      <td>Anapa</td>\n",
       "      <td>AAQ</td>\n",
       "      <td>Belgorod</td>\n",
       "      <td>EGO</td>\n",
       "      <td>...</td>\n",
       "      <td>70.0</td>\n",
       "      <td>12</td>\n",
       "      <td>10.0</td>\n",
       "      <td>574508.400</td>\n",
       "      <td>5</td>\n",
       "      <td>0.823529</td>\n",
       "      <td>0.833333</td>\n",
       "      <td>0.028</td>\n",
       "      <td>56691.600</td>\n",
       "      <td>0.832973</td>\n",
       "    </tr>\n",
       "  </tbody>\n",
       "</table>\n",
       "<p>10 rows × 25 columns</p>\n",
       "</div>"
      ],
      "text/plain": [
       "     flight_id          actual_departure       scheduled_departure  \\\n",
       "102     136807 2017-02-23 09:28:00+00:00 2017-02-23 09:25:00+00:00   \n",
       "77      136642 2017-01-30 09:28:00+00:00 2017-01-30 09:25:00+00:00   \n",
       "109     136844 2017-02-28 09:26:00+00:00 2017-02-28 09:25:00+00:00   \n",
       "116     136887 2017-01-20 09:30:00+00:00 2017-01-20 09:25:00+00:00   \n",
       "120     136922 2017-02-11 09:27:00+00:00 2017-02-11 09:25:00+00:00   \n",
       "74      136620 2017-02-17 09:30:00+00:00 2017-02-17 09:25:00+00:00   \n",
       "105     136823 2017-02-05 09:27:00+00:00 2017-02-05 09:25:00+00:00   \n",
       "123     136937 2017-01-03 09:29:00+00:00 2017-01-03 09:25:00+00:00   \n",
       "117     136888 2017-02-14 09:29:00+00:00 2017-02-14 09:25:00+00:00   \n",
       "86      136678 2017-01-28 09:27:00+00:00 2017-01-28 09:25:00+00:00   \n",
       "\n",
       "               actual_arrival         scheduled_arrival  actual_flight_time  \\\n",
       "102 2017-02-23 10:18:00+00:00 2017-02-23 10:15:00+00:00                50.0   \n",
       "77  2017-01-30 10:17:00+00:00 2017-01-30 10:15:00+00:00                49.0   \n",
       "109 2017-02-28 10:16:00+00:00 2017-02-28 10:15:00+00:00                50.0   \n",
       "116 2017-01-20 10:19:00+00:00 2017-01-20 10:15:00+00:00                49.0   \n",
       "120 2017-02-11 10:17:00+00:00 2017-02-11 10:15:00+00:00                50.0   \n",
       "74  2017-02-17 10:19:00+00:00 2017-02-17 10:15:00+00:00                49.0   \n",
       "105 2017-02-05 10:18:00+00:00 2017-02-05 10:15:00+00:00                51.0   \n",
       "123 2017-01-03 10:19:00+00:00 2017-01-03 10:15:00+00:00                50.0   \n",
       "117 2017-02-14 10:19:00+00:00 2017-02-14 10:15:00+00:00                50.0   \n",
       "86  2017-01-28 10:17:00+00:00 2017-01-28 10:15:00+00:00                50.0   \n",
       "\n",
       "    departure_city departure_airport arrival_city arrival_airport  ...  \\\n",
       "102          Anapa               AAQ     Belgorod             EGO  ...   \n",
       "77           Anapa               AAQ     Belgorod             EGO  ...   \n",
       "109          Anapa               AAQ     Belgorod             EGO  ...   \n",
       "116          Anapa               AAQ     Belgorod             EGO  ...   \n",
       "120          Anapa               AAQ     Belgorod             EGO  ...   \n",
       "74           Anapa               AAQ     Belgorod             EGO  ...   \n",
       "105          Anapa               AAQ     Belgorod             EGO  ...   \n",
       "123          Anapa               AAQ     Belgorod             EGO  ...   \n",
       "117          Anapa               AAQ     Belgorod             EGO  ...   \n",
       "86           Anapa               AAQ     Belgorod             EGO  ...   \n",
       "\n",
       "    economy_passengers  business_seats  business_passengers      profit  \\\n",
       "102               60.0              12                  8.0  474308.400   \n",
       "77                54.0              12                 10.0  475442.232   \n",
       "109               73.0              12                  6.0  518408.400   \n",
       "116               70.0              12                  8.0  539642.232   \n",
       "120               66.0              12                 10.0  551108.400   \n",
       "74                70.0              12                  9.0  557942.232   \n",
       "105               68.0              12                 10.0  562574.568   \n",
       "123               72.0              12                  9.0  569408.400   \n",
       "117               69.0              12                 10.0  569408.400   \n",
       "86                70.0              12                 10.0  574508.400   \n",
       "\n",
       "     weekday  load_economy  load_business  fuel_consumption  fuel_cost  \\\n",
       "102        3      0.705882       0.666667             0.028  56691.600   \n",
       "77         0      0.635294       0.833333             0.028  55557.768   \n",
       "109        1      0.858824       0.500000             0.028  56691.600   \n",
       "116        4      0.823529       0.666667             0.028  55557.768   \n",
       "120        5      0.776471       0.833333             0.028  56691.600   \n",
       "74         4      0.823529       0.750000             0.028  55557.768   \n",
       "105        6      0.800000       0.833333             0.028  57825.432   \n",
       "123        1      0.847059       0.750000             0.028  56691.600   \n",
       "117        1      0.811765       0.833333             0.028  56691.600   \n",
       "86         5      0.823529       0.833333             0.028  56691.600   \n",
       "\n",
       "       to_med  \n",
       "102  0.687694  \n",
       "77   0.689338  \n",
       "109  0.751634  \n",
       "116  0.782421  \n",
       "120  0.799046  \n",
       "74   0.808954  \n",
       "105  0.815670  \n",
       "123  0.825578  \n",
       "117  0.825578  \n",
       "86   0.832973  \n",
       "\n",
       "[10 rows x 25 columns]"
      ]
     },
     "execution_count": 30,
     "metadata": {},
     "output_type": "execute_result"
    }
   ],
   "source": [
    "df_belgorod.sort_values(by='profit').head(10)"
   ]
  },
  {
   "cell_type": "code",
   "execution_count": 31,
   "id": "5678c2c5",
   "metadata": {},
   "outputs": [
    {
     "data": {
      "text/html": [
       "<div>\n",
       "<style scoped>\n",
       "    .dataframe tbody tr th:only-of-type {\n",
       "        vertical-align: middle;\n",
       "    }\n",
       "\n",
       "    .dataframe tbody tr th {\n",
       "        vertical-align: top;\n",
       "    }\n",
       "\n",
       "    .dataframe thead th {\n",
       "        text-align: right;\n",
       "    }\n",
       "</style>\n",
       "<table border=\"1\" class=\"dataframe\">\n",
       "  <thead>\n",
       "    <tr style=\"text-align: right;\">\n",
       "      <th></th>\n",
       "      <th>flight_id</th>\n",
       "      <th>actual_departure</th>\n",
       "      <th>scheduled_departure</th>\n",
       "      <th>actual_arrival</th>\n",
       "      <th>scheduled_arrival</th>\n",
       "      <th>actual_flight_time</th>\n",
       "      <th>departure_city</th>\n",
       "      <th>departure_airport</th>\n",
       "      <th>arrival_city</th>\n",
       "      <th>arrival_airport</th>\n",
       "      <th>...</th>\n",
       "      <th>economy_passengers</th>\n",
       "      <th>business_seats</th>\n",
       "      <th>business_passengers</th>\n",
       "      <th>profit</th>\n",
       "      <th>weekday</th>\n",
       "      <th>load_economy</th>\n",
       "      <th>load_business</th>\n",
       "      <th>fuel_consumption</th>\n",
       "      <th>fuel_cost</th>\n",
       "      <th>to_med</th>\n",
       "    </tr>\n",
       "  </thead>\n",
       "  <tbody>\n",
       "    <tr>\n",
       "      <th>77</th>\n",
       "      <td>136642</td>\n",
       "      <td>2017-01-30 09:28:00+00:00</td>\n",
       "      <td>2017-01-30 09:25:00+00:00</td>\n",
       "      <td>2017-01-30 10:17:00+00:00</td>\n",
       "      <td>2017-01-30 10:15:00+00:00</td>\n",
       "      <td>49.0</td>\n",
       "      <td>Anapa</td>\n",
       "      <td>AAQ</td>\n",
       "      <td>Belgorod</td>\n",
       "      <td>EGO</td>\n",
       "      <td>...</td>\n",
       "      <td>54.0</td>\n",
       "      <td>12</td>\n",
       "      <td>10.0</td>\n",
       "      <td>475442.232</td>\n",
       "      <td>0</td>\n",
       "      <td>0.635294</td>\n",
       "      <td>0.833333</td>\n",
       "      <td>0.028</td>\n",
       "      <td>55557.768</td>\n",
       "      <td>0.689338</td>\n",
       "    </tr>\n",
       "  </tbody>\n",
       "</table>\n",
       "<p>1 rows × 25 columns</p>\n",
       "</div>"
      ],
      "text/plain": [
       "    flight_id          actual_departure       scheduled_departure  \\\n",
       "77     136642 2017-01-30 09:28:00+00:00 2017-01-30 09:25:00+00:00   \n",
       "\n",
       "              actual_arrival         scheduled_arrival  actual_flight_time  \\\n",
       "77 2017-01-30 10:17:00+00:00 2017-01-30 10:15:00+00:00                49.0   \n",
       "\n",
       "   departure_city departure_airport arrival_city arrival_airport  ...  \\\n",
       "77          Anapa               AAQ     Belgorod             EGO  ...   \n",
       "\n",
       "   economy_passengers  business_seats  business_passengers      profit  \\\n",
       "77               54.0              12                 10.0  475442.232   \n",
       "\n",
       "    weekday  load_economy  load_business  fuel_consumption  fuel_cost  \\\n",
       "77        0      0.635294       0.833333             0.028  55557.768   \n",
       "\n",
       "      to_med  \n",
       "77  0.689338  \n",
       "\n",
       "[1 rows x 25 columns]"
      ]
     },
     "execution_count": 31,
     "metadata": {},
     "output_type": "execute_result"
    }
   ],
   "source": [
    "df_belgorod[df_belgorod.load_economy == df_belgorod.load_economy.min()]"
   ]
  },
  {
   "cell_type": "code",
   "execution_count": 32,
   "id": "19783b2d",
   "metadata": {},
   "outputs": [
    {
     "data": {
      "text/html": [
       "<div>\n",
       "<style scoped>\n",
       "    .dataframe tbody tr th:only-of-type {\n",
       "        vertical-align: middle;\n",
       "    }\n",
       "\n",
       "    .dataframe tbody tr th {\n",
       "        vertical-align: top;\n",
       "    }\n",
       "\n",
       "    .dataframe thead th {\n",
       "        text-align: right;\n",
       "    }\n",
       "</style>\n",
       "<table border=\"1\" class=\"dataframe\">\n",
       "  <thead>\n",
       "    <tr style=\"text-align: right;\">\n",
       "      <th></th>\n",
       "      <th>flight_id</th>\n",
       "      <th>actual_departure</th>\n",
       "      <th>scheduled_departure</th>\n",
       "      <th>actual_arrival</th>\n",
       "      <th>scheduled_arrival</th>\n",
       "      <th>actual_flight_time</th>\n",
       "      <th>departure_city</th>\n",
       "      <th>departure_airport</th>\n",
       "      <th>arrival_city</th>\n",
       "      <th>arrival_airport</th>\n",
       "      <th>...</th>\n",
       "      <th>economy_passengers</th>\n",
       "      <th>business_seats</th>\n",
       "      <th>business_passengers</th>\n",
       "      <th>profit</th>\n",
       "      <th>weekday</th>\n",
       "      <th>load_economy</th>\n",
       "      <th>load_business</th>\n",
       "      <th>fuel_consumption</th>\n",
       "      <th>fuel_cost</th>\n",
       "      <th>to_med</th>\n",
       "    </tr>\n",
       "  </thead>\n",
       "  <tbody>\n",
       "    <tr>\n",
       "      <th>109</th>\n",
       "      <td>136844</td>\n",
       "      <td>2017-02-28 09:26:00+00:00</td>\n",
       "      <td>2017-02-28 09:25:00+00:00</td>\n",
       "      <td>2017-02-28 10:16:00+00:00</td>\n",
       "      <td>2017-02-28 10:15:00+00:00</td>\n",
       "      <td>50.0</td>\n",
       "      <td>Anapa</td>\n",
       "      <td>AAQ</td>\n",
       "      <td>Belgorod</td>\n",
       "      <td>EGO</td>\n",
       "      <td>...</td>\n",
       "      <td>73.0</td>\n",
       "      <td>12</td>\n",
       "      <td>6.0</td>\n",
       "      <td>518408.4</td>\n",
       "      <td>1</td>\n",
       "      <td>0.858824</td>\n",
       "      <td>0.5</td>\n",
       "      <td>0.028</td>\n",
       "      <td>56691.6</td>\n",
       "      <td>0.751634</td>\n",
       "    </tr>\n",
       "  </tbody>\n",
       "</table>\n",
       "<p>1 rows × 25 columns</p>\n",
       "</div>"
      ],
      "text/plain": [
       "     flight_id          actual_departure       scheduled_departure  \\\n",
       "109     136844 2017-02-28 09:26:00+00:00 2017-02-28 09:25:00+00:00   \n",
       "\n",
       "               actual_arrival         scheduled_arrival  actual_flight_time  \\\n",
       "109 2017-02-28 10:16:00+00:00 2017-02-28 10:15:00+00:00                50.0   \n",
       "\n",
       "    departure_city departure_airport arrival_city arrival_airport  ...  \\\n",
       "109          Anapa               AAQ     Belgorod             EGO  ...   \n",
       "\n",
       "    economy_passengers  business_seats  business_passengers    profit  \\\n",
       "109               73.0              12                  6.0  518408.4   \n",
       "\n",
       "     weekday  load_economy  load_business  fuel_consumption  fuel_cost  \\\n",
       "109        1      0.858824            0.5             0.028    56691.6   \n",
       "\n",
       "       to_med  \n",
       "109  0.751634  \n",
       "\n",
       "[1 rows x 25 columns]"
      ]
     },
     "execution_count": 32,
     "metadata": {},
     "output_type": "execute_result"
    }
   ],
   "source": [
    "df_belgorod[df_belgorod.load_business == df_belgorod.load_business.min()]"
   ]
  },
  {
   "cell_type": "markdown",
   "id": "c703303e",
   "metadata": {},
   "source": [
    "## Вывод"
   ]
  },
  {
   "cell_type": "markdown",
   "id": "35e323f8",
   "metadata": {},
   "source": [
    "Рейсы на Москву:\n",
    "\n",
    "    136464 (2017-01-09)    \n",
    "    136250 (2017-02-08)    \n",
    "    136122 (2017-01-08)    \n",
    "    136178 (2017-01-29)     \n",
    "    136360 (2017-02-05)    \n",
    "самые малоприбыльные, хотя и отличаются от медианы прибыльности рейсов лишь примерно на 15%. Самый малозагруженный эконом-классом     рейс 136360 (2017-02-05), с загрузкой салона 73%. Самый малозагруженный бизнес-классом рейс 136204 (2017-02-23),     с загрузкой салона 50%, он же является 6м в списке малоприбыльных рейсов.    \n",
    "\n",
    "Вообще, рейсы на Москву показывают довольно стабильную прибыль, если ориентироваться на данные, которыми мы располагаем.\n",
    "\n",
    "Рейсы на Белгород:\n",
    "\n",
    "    136807 (2017-02-23)\n",
    "    136642 (2017-01-30)\n",
    "    136844 (2017-02-28)\n",
    "    136887 (2017-01-20)\n",
    "    136922 (2017-02-11)\n",
    "самые малоприбыльные, отличаются от медианы прибыльности рейсов примерно на 20-25%. Выпадают 136807 (2017-02-23) и 136642 (2017-01-30), сильно отличаясь от медианы на 31%. Самый малозагруженный эконом-классом рейс 136642 (2017-01-30), с загрузкой салона 63%. Самый малозагруженный бизнес-классом рейс 136844 (2017-02-28), с загрузкой салона 50%.\n",
    "\n",
    "Я бы советовал рассмотреть самолёт с меньшим количеством посадочных мест, так как в рейсах на Белгород это особенно сильно влияет на прибыль. Или же уменьшить количество рейсов, но использовать самолёты с большим количеством посадочных мест.\n",
    "\n",
    "Для более точной оценки не хватает данных о затратах на содержание флота, зарплате сотрудников, диспетчерское и аэропортовое облуживание и других расходов.\n",
    "    \n",
    "    \n",
    "    \n",
    "\n",
    "\n",
    "\n",
    "    "
   ]
  },
  {
   "cell_type": "code",
   "execution_count": null,
   "id": "e3a29520",
   "metadata": {},
   "outputs": [],
   "source": []
  }
 ],
 "metadata": {
  "kernelspec": {
   "display_name": "Python 3",
   "language": "python",
   "name": "python3"
  },
  "language_info": {
   "codemirror_mode": {
    "name": "ipython",
    "version": 3
   },
   "file_extension": ".py",
   "mimetype": "text/x-python",
   "name": "python",
   "nbconvert_exporter": "python",
   "pygments_lexer": "ipython3",
   "version": "3.9.1"
  }
 },
 "nbformat": 4,
 "nbformat_minor": 5
}
