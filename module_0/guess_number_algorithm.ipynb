{
 "cells": [
  {
   "cell_type": "code",
   "execution_count": 6,
   "metadata": {},
   "outputs": [
    {
     "name": "stdout",
     "output_type": "stream",
     "text": [
      "Your algorithm guesses the number on average in 10 attempts\n"
     ]
    },
    {
     "data": {
      "text/plain": [
       "10"
      ]
     },
     "execution_count": 6,
     "metadata": {},
     "output_type": "execute_result"
    }
   ],
   "source": [
    "import numpy as np\n",
    "\n",
    "'''A number from low to high is hidden'''\n",
    "low = 1    \n",
    "high = 101\n",
    "\n",
    "def game_core_imp(number):\n",
    "    '''The function takes a hidden number \n",
    "    and returns the number of attempts'''\n",
    "    count = 1                            # number of attempts\n",
    "    predict = (low + high)//2            # the first predict of the hidden number\n",
    "    \n",
    "    while number != predict:\n",
    "        if number > predict: \n",
    "            count += 1\n",
    "            guess = (high + predict)//2  # correction of guess\n",
    "            if number > guess:\n",
    "                predict = guess          \n",
    "            else:\n",
    "                predict += 1\n",
    "        elif number < predict: \n",
    "            count += 1\n",
    "            guess = (low + predict)//2\n",
    "            if number < guess:\n",
    "                predict = guess\n",
    "            else:\n",
    "                predict -= 1\n",
    "                \n",
    "    return(count) # exit the loop if guessed right\n",
    "\n",
    "\n",
    "def score_game(game_core):\n",
    "    '''Run the game 1000 times to find out how quickly \n",
    "    the game guesses the number'''\n",
    "    count_ls = []\n",
    "    np.random.seed(1)  # fixing RANDOM SEED to make experiment reproducible!\n",
    "    random_array = np.random.randint(low, high, size=(1000)) \n",
    "    \n",
    "    for number in random_array:\n",
    "        count_ls.append(game_core(number))\n",
    "    score = int(np.mean(count_ls))\n",
    "    print(f\"Your algorithm guesses the number on average in {score} attempts\")\n",
    "    \n",
    "    return(score)\n",
    "\n",
    "\n",
    "score_game(game_core_imp)"
   ]
  },
  {
   "cell_type": "code",
   "execution_count": null,
   "metadata": {},
   "outputs": [],
   "source": []
  }
 ],
 "metadata": {
  "kernelspec": {
   "display_name": "Python 3",
   "language": "python",
   "name": "python3"
  },
  "language_info": {
   "codemirror_mode": {
    "name": "ipython",
    "version": 3
   },
   "file_extension": ".py",
   "mimetype": "text/x-python",
   "name": "python",
   "nbconvert_exporter": "python",
   "pygments_lexer": "ipython3",
   "version": "3.8.5"
  }
 },
 "nbformat": 4,
 "nbformat_minor": 4
}
