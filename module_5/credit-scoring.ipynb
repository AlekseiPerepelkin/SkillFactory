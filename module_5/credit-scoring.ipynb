{
 "cells": [
  {
   "cell_type": "code",
   "execution_count": 219,
   "metadata": {
    "execution": {
     "iopub.execute_input": "2021-09-28T16:14:27.559449Z",
     "iopub.status.busy": "2021-09-28T16:14:27.559077Z",
     "iopub.status.idle": "2021-09-28T16:14:27.579547Z",
     "shell.execute_reply": "2021-09-28T16:14:27.578251Z",
     "shell.execute_reply.started": "2021-09-28T16:14:27.559414Z"
    }
   },
   "outputs": [],
   "source": [
    "import os\n",
    "import warnings\n",
    "from sklearn.metrics import accuracy_score, precision_score, recall_score, f1_score\n",
    "from sklearn.metrics import auc, roc_auc_score, roc_curve\n",
    "from sklearn.metrics import confusion_matrix, ConfusionMatrixDisplay\n",
    "from sklearn.model_selection import GridSearchCV, RandomizedSearchCV\n",
    "from sklearn.linear_model import LogisticRegression\n",
    "from sklearn.model_selection import train_test_split\n",
    "from sklearn.preprocessing import LabelEncoder, OneHotEncoder, StandardScaler\n",
    "from sklearn.feature_selection import f_classif, mutual_info_classif\n",
    "from sklearn.decomposition import PCA\n",
    "import pandas as pd\n",
    "import numpy as np\n",
    "import pandas_profiling\n",
    "import matplotlib.pyplot as plt\n",
    "import seaborn as sns\n",
    "\n",
    "import matplotlib.pyplot as plt\n",
    "%matplotlib inline\n",
    "\n",
    "\n",
    "warnings.filterwarnings(\"ignore\", category=UserWarning)\n",
    "\n",
    "pd.set_option('display.max_rows', 50)  # показывать больше строк\n",
    "pd.set_option('display.max_columns', 50)  # показывать больше колонок\n",
    "\n",
    "for dirname, _, filenames in os.walk('/kaggle/input'):\n",
    "    for filename in filenames:\n",
    "        print(os.path.join(dirname, filename))"
   ]
  },
  {
   "cell_type": "code",
   "execution_count": 220,
   "metadata": {
    "execution": {
     "iopub.execute_input": "2021-09-28T16:14:27.582046Z",
     "iopub.status.busy": "2021-09-28T16:14:27.581372Z",
     "iopub.status.idle": "2021-09-28T16:14:27.597256Z",
     "shell.execute_reply": "2021-09-28T16:14:27.596233Z",
     "shell.execute_reply.started": "2021-09-28T16:14:27.582001Z"
    }
   },
   "outputs": [],
   "source": [
    "def boxplot(col):\n",
    "    fig, axes = plt.subplots(figsize = (14, 4))\n",
    "    sns.boxplot(x='default', y=col, data=data[data['sample']==1],ax=axes)\n",
    "    axes.set_title('Boxplot for ' + col)\n",
    "    plt.show()"
   ]
  },
  {
   "cell_type": "markdown",
   "metadata": {},
   "source": [
    "Загрузка данных и первичный осмотр"
   ]
  },
  {
   "cell_type": "code",
   "execution_count": 221,
   "metadata": {
    "execution": {
     "iopub.execute_input": "2021-09-28T16:14:27.600413Z",
     "iopub.status.busy": "2021-09-28T16:14:27.599705Z",
     "iopub.status.idle": "2021-09-28T16:14:27.806765Z",
     "shell.execute_reply": "2021-09-28T16:14:27.805688Z",
     "shell.execute_reply.started": "2021-09-28T16:14:27.600369Z"
    }
   },
   "outputs": [],
   "source": [
    "train = pd.read_csv('/kaggle/input/sf-dst-scoring/train.csv')\n",
    "test = pd.read_csv('/kaggle/input/sf-dst-scoring/test.csv')\n",
    "sample = pd.read_csv('/kaggle/input/sf-dst-scoring/sample_submission.csv')"
   ]
  },
  {
   "cell_type": "code",
   "execution_count": 222,
   "metadata": {
    "execution": {
     "iopub.execute_input": "2021-09-28T16:14:27.808113Z",
     "iopub.status.busy": "2021-09-28T16:14:27.807904Z",
     "iopub.status.idle": "2021-09-28T16:14:27.886853Z",
     "shell.execute_reply": "2021-09-28T16:14:27.885946Z",
     "shell.execute_reply.started": "2021-09-28T16:14:27.808089Z"
    }
   },
   "outputs": [],
   "source": [
    "print(train.info())\n",
    "print()\n",
    "print('Train size: ', train.shape)\n",
    "print()\n",
    "train.head()"
   ]
  },
  {
   "cell_type": "code",
   "execution_count": 223,
   "metadata": {
    "execution": {
     "iopub.execute_input": "2021-09-28T16:14:27.889391Z",
     "iopub.status.busy": "2021-09-28T16:14:27.889120Z",
     "iopub.status.idle": "2021-09-28T16:14:27.912705Z",
     "shell.execute_reply": "2021-09-28T16:14:27.911391Z",
     "shell.execute_reply.started": "2021-09-28T16:14:27.889357Z"
    }
   },
   "outputs": [],
   "source": [
    "print(sample.info())\n",
    "print()\n",
    "print('Sample_submission size: ', sample.shape)\n",
    "print()\n",
    "sample.head()"
   ]
  },
  {
   "cell_type": "code",
   "execution_count": 224,
   "metadata": {
    "execution": {
     "iopub.execute_input": "2021-09-28T16:14:27.915013Z",
     "iopub.status.busy": "2021-09-28T16:14:27.914673Z",
     "iopub.status.idle": "2021-09-28T16:14:27.973050Z",
     "shell.execute_reply": "2021-09-28T16:14:27.972274Z",
     "shell.execute_reply.started": "2021-09-28T16:14:27.914979Z"
    }
   },
   "outputs": [],
   "source": [
    "print(test.info())\n",
    "print()\n",
    "print('Test size: ', test.shape)\n",
    "print()\n",
    "test.head()"
   ]
  },
  {
   "cell_type": "markdown",
   "metadata": {},
   "source": [
    "Описания полей датасета    \n",
    "    \n",
    "client_id - идентификатор клиента    \n",
    "education - уровень образования    \n",
    "sex - пол заемщика        \n",
    "age - возраст заемщика     \n",
    "car - флаг наличия автомобиля     \n",
    "car_type - флаг автомобиля иномарки      \n",
    "decline_app_cnt - количество отказанных прошлых заявок     \n",
    "good_work - флаг наличия “хорошей” работы      \n",
    "bki_request_cnt - количество запросов в БКИ     \n",
    "home_address - категоризатор домашнего адреса     \n",
    "work_address - категоризатор рабочего адреса     \n",
    "income - доход заемщика     \n",
    "foreign_passport - наличие загранпаспорта     \n",
    "sna - связь заемщика с клиентами банка     \n",
    "first_time - давность наличия информации о заемщике      \n",
    "score_bki - скоринговый балл по данным из БКИ      \n",
    "region_rating - рейтинг региона      \n",
    "app_date - дата подачи заявки       \n",
    "default - флаг дефолта по кредиту     "
   ]
  },
  {
   "cell_type": "markdown",
   "metadata": {},
   "source": [
    "Посмотрим на целевую переменную default"
   ]
  },
  {
   "cell_type": "code",
   "execution_count": 225,
   "metadata": {
    "execution": {
     "iopub.execute_input": "2021-09-28T16:14:27.974733Z",
     "iopub.status.busy": "2021-09-28T16:14:27.974491Z",
     "iopub.status.idle": "2021-09-28T16:14:28.169534Z",
     "shell.execute_reply": "2021-09-28T16:14:28.168568Z",
     "shell.execute_reply.started": "2021-09-28T16:14:27.974697Z"
    }
   },
   "outputs": [],
   "source": [
    "sns.countplot(train['default'])"
   ]
  },
  {
   "cell_type": "markdown",
   "metadata": {},
   "source": [
    "Выборка несбалансированная"
   ]
  },
  {
   "cell_type": "markdown",
   "metadata": {},
   "source": [
    "Объеденим датасеты, чтобы удобнее было производить подготовку данных для модели"
   ]
  },
  {
   "cell_type": "code",
   "execution_count": 226,
   "metadata": {
    "execution": {
     "iopub.execute_input": "2021-09-28T16:14:28.171111Z",
     "iopub.status.busy": "2021-09-28T16:14:28.170844Z",
     "iopub.status.idle": "2021-09-28T16:14:28.236975Z",
     "shell.execute_reply": "2021-09-28T16:14:28.235972Z",
     "shell.execute_reply.started": "2021-09-28T16:14:28.171080Z"
    }
   },
   "outputs": [],
   "source": [
    "train['sample'] = 1   \n",
    "test['sample'] = 0    \n",
    "test['default'] = -1  \n",
    "data = train.append(test, sort=False).reset_index(drop=True)"
   ]
  },
  {
   "cell_type": "code",
   "execution_count": 227,
   "metadata": {
    "execution": {
     "iopub.execute_input": "2021-09-28T16:14:28.238936Z",
     "iopub.status.busy": "2021-09-28T16:14:28.238705Z",
     "iopub.status.idle": "2021-09-28T16:14:28.348751Z",
     "shell.execute_reply": "2021-09-28T16:14:28.347051Z",
     "shell.execute_reply.started": "2021-09-28T16:14:28.238908Z"
    }
   },
   "outputs": [],
   "source": [
    "print(data.info())\n",
    "print()\n",
    "print('Data size: ', data.shape)\n",
    "print()\n",
    "data.head()"
   ]
  },
  {
   "cell_type": "markdown",
   "metadata": {
    "execution": {
     "iopub.execute_input": "2021-09-28T06:47:57.651381Z",
     "iopub.status.busy": "2021-09-28T06:47:57.650555Z",
     "iopub.status.idle": "2021-09-28T06:47:57.658275Z",
     "shell.execute_reply": "2021-09-28T06:47:57.657111Z",
     "shell.execute_reply.started": "2021-09-28T06:47:57.651303Z"
    }
   },
   "source": [
    "Пропуски присутствуют  в колонке education, посмотрим на распределение значений в ней"
   ]
  },
  {
   "cell_type": "code",
   "execution_count": 228,
   "metadata": {
    "execution": {
     "iopub.execute_input": "2021-09-28T16:14:28.350783Z",
     "iopub.status.busy": "2021-09-28T16:14:28.350484Z",
     "iopub.status.idle": "2021-09-28T16:14:28.376312Z",
     "shell.execute_reply": "2021-09-28T16:14:28.375298Z",
     "shell.execute_reply.started": "2021-09-28T16:14:28.350742Z"
    }
   },
   "outputs": [],
   "source": [
    "data.education.value_counts()"
   ]
  },
  {
   "cell_type": "markdown",
   "metadata": {},
   "source": [
    "По старой доброй традиции заполним их популярным значением"
   ]
  },
  {
   "cell_type": "code",
   "execution_count": 229,
   "metadata": {
    "execution": {
     "iopub.execute_input": "2021-09-28T16:14:28.378930Z",
     "iopub.status.busy": "2021-09-28T16:14:28.377961Z",
     "iopub.status.idle": "2021-09-28T16:14:28.403343Z",
     "shell.execute_reply": "2021-09-28T16:14:28.402046Z",
     "shell.execute_reply.started": "2021-09-28T16:14:28.378885Z"
    }
   },
   "outputs": [],
   "source": [
    "data.education = data.education.fillna('SCH')"
   ]
  },
  {
   "cell_type": "markdown",
   "metadata": {},
   "source": [
    "Распределим колонки по типу признака на числовые, бинарные и категориальные"
   ]
  },
  {
   "cell_type": "code",
   "execution_count": 230,
   "metadata": {
    "execution": {
     "iopub.execute_input": "2021-09-28T16:14:28.406072Z",
     "iopub.status.busy": "2021-09-28T16:14:28.405239Z",
     "iopub.status.idle": "2021-09-28T16:14:28.413086Z",
     "shell.execute_reply": "2021-09-28T16:14:28.412156Z",
     "shell.execute_reply.started": "2021-09-28T16:14:28.406019Z"
    }
   },
   "outputs": [],
   "source": [
    "num_cols = ['age','decline_app_cnt','score_bki','income','bki_request_cnt','region_rating'] \n",
    "cat_cols = ['education','work_address','home_address','sna','first_time'] \n",
    "bin_cols = ['sex','car','car_type','good_work','foreign_passport'] "
   ]
  },
  {
   "cell_type": "code",
   "execution_count": 231,
   "metadata": {
    "execution": {
     "iopub.execute_input": "2021-09-28T16:14:28.414940Z",
     "iopub.status.busy": "2021-09-28T16:14:28.414612Z",
     "iopub.status.idle": "2021-09-28T16:14:30.655059Z",
     "shell.execute_reply": "2021-09-28T16:14:30.653998Z",
     "shell.execute_reply.started": "2021-09-28T16:14:28.414899Z"
    }
   },
   "outputs": [],
   "source": [
    "data[num_cols].hist(figsize=(25,10),bins=100)"
   ]
  },
  {
   "cell_type": "markdown",
   "metadata": {},
   "source": [
    "Явно напрашивается прологорифмировать некоторые признаки, чтобы приблизить размпределение к нормальному"
   ]
  },
  {
   "cell_type": "code",
   "execution_count": 232,
   "metadata": {
    "execution": {
     "iopub.execute_input": "2021-09-28T16:14:30.659004Z",
     "iopub.status.busy": "2021-09-28T16:14:30.658713Z",
     "iopub.status.idle": "2021-09-28T16:14:33.016816Z",
     "shell.execute_reply": "2021-09-28T16:14:33.015841Z",
     "shell.execute_reply.started": "2021-09-28T16:14:30.658971Z"
    }
   },
   "outputs": [],
   "source": [
    "for i in ['age', 'bki_request_cnt', 'decline_app_cnt', 'income']:\n",
    "    data[i] = np.log(data[i]+1)\n",
    "data[num_cols].hist(figsize=(25,10),bins=100)"
   ]
  },
  {
   "cell_type": "markdown",
   "metadata": {
    "execution": {
     "iopub.execute_input": "2021-09-28T07:04:14.764144Z",
     "iopub.status.busy": "2021-09-28T07:04:14.763105Z",
     "iopub.status.idle": "2021-09-28T07:04:14.771887Z",
     "shell.execute_reply": "2021-09-28T07:04:14.770454Z",
     "shell.execute_reply.started": "2021-09-28T07:04:14.7641Z"
    }
   },
   "source": [
    "Улучшения есть, в разной степени, но есть"
   ]
  },
  {
   "cell_type": "code",
   "execution_count": 233,
   "metadata": {
    "execution": {
     "iopub.execute_input": "2021-09-28T16:14:33.018387Z",
     "iopub.status.busy": "2021-09-28T16:14:33.018145Z",
     "iopub.status.idle": "2021-09-28T16:14:34.215910Z",
     "shell.execute_reply": "2021-09-28T16:14:34.215309Z",
     "shell.execute_reply.started": "2021-09-28T16:14:33.018359Z"
    }
   },
   "outputs": [],
   "source": [
    "for col in num_cols:\n",
    "    boxplot(col)"
   ]
  },
  {
   "cell_type": "markdown",
   "metadata": {
    "execution": {
     "iopub.execute_input": "2021-09-28T07:12:20.487037Z",
     "iopub.status.busy": "2021-09-28T07:12:20.486575Z",
     "iopub.status.idle": "2021-09-28T07:12:20.49419Z",
     "shell.execute_reply": "2021-09-28T07:12:20.492603Z",
     "shell.execute_reply.started": "2021-09-28T07:12:20.487007Z"
    }
   },
   "source": [
    "дефолт больше характерен для более молодых    \n",
    "высокий score_bki характерен для дефолта    \n",
    "рейтинг региона влияет на целевую переменную     \n",
    "частые запросы в БКИ характерны для менее уверенных клиентов и могут сигнализировать дефолтную ситуацию    \n",
    "в среднем, более высокий доход свидетельствует о меньшей вероятности дефолта    "
   ]
  },
  {
   "cell_type": "code",
   "execution_count": 234,
   "metadata": {
    "execution": {
     "iopub.execute_input": "2021-09-28T16:14:34.217398Z",
     "iopub.status.busy": "2021-09-28T16:14:34.216917Z",
     "iopub.status.idle": "2021-09-28T16:14:34.562050Z",
     "shell.execute_reply": "2021-09-28T16:14:34.561008Z",
     "shell.execute_reply.started": "2021-09-28T16:14:34.217367Z"
    }
   },
   "outputs": [],
   "source": [
    "sns.heatmap(data[num_cols].corr())"
   ]
  },
  {
   "cell_type": "markdown",
   "metadata": {
    "execution": {
     "iopub.execute_input": "2021-09-28T07:24:50.81179Z",
     "iopub.status.busy": "2021-09-28T07:24:50.811426Z",
     "iopub.status.idle": "2021-09-28T07:24:50.818918Z",
     "shell.execute_reply": "2021-09-28T07:24:50.817369Z",
     "shell.execute_reply.started": "2021-09-28T07:24:50.811758Z"
    }
   },
   "source": [
    "Корреляция незначительна"
   ]
  },
  {
   "cell_type": "code",
   "execution_count": 235,
   "metadata": {
    "execution": {
     "iopub.execute_input": "2021-09-28T16:14:34.563804Z",
     "iopub.status.busy": "2021-09-28T16:14:34.563570Z",
     "iopub.status.idle": "2021-09-28T16:14:34.799297Z",
     "shell.execute_reply": "2021-09-28T16:14:34.798359Z",
     "shell.execute_reply.started": "2021-09-28T16:14:34.563779Z"
    }
   },
   "outputs": [],
   "source": [
    "imp_num = pd.Series(f_classif(data[num_cols], data['default'])[0], index = num_cols)\n",
    "imp_num.sort_values(inplace = True)\n",
    "imp_num.plot(kind = 'barh')"
   ]
  },
  {
   "cell_type": "markdown",
   "metadata": {
    "execution": {
     "iopub.execute_input": "2021-09-28T07:28:04.947602Z",
     "iopub.status.busy": "2021-09-28T07:28:04.947141Z",
     "iopub.status.idle": "2021-09-28T07:28:04.957294Z",
     "shell.execute_reply": "2021-09-28T07:28:04.956416Z",
     "shell.execute_reply.started": "2021-09-28T07:28:04.947553Z"
    }
   },
   "source": [
    "Оценка значимости показывает наиболее значимым score_bki, давайте добавим новых признаков и оценим ещё раз"
   ]
  },
  {
   "cell_type": "code",
   "execution_count": 236,
   "metadata": {
    "execution": {
     "iopub.execute_input": "2021-09-28T16:14:34.800709Z",
     "iopub.status.busy": "2021-09-28T16:14:34.800495Z",
     "iopub.status.idle": "2021-09-28T16:14:35.034220Z",
     "shell.execute_reply": "2021-09-28T16:14:35.033109Z",
     "shell.execute_reply.started": "2021-09-28T16:14:34.800686Z"
    }
   },
   "outputs": [],
   "source": [
    "#поработаем с колонкой app_date\n",
    "# получим кол-во дней от \"начала эпохи\" датасета\n",
    "data['app_date'] = pd.to_datetime(data['app_date'], format='%d%b%Y')\n",
    "data_min = min(data['app_date'])\n",
    "data['days'] = (data['app_date'] - data_min).dt.days.astype('int')\n",
    "data['day'] = data['app_date'].dt.day\n",
    "data['month'] = data['app_date'].dt.month\n",
    "\n",
    "data.drop(['app_date'],  axis = 1, inplace = True)"
   ]
  },
  {
   "cell_type": "code",
   "execution_count": 237,
   "metadata": {
    "execution": {
     "iopub.execute_input": "2021-09-28T16:14:35.036865Z",
     "iopub.status.busy": "2021-09-28T16:14:35.035798Z",
     "iopub.status.idle": "2021-09-28T16:14:35.535927Z",
     "shell.execute_reply": "2021-09-28T16:14:35.535051Z",
     "shell.execute_reply.started": "2021-09-28T16:14:35.036816Z"
    }
   },
   "outputs": [],
   "source": [
    "# средний доход по возрасту\n",
    "mean_income = data.groupby('age')['income'].mean().to_dict()\n",
    "data['mean_income_age'] = data['age'].map(mean_income)\n",
    "\n",
    "# максимальный доход по возрасту\n",
    "max_income = data.groupby('age')['income'].max().to_dict()\n",
    "data['max_income_age'] = data['age'].map(max_income)\n",
    "\n",
    "# нормализованный доход\n",
    "data[\"normalized_income\"] = abs((data.income - data.mean_income_age)/data.max_income_age)\n",
    "\n",
    "# запросы по возрасту\n",
    "mean_bki = data.groupby('age')['bki_request_cnt'].mean().to_dict()\n",
    "data['mean_requests_age'] = data['age'].map(mean_bki)\n",
    "\n",
    "# запросы по доходу\n",
    "mean_bki_inc = data.groupby('income')['bki_request_cnt'].mean().to_dict()\n",
    "data['mean_requests_income'] = data['income'].map(mean_bki_inc)\n",
    "\n",
    "# доход по региону\n",
    "mean_income_rat = data.groupby('region_rating')['income'].mean().to_dict()\n",
    "data['mean_income_region'] = data['region_rating'].map(mean_income_rat)\n",
    "\n",
    "# вытащим два столбца из датасета\n",
    "data_addresses = data[['work_address', 'home_address']].values\n",
    "\n",
    "# создадим Scaler\n",
    "scaler = StandardScaler()\n",
    "scaled_data = scaler.fit_transform(data_addresses)\n",
    "\n",
    "# У нас два вектора. Сократим до одного, оставив наиболее значимую информацию.\n",
    "pca = PCA(n_components=1)\n",
    "pca.fit(scaled_data)\n",
    "pca_data = pca.transform(scaled_data)\n",
    "data['pca_address'] = pca_data\n",
    "data['pca_address'] = data['pca_address'] + 5\n",
    "data['pca_address'] = data['pca_address'].apply(lambda x: np.log(x) + 1)\n",
    "\n",
    "# удалим ненужные столбцы\n",
    "data.drop(['home_address','work_address'], axis=1, inplace=True)"
   ]
  },
  {
   "cell_type": "code",
   "execution_count": 238,
   "metadata": {
    "execution": {
     "iopub.execute_input": "2021-09-28T16:14:35.537761Z",
     "iopub.status.busy": "2021-09-28T16:14:35.537379Z",
     "iopub.status.idle": "2021-09-28T16:14:35.743374Z",
     "shell.execute_reply": "2021-09-28T16:14:35.742357Z",
     "shell.execute_reply.started": "2021-09-28T16:14:35.537720Z"
    }
   },
   "outputs": [],
   "source": [
    "label_encoder = LabelEncoder()\n",
    "for col in bin_cols:\n",
    "    data[col] = label_encoder.fit_transform(data[col])\n",
    "data['education'] = pd.Series(label_encoder.fit_transform(data['education']))"
   ]
  },
  {
   "cell_type": "code",
   "execution_count": 239,
   "metadata": {
    "execution": {
     "iopub.execute_input": "2021-09-28T16:14:35.745663Z",
     "iopub.status.busy": "2021-09-28T16:14:35.745121Z",
     "iopub.status.idle": "2021-09-28T16:14:35.750671Z",
     "shell.execute_reply": "2021-09-28T16:14:35.750047Z",
     "shell.execute_reply.started": "2021-09-28T16:14:35.745629Z"
    }
   },
   "outputs": [],
   "source": [
    "# новый список колонок\n",
    "num_cols = ['age','decline_app_cnt','score_bki','income','bki_request_cnt','days',\n",
    "            'mean_income_age','region_rating','max_income_age', 'normalized_income',\n",
    "            'mean_requests_age', 'mean_requests_income', 'mean_income_region'] \n",
    "cat_cols = ['education','pca_address','sna','first_time'] \n",
    "bin_cols = ['sex','car','car_type','good_work','foreign_passport'] "
   ]
  },
  {
   "cell_type": "markdown",
   "metadata": {},
   "source": [
    "Итак, что у нас по значимости признаков"
   ]
  },
  {
   "cell_type": "code",
   "execution_count": 240,
   "metadata": {
    "execution": {
     "iopub.execute_input": "2021-09-28T16:14:35.752270Z",
     "iopub.status.busy": "2021-09-28T16:14:35.752023Z",
     "iopub.status.idle": "2021-09-28T16:14:36.103452Z",
     "shell.execute_reply": "2021-09-28T16:14:36.102646Z",
     "shell.execute_reply.started": "2021-09-28T16:14:35.752241Z"
    }
   },
   "outputs": [],
   "source": [
    "imp_num = pd.Series(f_classif(data[num_cols], data['default'])[0], index = num_cols)\n",
    "imp_num.sort_values(inplace = True)\n",
    "imp_num.plot(kind = 'barh')"
   ]
  },
  {
   "cell_type": "markdown",
   "metadata": {},
   "source": [
    "а по бинарным и категориальным"
   ]
  },
  {
   "cell_type": "code",
   "execution_count": 241,
   "metadata": {
    "execution": {
     "iopub.execute_input": "2021-09-28T16:14:36.105294Z",
     "iopub.status.busy": "2021-09-28T16:14:36.105035Z",
     "iopub.status.idle": "2021-09-28T16:14:36.488670Z",
     "shell.execute_reply": "2021-09-28T16:14:36.487618Z",
     "shell.execute_reply.started": "2021-09-28T16:14:36.105266Z"
    }
   },
   "outputs": [],
   "source": [
    "imp_cat = pd.Series(mutual_info_classif(data[bin_cols + cat_cols], data['default'],\n",
    "                                     discrete_features =True), index = bin_cols + cat_cols)\n",
    "imp_cat.sort_values(inplace = True)\n",
    "imp_cat.plot(kind = 'barh')"
   ]
  },
  {
   "cell_type": "code",
   "execution_count": 242,
   "metadata": {
    "execution": {
     "iopub.execute_input": "2021-09-28T16:14:36.490125Z",
     "iopub.status.busy": "2021-09-28T16:14:36.489909Z",
     "iopub.status.idle": "2021-09-28T16:14:36.546655Z",
     "shell.execute_reply": "2021-09-28T16:14:36.545797Z",
     "shell.execute_reply.started": "2021-09-28T16:14:36.490099Z"
    }
   },
   "outputs": [],
   "source": [
    "data[num_cols] = pd.DataFrame(StandardScaler().fit_transform(data[num_cols]), columns = data[num_cols].columns)"
   ]
  },
  {
   "cell_type": "code",
   "execution_count": 243,
   "metadata": {
    "execution": {
     "iopub.execute_input": "2021-09-28T16:14:36.548429Z",
     "iopub.status.busy": "2021-09-28T16:14:36.547922Z",
     "iopub.status.idle": "2021-09-28T16:14:36.586764Z",
     "shell.execute_reply": "2021-09-28T16:14:36.585909Z",
     "shell.execute_reply.started": "2021-09-28T16:14:36.548381Z"
    }
   },
   "outputs": [],
   "source": [
    "data = pd.get_dummies(data, prefix=cat_cols, columns=cat_cols)"
   ]
  },
  {
   "cell_type": "markdown",
   "metadata": {
    "execution": {
     "iopub.execute_input": "2021-09-28T08:12:08.247251Z",
     "iopub.status.busy": "2021-09-28T08:12:08.246746Z",
     "iopub.status.idle": "2021-09-28T08:12:08.254467Z",
     "shell.execute_reply": "2021-09-28T08:12:08.252931Z",
     "shell.execute_reply.started": "2021-09-28T08:12:08.247208Z"
    }
   },
   "source": [
    "Теперь можно и модель построить, подобрав параметы с помощью RandomizedSearchCV"
   ]
  },
  {
   "cell_type": "code",
   "execution_count": 244,
   "metadata": {
    "execution": {
     "iopub.execute_input": "2021-09-28T16:14:36.588744Z",
     "iopub.status.busy": "2021-09-28T16:14:36.588240Z",
     "iopub.status.idle": "2021-09-28T16:15:15.242905Z",
     "shell.execute_reply": "2021-09-28T16:15:15.241908Z",
     "shell.execute_reply.started": "2021-09-28T16:14:36.588717Z"
    }
   },
   "outputs": [],
   "source": [
    "train_data = data.query('sample == 1').drop(['sample','client_id'], axis=1)\n",
    "test_data = data.query('sample == 0').drop(['sample','client_id'], axis=1)\n",
    "\n",
    "\n",
    "\n",
    "X = train_data.drop(['default'], axis=1).values\n",
    "Y = train_data['default'].values \n",
    "\n",
    "\n",
    "\n",
    "X_train, X_test, Y_train, Y_test = train_test_split(X, Y, test_size=0.20, random_state=300)\n",
    "\n",
    "lr = LogisticRegression(penalty = 'l2', C = 10000.0, max_iter = 1000, solver='sag')\n",
    "\n",
    "lr.fit(X_train, Y_train)\n",
    "y_pred = lr.predict(X_test)"
   ]
  },
  {
   "cell_type": "code",
   "execution_count": 245,
   "metadata": {
    "execution": {
     "iopub.execute_input": "2021-09-28T16:15:15.245816Z",
     "iopub.status.busy": "2021-09-28T16:15:15.244455Z",
     "iopub.status.idle": "2021-09-28T16:15:15.501371Z",
     "shell.execute_reply": "2021-09-28T16:15:15.500298Z",
     "shell.execute_reply.started": "2021-09-28T16:15:15.245758Z"
    }
   },
   "outputs": [],
   "source": [
    "probs = lr.predict_proba(X_test)\n",
    "probs = probs[:,1]\n",
    "\n",
    "\n",
    "fpr, tpr, threshold = roc_curve(Y_test, probs)\n",
    "roc_auc = roc_auc_score(Y_test, probs)\n",
    "\n",
    "plt.figure()\n",
    "plt.plot([0, 1], label='Baseline', linestyle='--')\n",
    "plt.plot(fpr, tpr, label = 'Regression')\n",
    "plt.title('Logistic Regression ROC AUC = %0.3f' % roc_auc)\n",
    "plt.ylabel('True Positive Rate')\n",
    "plt.xlabel('False Positive Rate')\n",
    "plt.legend(loc = 'lower right')\n",
    "plt.show()"
   ]
  },
  {
   "cell_type": "code",
   "execution_count": 246,
   "metadata": {
    "execution": {
     "iopub.execute_input": "2021-09-28T16:15:15.503262Z",
     "iopub.status.busy": "2021-09-28T16:15:15.502590Z",
     "iopub.status.idle": "2021-09-28T16:15:15.528264Z",
     "shell.execute_reply": "2021-09-28T16:15:15.527194Z",
     "shell.execute_reply.started": "2021-09-28T16:15:15.503175Z"
    }
   },
   "outputs": [],
   "source": [
    "print('accuracy_score:',accuracy_score(Y_test,y_pred))\n",
    "print('precision_score:',precision_score(Y_test,y_pred))\n",
    "print('recall_score:',recall_score(Y_test,y_pred))\n",
    "print('f1_score:',f1_score(Y_test,y_pred))"
   ]
  },
  {
   "cell_type": "code",
   "execution_count": 247,
   "metadata": {
    "execution": {
     "iopub.execute_input": "2021-09-28T16:15:15.530546Z",
     "iopub.status.busy": "2021-09-28T16:15:15.530214Z",
     "iopub.status.idle": "2021-09-28T16:15:15.813477Z",
     "shell.execute_reply": "2021-09-28T16:15:15.812464Z",
     "shell.execute_reply.started": "2021-09-28T16:15:15.530508Z"
    }
   },
   "outputs": [],
   "source": [
    "X_test = test_data.drop(['default'], axis=1)\n",
    "cm = confusion_matrix(Y_test, y_pred)\n",
    "cmd = ConfusionMatrixDisplay(cm, display_labels=['non_default','default'])\n",
    "cmd.plot()\n",
    "cmd.ax_.set(xlabel='Predicted', ylabel='True')"
   ]
  },
  {
   "cell_type": "code",
   "execution_count": 248,
   "metadata": {
    "execution": {
     "iopub.execute_input": "2021-09-28T16:15:15.816668Z",
     "iopub.status.busy": "2021-09-28T16:15:15.814657Z",
     "iopub.status.idle": "2021-09-28T16:15:15.821403Z",
     "shell.execute_reply": "2021-09-28T16:15:15.820742Z",
     "shell.execute_reply.started": "2021-09-28T16:15:15.816633Z"
    }
   },
   "outputs": [],
   "source": [
    "# from sklearn.model_selection import GridSearchCV\n",
    "\n",
    "# # Добавим типы регуляризации\n",
    "# penalty = ['l1', 'l2']\n",
    "\n",
    "# # Зададим ограничения для параметра регуляризации\n",
    "# C = np.logspace(0, 4, 10)\n",
    "\n",
    "# # Создадим гиперпараметры\n",
    "# hyperparameters = dict(C=C, penalty=penalty)\n",
    "\n",
    "# model = LogisticRegression(max_iter = 1000)\n",
    "# model.fit(X_train, Y_train)\n",
    "\n",
    "# # Создаем сетку поиска с использованием 5-кратной перекрестной проверки\n",
    "# clf = GridSearchCV(model, hyperparameters, cv=5, verbose=0)\n",
    "\n",
    "# best_model = clf.fit(X_train, Y_train)\n",
    "\n",
    "# # View best hyperparameters\n",
    "# print('Лучшее Penalty:', best_model.best_estimator_.get_params()['penalty'])\n",
    "# print('Лучшее C:', best_model.best_estimator_.get_params()['C'])"
   ]
  },
  {
   "cell_type": "code",
   "execution_count": 249,
   "metadata": {
    "execution": {
     "iopub.execute_input": "2021-09-28T16:15:15.823089Z",
     "iopub.status.busy": "2021-09-28T16:15:15.822621Z",
     "iopub.status.idle": "2021-09-28T16:15:15.838779Z",
     "shell.execute_reply": "2021-09-28T16:15:15.837899Z",
     "shell.execute_reply.started": "2021-09-28T16:15:15.823050Z"
    }
   },
   "outputs": [],
   "source": [
    "# from sklearn.model_selection import RandomizedSearchCV\n",
    "\n",
    "# # Добавим типы регуляризации\n",
    "# penalty = ['l1', 'l2']\n",
    "\n",
    "# # Зададим ограничения для параметра регуляризации\n",
    "# C = np.logspace(0, 4, 10)\n",
    "# solver = ['lbfgs', 'liblinear', 'sag', 'saga']\n",
    "\n",
    "# # Создадим гиперпараметры\n",
    "# hyperparameters = dict(C=C, penalty=penalty, solver = solver)\n",
    "\n",
    "# model = LogisticRegression(max_iter = 1000)\n",
    "# model.fit(X_train, Y_train)\n",
    "\n",
    "# # Создаем сетку поиска с использованием 5-кратной перекрестной проверки\n",
    "# clf = RandomizedSearchCV(model, hyperparameters, cv=5, verbose=0)\n",
    "\n",
    "# best_model = clf.fit(X_train, Y_train)\n",
    "\n",
    "# # View best hyperparameters\n",
    "# print('Лучшее Penalty:', best_model.best_estimator_.get_params()['penalty'])\n",
    "# print('Лучшее C:', best_model.best_estimator_.get_params()['C'])\n",
    "# print('Лучшее solver:', best_model.best_estimator_.get_params()['solver'])"
   ]
  },
  {
   "cell_type": "code",
   "execution_count": 250,
   "metadata": {
    "execution": {
     "iopub.execute_input": "2021-09-28T16:15:15.840648Z",
     "iopub.status.busy": "2021-09-28T16:15:15.840086Z",
     "iopub.status.idle": "2021-09-28T16:15:15.864111Z",
     "shell.execute_reply": "2021-09-28T16:15:15.863212Z",
     "shell.execute_reply.started": "2021-09-28T16:15:15.840607Z"
    }
   },
   "outputs": [],
   "source": [
    "# Лучшее Penalty: l2\n",
    "# Лучшее C: 10000.0\n",
    "# Лучшее solver: sag"
   ]
  },
  {
   "cell_type": "code",
   "execution_count": 251,
   "metadata": {
    "execution": {
     "iopub.execute_input": "2021-09-28T16:15:15.866609Z",
     "iopub.status.busy": "2021-09-28T16:15:15.865449Z",
     "iopub.status.idle": "2021-09-28T16:15:16.099262Z",
     "shell.execute_reply": "2021-09-28T16:15:16.098196Z",
     "shell.execute_reply.started": "2021-09-28T16:15:15.866566Z"
    }
   },
   "outputs": [],
   "source": [
    "X_test = test_data.drop(['default'], axis=1)\n",
    "y_pred = lr.predict_proba(X_test)\n",
    "results_df = pd.DataFrame(data={'client_id':test['client_id'], 'default':y_pred[:,1]})\n",
    "results_df.to_csv('submission.csv', index=False)\n",
    "results_df"
   ]
  },
  {
   "cell_type": "markdown",
   "metadata": {},
   "source": [
    "### Вывод\n",
    "\n",
    "После обработки датасета и добавления новых признаков была сгенерирована базовая модель логистической регрессии, которая показала ROC AUC > 0.74, а также accuracy 0.88, precision 0.43, recall 0.03 и f1_score 0.05.\n",
    "\n",
    "Для подбора гиперпараметров через GridSearchCV и RandomizedSearchCV использовались LogisticRegression. "
   ]
  }
 ],
 "metadata": {
  "kernelspec": {
   "display_name": "Python 3",
   "language": "python",
   "name": "python3"
  },
  "language_info": {
   "codemirror_mode": {
    "name": "ipython",
    "version": 3
   },
   "file_extension": ".py",
   "mimetype": "text/x-python",
   "name": "python",
   "nbconvert_exporter": "python",
   "pygments_lexer": "ipython3",
   "version": "3.9.1"
  }
 },
 "nbformat": 4,
 "nbformat_minor": 4
}
