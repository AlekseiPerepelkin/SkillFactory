{
  "nbformat": 4,
  "nbformat_minor": 0,
  "metadata": {
    "colab": {
      "provenance": [],
      "collapsed_sections": []
    },
    "kernelspec": {
      "name": "python3",
      "display_name": "Python 3"
    },
    "language_info": {
      "name": "python"
    }
  },
  "cells": [
    {
      "cell_type": "code",
      "source": [
        "# !pip install causalml catboost scikit-uplift "
      ],
      "metadata": {
        "id": "TBdq6OjhuA1C"
      },
      "execution_count": null,
      "outputs": []
    },
    {
      "cell_type": "code",
      "execution_count": null,
      "metadata": {
        "id": "smIn4ZHNmiz8",
        "colab": {
          "base_uri": "https://localhost:8080/"
        },
        "outputId": "55a474c1-3088-4280-f8ad-f90101413a4e"
      },
      "outputs": [
        {
          "output_type": "stream",
          "name": "stderr",
          "text": [
            "ERROR:duecredit:Failed to import duecredit due to No module named 'duecredit'\n"
          ]
        }
      ],
      "source": [
        "import numpy as np \n",
        "import pandas as pd \n",
        "import matplotlib.pyplot as plt\n",
        "import seaborn as sns\n",
        "\n",
        "from sklearn.model_selection import train_test_split\n",
        "from sklearn.utils import class_weight \n",
        "from sklearn.linear_model import LogisticRegression, LinearRegression \n",
        "\n",
        "from causalml.inference.meta import BaseSClassifier, BaseTClassifier, BaseXClassifier, BaseRClassifier\n",
        "from causalml.inference.tree import UpliftRandomForestClassifier\n",
        "from catboost import CatBoostClassifier\n",
        "\n",
        "from sklift.metrics.metrics import qini_auc_score\n",
        "from sklift.viz import plot_qini_curve"
      ]
    },
    {
      "cell_type": "code",
      "source": [
        "df = pd.read_csv(\"/content/drive/MyDrive/data/criteo-uplift-v2.1.csv\", sep=\",\")\n",
        "df.head()"
      ],
      "metadata": {
        "id": "6GHNQnjams1e",
        "colab": {
          "base_uri": "https://localhost:8080/",
          "height": 206
        },
        "outputId": "6712e0b6-edb8-4c86-aaff-79f621013a1d"
      },
      "execution_count": null,
      "outputs": [
        {
          "output_type": "execute_result",
          "data": {
            "text/plain": [
              "          f0         f1        f2        f3         f4        f5        f6  \\\n",
              "0  12.616365  10.059654  8.976429  4.679882  10.280525  4.115453  0.294443   \n",
              "1  12.616365  10.059654  9.002689  4.679882  10.280525  4.115453  0.294443   \n",
              "2  12.616365  10.059654  8.964775  4.679882  10.280525  4.115453  0.294443   \n",
              "3  12.616365  10.059654  9.002801  4.679882  10.280525  4.115453  0.294443   \n",
              "4  12.616365  10.059654  9.037999  4.679882  10.280525  4.115453  0.294443   \n",
              "\n",
              "         f7        f8         f9       f10       f11  treatment  conversion  \\\n",
              "0  4.833815  3.955396  13.190056  5.300375 -0.168679          1           0   \n",
              "1  4.833815  3.955396  13.190056  5.300375 -0.168679          1           0   \n",
              "2  4.833815  3.955396  13.190056  5.300375 -0.168679          1           0   \n",
              "3  4.833815  3.955396  13.190056  5.300375 -0.168679          1           0   \n",
              "4  4.833815  3.955396  13.190056  5.300375 -0.168679          1           0   \n",
              "\n",
              "   visit  exposure  \n",
              "0      0         0  \n",
              "1      0         0  \n",
              "2      0         0  \n",
              "3      0         0  \n",
              "4      0         0  "
            ],
            "text/html": [
              "\n",
              "  <div id=\"df-6a4485ae-2666-484f-bba4-854c63338b51\">\n",
              "    <div class=\"colab-df-container\">\n",
              "      <div>\n",
              "<style scoped>\n",
              "    .dataframe tbody tr th:only-of-type {\n",
              "        vertical-align: middle;\n",
              "    }\n",
              "\n",
              "    .dataframe tbody tr th {\n",
              "        vertical-align: top;\n",
              "    }\n",
              "\n",
              "    .dataframe thead th {\n",
              "        text-align: right;\n",
              "    }\n",
              "</style>\n",
              "<table border=\"1\" class=\"dataframe\">\n",
              "  <thead>\n",
              "    <tr style=\"text-align: right;\">\n",
              "      <th></th>\n",
              "      <th>f0</th>\n",
              "      <th>f1</th>\n",
              "      <th>f2</th>\n",
              "      <th>f3</th>\n",
              "      <th>f4</th>\n",
              "      <th>f5</th>\n",
              "      <th>f6</th>\n",
              "      <th>f7</th>\n",
              "      <th>f8</th>\n",
              "      <th>f9</th>\n",
              "      <th>f10</th>\n",
              "      <th>f11</th>\n",
              "      <th>treatment</th>\n",
              "      <th>conversion</th>\n",
              "      <th>visit</th>\n",
              "      <th>exposure</th>\n",
              "    </tr>\n",
              "  </thead>\n",
              "  <tbody>\n",
              "    <tr>\n",
              "      <th>0</th>\n",
              "      <td>12.616365</td>\n",
              "      <td>10.059654</td>\n",
              "      <td>8.976429</td>\n",
              "      <td>4.679882</td>\n",
              "      <td>10.280525</td>\n",
              "      <td>4.115453</td>\n",
              "      <td>0.294443</td>\n",
              "      <td>4.833815</td>\n",
              "      <td>3.955396</td>\n",
              "      <td>13.190056</td>\n",
              "      <td>5.300375</td>\n",
              "      <td>-0.168679</td>\n",
              "      <td>1</td>\n",
              "      <td>0</td>\n",
              "      <td>0</td>\n",
              "      <td>0</td>\n",
              "    </tr>\n",
              "    <tr>\n",
              "      <th>1</th>\n",
              "      <td>12.616365</td>\n",
              "      <td>10.059654</td>\n",
              "      <td>9.002689</td>\n",
              "      <td>4.679882</td>\n",
              "      <td>10.280525</td>\n",
              "      <td>4.115453</td>\n",
              "      <td>0.294443</td>\n",
              "      <td>4.833815</td>\n",
              "      <td>3.955396</td>\n",
              "      <td>13.190056</td>\n",
              "      <td>5.300375</td>\n",
              "      <td>-0.168679</td>\n",
              "      <td>1</td>\n",
              "      <td>0</td>\n",
              "      <td>0</td>\n",
              "      <td>0</td>\n",
              "    </tr>\n",
              "    <tr>\n",
              "      <th>2</th>\n",
              "      <td>12.616365</td>\n",
              "      <td>10.059654</td>\n",
              "      <td>8.964775</td>\n",
              "      <td>4.679882</td>\n",
              "      <td>10.280525</td>\n",
              "      <td>4.115453</td>\n",
              "      <td>0.294443</td>\n",
              "      <td>4.833815</td>\n",
              "      <td>3.955396</td>\n",
              "      <td>13.190056</td>\n",
              "      <td>5.300375</td>\n",
              "      <td>-0.168679</td>\n",
              "      <td>1</td>\n",
              "      <td>0</td>\n",
              "      <td>0</td>\n",
              "      <td>0</td>\n",
              "    </tr>\n",
              "    <tr>\n",
              "      <th>3</th>\n",
              "      <td>12.616365</td>\n",
              "      <td>10.059654</td>\n",
              "      <td>9.002801</td>\n",
              "      <td>4.679882</td>\n",
              "      <td>10.280525</td>\n",
              "      <td>4.115453</td>\n",
              "      <td>0.294443</td>\n",
              "      <td>4.833815</td>\n",
              "      <td>3.955396</td>\n",
              "      <td>13.190056</td>\n",
              "      <td>5.300375</td>\n",
              "      <td>-0.168679</td>\n",
              "      <td>1</td>\n",
              "      <td>0</td>\n",
              "      <td>0</td>\n",
              "      <td>0</td>\n",
              "    </tr>\n",
              "    <tr>\n",
              "      <th>4</th>\n",
              "      <td>12.616365</td>\n",
              "      <td>10.059654</td>\n",
              "      <td>9.037999</td>\n",
              "      <td>4.679882</td>\n",
              "      <td>10.280525</td>\n",
              "      <td>4.115453</td>\n",
              "      <td>0.294443</td>\n",
              "      <td>4.833815</td>\n",
              "      <td>3.955396</td>\n",
              "      <td>13.190056</td>\n",
              "      <td>5.300375</td>\n",
              "      <td>-0.168679</td>\n",
              "      <td>1</td>\n",
              "      <td>0</td>\n",
              "      <td>0</td>\n",
              "      <td>0</td>\n",
              "    </tr>\n",
              "  </tbody>\n",
              "</table>\n",
              "</div>\n",
              "      <button class=\"colab-df-convert\" onclick=\"convertToInteractive('df-6a4485ae-2666-484f-bba4-854c63338b51')\"\n",
              "              title=\"Convert this dataframe to an interactive table.\"\n",
              "              style=\"display:none;\">\n",
              "        \n",
              "  <svg xmlns=\"http://www.w3.org/2000/svg\" height=\"24px\"viewBox=\"0 0 24 24\"\n",
              "       width=\"24px\">\n",
              "    <path d=\"M0 0h24v24H0V0z\" fill=\"none\"/>\n",
              "    <path d=\"M18.56 5.44l.94 2.06.94-2.06 2.06-.94-2.06-.94-.94-2.06-.94 2.06-2.06.94zm-11 1L8.5 8.5l.94-2.06 2.06-.94-2.06-.94L8.5 2.5l-.94 2.06-2.06.94zm10 10l.94 2.06.94-2.06 2.06-.94-2.06-.94-.94-2.06-.94 2.06-2.06.94z\"/><path d=\"M17.41 7.96l-1.37-1.37c-.4-.4-.92-.59-1.43-.59-.52 0-1.04.2-1.43.59L10.3 9.45l-7.72 7.72c-.78.78-.78 2.05 0 2.83L4 21.41c.39.39.9.59 1.41.59.51 0 1.02-.2 1.41-.59l7.78-7.78 2.81-2.81c.8-.78.8-2.07 0-2.86zM5.41 20L4 18.59l7.72-7.72 1.47 1.35L5.41 20z\"/>\n",
              "  </svg>\n",
              "      </button>\n",
              "      \n",
              "  <style>\n",
              "    .colab-df-container {\n",
              "      display:flex;\n",
              "      flex-wrap:wrap;\n",
              "      gap: 12px;\n",
              "    }\n",
              "\n",
              "    .colab-df-convert {\n",
              "      background-color: #E8F0FE;\n",
              "      border: none;\n",
              "      border-radius: 50%;\n",
              "      cursor: pointer;\n",
              "      display: none;\n",
              "      fill: #1967D2;\n",
              "      height: 32px;\n",
              "      padding: 0 0 0 0;\n",
              "      width: 32px;\n",
              "    }\n",
              "\n",
              "    .colab-df-convert:hover {\n",
              "      background-color: #E2EBFA;\n",
              "      box-shadow: 0px 1px 2px rgba(60, 64, 67, 0.3), 0px 1px 3px 1px rgba(60, 64, 67, 0.15);\n",
              "      fill: #174EA6;\n",
              "    }\n",
              "\n",
              "    [theme=dark] .colab-df-convert {\n",
              "      background-color: #3B4455;\n",
              "      fill: #D2E3FC;\n",
              "    }\n",
              "\n",
              "    [theme=dark] .colab-df-convert:hover {\n",
              "      background-color: #434B5C;\n",
              "      box-shadow: 0px 1px 3px 1px rgba(0, 0, 0, 0.15);\n",
              "      filter: drop-shadow(0px 1px 2px rgba(0, 0, 0, 0.3));\n",
              "      fill: #FFFFFF;\n",
              "    }\n",
              "  </style>\n",
              "\n",
              "      <script>\n",
              "        const buttonEl =\n",
              "          document.querySelector('#df-6a4485ae-2666-484f-bba4-854c63338b51 button.colab-df-convert');\n",
              "        buttonEl.style.display =\n",
              "          google.colab.kernel.accessAllowed ? 'block' : 'none';\n",
              "\n",
              "        async function convertToInteractive(key) {\n",
              "          const element = document.querySelector('#df-6a4485ae-2666-484f-bba4-854c63338b51');\n",
              "          const dataTable =\n",
              "            await google.colab.kernel.invokeFunction('convertToInteractive',\n",
              "                                                     [key], {});\n",
              "          if (!dataTable) return;\n",
              "\n",
              "          const docLinkHtml = 'Like what you see? Visit the ' +\n",
              "            '<a target=\"_blank\" href=https://colab.research.google.com/notebooks/data_table.ipynb>data table notebook</a>'\n",
              "            + ' to learn more about interactive tables.';\n",
              "          element.innerHTML = '';\n",
              "          dataTable['output_type'] = 'display_data';\n",
              "          await google.colab.output.renderOutput(dataTable, element);\n",
              "          const docLink = document.createElement('div');\n",
              "          docLink.innerHTML = docLinkHtml;\n",
              "          element.appendChild(docLink);\n",
              "        }\n",
              "      </script>\n",
              "    </div>\n",
              "  </div>\n",
              "  "
            ]
          },
          "metadata": {},
          "execution_count": 3
        }
      ]
    },
    {
      "cell_type": "code",
      "source": [
        "df.info()"
      ],
      "metadata": {
        "colab": {
          "base_uri": "https://localhost:8080/"
        },
        "id": "wcfBWpMZA3C6",
        "outputId": "95332ff6-6935-4ab5-feb1-e24021cb2b26"
      },
      "execution_count": null,
      "outputs": [
        {
          "output_type": "stream",
          "name": "stdout",
          "text": [
            "<class 'pandas.core.frame.DataFrame'>\n",
            "RangeIndex: 13979592 entries, 0 to 13979591\n",
            "Data columns (total 16 columns):\n",
            " #   Column      Dtype  \n",
            "---  ------      -----  \n",
            " 0   f0          float64\n",
            " 1   f1          float64\n",
            " 2   f2          float64\n",
            " 3   f3          float64\n",
            " 4   f4          float64\n",
            " 5   f5          float64\n",
            " 6   f6          float64\n",
            " 7   f7          float64\n",
            " 8   f8          float64\n",
            " 9   f9          float64\n",
            " 10  f10         float64\n",
            " 11  f11         float64\n",
            " 12  treatment   int64  \n",
            " 13  conversion  int64  \n",
            " 14  visit       int64  \n",
            " 15  exposure    int64  \n",
            "dtypes: float64(12), int64(4)\n",
            "memory usage: 1.7 GB\n"
          ]
        }
      ]
    },
    {
      "cell_type": "markdown",
      "source": [
        "Описание данных: https://ailab.criteo.com/criteo-uplift-prediction-dataset/      \n",
        "      \n",
        "Data description:\n",
        "This dataset is constructed by assembling data resulting from several incrementality tests, a particular randomized trial procedure where a random part of the population is prevented from being targeted by advertising. it consists of 25M rows, each one representing a user with 11 features, a treatment indicator and 2 labels (visits and conversions).      \n",
        "\n",
        "У нас правда не 25 млн строк, но ключевой момент не в этом. А в том, что теперь мы понимаем, что есть treatment и индикаторами  выступают conversion и visit.\n",
        "\n",
        "\n",
        "\n"
      ],
      "metadata": {
        "id": "2oE3IyEIdXBk"
      }
    },
    {
      "cell_type": "code",
      "source": [
        "df[['treatment','conversion', 'visit']].value_counts().reset_index(name='count')"
      ],
      "metadata": {
        "colab": {
          "base_uri": "https://localhost:8080/",
          "height": 238
        },
        "id": "tx0mzERJPaf9",
        "outputId": "ecfdbc96-ab3a-4fd4-f056-6ae8336e0257"
      },
      "execution_count": null,
      "outputs": [
        {
          "output_type": "execute_result",
          "data": {
            "text/plain": [
              "   treatment  conversion  visit     count\n",
              "0          1           0      0  11305831\n",
              "1          0           0      0   2016832\n",
              "2          1           0      1    540113\n",
              "3          0           0      1     76042\n",
              "4          1           1      1     36711\n",
              "5          0           1      1      4063"
            ],
            "text/html": [
              "\n",
              "  <div id=\"df-849a78db-8ae8-4ddd-916f-59532618cc8f\">\n",
              "    <div class=\"colab-df-container\">\n",
              "      <div>\n",
              "<style scoped>\n",
              "    .dataframe tbody tr th:only-of-type {\n",
              "        vertical-align: middle;\n",
              "    }\n",
              "\n",
              "    .dataframe tbody tr th {\n",
              "        vertical-align: top;\n",
              "    }\n",
              "\n",
              "    .dataframe thead th {\n",
              "        text-align: right;\n",
              "    }\n",
              "</style>\n",
              "<table border=\"1\" class=\"dataframe\">\n",
              "  <thead>\n",
              "    <tr style=\"text-align: right;\">\n",
              "      <th></th>\n",
              "      <th>treatment</th>\n",
              "      <th>conversion</th>\n",
              "      <th>visit</th>\n",
              "      <th>count</th>\n",
              "    </tr>\n",
              "  </thead>\n",
              "  <tbody>\n",
              "    <tr>\n",
              "      <th>0</th>\n",
              "      <td>1</td>\n",
              "      <td>0</td>\n",
              "      <td>0</td>\n",
              "      <td>11305831</td>\n",
              "    </tr>\n",
              "    <tr>\n",
              "      <th>1</th>\n",
              "      <td>0</td>\n",
              "      <td>0</td>\n",
              "      <td>0</td>\n",
              "      <td>2016832</td>\n",
              "    </tr>\n",
              "    <tr>\n",
              "      <th>2</th>\n",
              "      <td>1</td>\n",
              "      <td>0</td>\n",
              "      <td>1</td>\n",
              "      <td>540113</td>\n",
              "    </tr>\n",
              "    <tr>\n",
              "      <th>3</th>\n",
              "      <td>0</td>\n",
              "      <td>0</td>\n",
              "      <td>1</td>\n",
              "      <td>76042</td>\n",
              "    </tr>\n",
              "    <tr>\n",
              "      <th>4</th>\n",
              "      <td>1</td>\n",
              "      <td>1</td>\n",
              "      <td>1</td>\n",
              "      <td>36711</td>\n",
              "    </tr>\n",
              "    <tr>\n",
              "      <th>5</th>\n",
              "      <td>0</td>\n",
              "      <td>1</td>\n",
              "      <td>1</td>\n",
              "      <td>4063</td>\n",
              "    </tr>\n",
              "  </tbody>\n",
              "</table>\n",
              "</div>\n",
              "      <button class=\"colab-df-convert\" onclick=\"convertToInteractive('df-849a78db-8ae8-4ddd-916f-59532618cc8f')\"\n",
              "              title=\"Convert this dataframe to an interactive table.\"\n",
              "              style=\"display:none;\">\n",
              "        \n",
              "  <svg xmlns=\"http://www.w3.org/2000/svg\" height=\"24px\"viewBox=\"0 0 24 24\"\n",
              "       width=\"24px\">\n",
              "    <path d=\"M0 0h24v24H0V0z\" fill=\"none\"/>\n",
              "    <path d=\"M18.56 5.44l.94 2.06.94-2.06 2.06-.94-2.06-.94-.94-2.06-.94 2.06-2.06.94zm-11 1L8.5 8.5l.94-2.06 2.06-.94-2.06-.94L8.5 2.5l-.94 2.06-2.06.94zm10 10l.94 2.06.94-2.06 2.06-.94-2.06-.94-.94-2.06-.94 2.06-2.06.94z\"/><path d=\"M17.41 7.96l-1.37-1.37c-.4-.4-.92-.59-1.43-.59-.52 0-1.04.2-1.43.59L10.3 9.45l-7.72 7.72c-.78.78-.78 2.05 0 2.83L4 21.41c.39.39.9.59 1.41.59.51 0 1.02-.2 1.41-.59l7.78-7.78 2.81-2.81c.8-.78.8-2.07 0-2.86zM5.41 20L4 18.59l7.72-7.72 1.47 1.35L5.41 20z\"/>\n",
              "  </svg>\n",
              "      </button>\n",
              "      \n",
              "  <style>\n",
              "    .colab-df-container {\n",
              "      display:flex;\n",
              "      flex-wrap:wrap;\n",
              "      gap: 12px;\n",
              "    }\n",
              "\n",
              "    .colab-df-convert {\n",
              "      background-color: #E8F0FE;\n",
              "      border: none;\n",
              "      border-radius: 50%;\n",
              "      cursor: pointer;\n",
              "      display: none;\n",
              "      fill: #1967D2;\n",
              "      height: 32px;\n",
              "      padding: 0 0 0 0;\n",
              "      width: 32px;\n",
              "    }\n",
              "\n",
              "    .colab-df-convert:hover {\n",
              "      background-color: #E2EBFA;\n",
              "      box-shadow: 0px 1px 2px rgba(60, 64, 67, 0.3), 0px 1px 3px 1px rgba(60, 64, 67, 0.15);\n",
              "      fill: #174EA6;\n",
              "    }\n",
              "\n",
              "    [theme=dark] .colab-df-convert {\n",
              "      background-color: #3B4455;\n",
              "      fill: #D2E3FC;\n",
              "    }\n",
              "\n",
              "    [theme=dark] .colab-df-convert:hover {\n",
              "      background-color: #434B5C;\n",
              "      box-shadow: 0px 1px 3px 1px rgba(0, 0, 0, 0.15);\n",
              "      filter: drop-shadow(0px 1px 2px rgba(0, 0, 0, 0.3));\n",
              "      fill: #FFFFFF;\n",
              "    }\n",
              "  </style>\n",
              "\n",
              "      <script>\n",
              "        const buttonEl =\n",
              "          document.querySelector('#df-849a78db-8ae8-4ddd-916f-59532618cc8f button.colab-df-convert');\n",
              "        buttonEl.style.display =\n",
              "          google.colab.kernel.accessAllowed ? 'block' : 'none';\n",
              "\n",
              "        async function convertToInteractive(key) {\n",
              "          const element = document.querySelector('#df-849a78db-8ae8-4ddd-916f-59532618cc8f');\n",
              "          const dataTable =\n",
              "            await google.colab.kernel.invokeFunction('convertToInteractive',\n",
              "                                                     [key], {});\n",
              "          if (!dataTable) return;\n",
              "\n",
              "          const docLinkHtml = 'Like what you see? Visit the ' +\n",
              "            '<a target=\"_blank\" href=https://colab.research.google.com/notebooks/data_table.ipynb>data table notebook</a>'\n",
              "            + ' to learn more about interactive tables.';\n",
              "          element.innerHTML = '';\n",
              "          dataTable['output_type'] = 'display_data';\n",
              "          await google.colab.output.renderOutput(dataTable, element);\n",
              "          const docLink = document.createElement('div');\n",
              "          docLink.innerHTML = docLinkHtml;\n",
              "          element.appendChild(docLink);\n",
              "        }\n",
              "      </script>\n",
              "    </div>\n",
              "  </div>\n",
              "  "
            ]
          },
          "metadata": {},
          "execution_count": 5
        }
      ]
    },
    {
      "cell_type": "markdown",
      "source": [
        "Создадим 'target_class' по сочетаниям воздействия и отдачи"
      ],
      "metadata": {
        "id": "nBndjoLwkL9j"
      }
    },
    {
      "cell_type": "code",
      "source": [
        "def declare_tartet_class(df):\n",
        "    \n",
        "    #не было воздействия и не было отдачи\n",
        "    df['target_class'] = 0 \n",
        "\n",
        "    #не было воздействия но была отдача\n",
        "    df.loc[(df['treatment'] == 0) & (df['conversion'] == 0) & (df['visit'] != 0),'target_class'] = 1 \n",
        "    df.loc[(df['treatment'] == 0) & (df['conversion'] != 0) & (df['visit'] != 0),'target_class'] = 1\n",
        "\n",
        "    #было воздействие но не было отдачи\n",
        "    df.loc[(df['treatment'] != 0) & (df['conversion'] == 0) & (df['visit'] == 0),'target_class'] = 2\n",
        "             \n",
        "    #было воздействие и была отдача\n",
        "    df.loc[(df['treatment'] != 0) & (df['conversion'] == 0) & (df['visit'] != 0),'target_class'] = 3 \n",
        "    df.loc[(df['treatment'] != 0) & (df['conversion'] != 0) & (df['visit'] != 0),'target_class'] = 3\n",
        "\n",
        "    return df "
      ],
      "metadata": {
        "id": "ZxdzmO7Na4EK"
      },
      "execution_count": null,
      "outputs": []
    },
    {
      "cell_type": "code",
      "source": [
        "df = declare_tartet_class(df)\n",
        "df['target_class'].value_counts()"
      ],
      "metadata": {
        "colab": {
          "base_uri": "https://localhost:8080/"
        },
        "id": "WAOlQSoTkJuQ",
        "outputId": "a32de13a-88e6-4bb3-8a68-764466deee3d"
      },
      "execution_count": null,
      "outputs": [
        {
          "output_type": "execute_result",
          "data": {
            "text/plain": [
              "2    11305831\n",
              "0     2016832\n",
              "3      576824\n",
              "1       80105\n",
              "Name: target_class, dtype: int64"
            ]
          },
          "metadata": {},
          "execution_count": 7
        }
      ]
    },
    {
      "cell_type": "code",
      "source": [
        "feature_cols = ['f0', 'f1', 'f2', 'f3', 'f4', 'f5', 'f6', 'f7', 'f8',\n",
        "              'f9', 'f10', 'f11']\n",
        "target_col = 'conversion'\n",
        "treatment_col = 'treatment'"
      ],
      "metadata": {
        "id": "DBfuooecpMxH"
      },
      "execution_count": null,
      "outputs": []
    },
    {
      "cell_type": "markdown",
      "source": [
        "В виду нехватки памяти, UpliftRandomForest строится только 10% от представленного датасета. Для честности эксперимента, прогоним все модели на этом объёме. "
      ],
      "metadata": {
        "id": "GnKE3DzVKRSl"
      }
    },
    {
      "cell_type": "code",
      "source": [
        "df_large, df_small = train_test_split(df, stratify=df[[treatment_col, target_col]], random_state=13, test_size=0.1)\n",
        "df_train, df_test = train_test_split(df_small, stratify=df_small[[treatment_col, target_col]], random_state=13, test_size=0.3)\n",
        "df_train.head()"
      ],
      "metadata": {
        "id": "_3soDyjhAp7x",
        "colab": {
          "base_uri": "https://localhost:8080/",
          "height": 206
        },
        "outputId": "e7416475-06c6-483b-a371-7f1376c6115a"
      },
      "execution_count": null,
      "outputs": [
        {
          "output_type": "execute_result",
          "data": {
            "text/plain": [
              "                 f0         f1        f2        f3         f4        f5  \\\n",
              "1966027   23.096384  10.059654  8.214383  4.679882  10.280525  4.115453   \n",
              "6676931   12.616365  10.059654  8.926048  4.679882  10.280525  4.115453   \n",
              "2363177   12.616365  10.059654  8.888273  4.679882  10.280525  4.115453   \n",
              "402933    26.709396  10.059654  8.214383  4.679882  10.280525  4.115453   \n",
              "11157998  12.616365  10.059654  8.857104  4.679882  10.280525  4.115453   \n",
              "\n",
              "                f6        f7        f8         f9       f10       f11  \\\n",
              "1966027  -7.570316  4.833815  3.971858  13.190056  5.300375 -0.168679   \n",
              "6676931   0.294443  4.833815  3.835145  13.190056  5.300375 -0.168679   \n",
              "2363177   0.294443  4.833815  3.955396  13.190056  5.300375 -0.168679   \n",
              "402933   -8.493011  4.833815  3.971858  13.190056  5.300375 -0.168679   \n",
              "11157998  0.294443  4.833815  3.943716  13.190056  5.300375 -0.168679   \n",
              "\n",
              "          treatment  conversion  visit  exposure  target_class  \n",
              "1966027           1           0      0         0             2  \n",
              "6676931           0           0      0         0             0  \n",
              "2363177           1           0      0         0             2  \n",
              "402933            1           0      0         0             2  \n",
              "11157998          1           0      0         0             2  "
            ],
            "text/html": [
              "\n",
              "  <div id=\"df-a0e65e5e-705b-4269-be45-498546c04328\">\n",
              "    <div class=\"colab-df-container\">\n",
              "      <div>\n",
              "<style scoped>\n",
              "    .dataframe tbody tr th:only-of-type {\n",
              "        vertical-align: middle;\n",
              "    }\n",
              "\n",
              "    .dataframe tbody tr th {\n",
              "        vertical-align: top;\n",
              "    }\n",
              "\n",
              "    .dataframe thead th {\n",
              "        text-align: right;\n",
              "    }\n",
              "</style>\n",
              "<table border=\"1\" class=\"dataframe\">\n",
              "  <thead>\n",
              "    <tr style=\"text-align: right;\">\n",
              "      <th></th>\n",
              "      <th>f0</th>\n",
              "      <th>f1</th>\n",
              "      <th>f2</th>\n",
              "      <th>f3</th>\n",
              "      <th>f4</th>\n",
              "      <th>f5</th>\n",
              "      <th>f6</th>\n",
              "      <th>f7</th>\n",
              "      <th>f8</th>\n",
              "      <th>f9</th>\n",
              "      <th>f10</th>\n",
              "      <th>f11</th>\n",
              "      <th>treatment</th>\n",
              "      <th>conversion</th>\n",
              "      <th>visit</th>\n",
              "      <th>exposure</th>\n",
              "      <th>target_class</th>\n",
              "    </tr>\n",
              "  </thead>\n",
              "  <tbody>\n",
              "    <tr>\n",
              "      <th>1966027</th>\n",
              "      <td>23.096384</td>\n",
              "      <td>10.059654</td>\n",
              "      <td>8.214383</td>\n",
              "      <td>4.679882</td>\n",
              "      <td>10.280525</td>\n",
              "      <td>4.115453</td>\n",
              "      <td>-7.570316</td>\n",
              "      <td>4.833815</td>\n",
              "      <td>3.971858</td>\n",
              "      <td>13.190056</td>\n",
              "      <td>5.300375</td>\n",
              "      <td>-0.168679</td>\n",
              "      <td>1</td>\n",
              "      <td>0</td>\n",
              "      <td>0</td>\n",
              "      <td>0</td>\n",
              "      <td>2</td>\n",
              "    </tr>\n",
              "    <tr>\n",
              "      <th>6676931</th>\n",
              "      <td>12.616365</td>\n",
              "      <td>10.059654</td>\n",
              "      <td>8.926048</td>\n",
              "      <td>4.679882</td>\n",
              "      <td>10.280525</td>\n",
              "      <td>4.115453</td>\n",
              "      <td>0.294443</td>\n",
              "      <td>4.833815</td>\n",
              "      <td>3.835145</td>\n",
              "      <td>13.190056</td>\n",
              "      <td>5.300375</td>\n",
              "      <td>-0.168679</td>\n",
              "      <td>0</td>\n",
              "      <td>0</td>\n",
              "      <td>0</td>\n",
              "      <td>0</td>\n",
              "      <td>0</td>\n",
              "    </tr>\n",
              "    <tr>\n",
              "      <th>2363177</th>\n",
              "      <td>12.616365</td>\n",
              "      <td>10.059654</td>\n",
              "      <td>8.888273</td>\n",
              "      <td>4.679882</td>\n",
              "      <td>10.280525</td>\n",
              "      <td>4.115453</td>\n",
              "      <td>0.294443</td>\n",
              "      <td>4.833815</td>\n",
              "      <td>3.955396</td>\n",
              "      <td>13.190056</td>\n",
              "      <td>5.300375</td>\n",
              "      <td>-0.168679</td>\n",
              "      <td>1</td>\n",
              "      <td>0</td>\n",
              "      <td>0</td>\n",
              "      <td>0</td>\n",
              "      <td>2</td>\n",
              "    </tr>\n",
              "    <tr>\n",
              "      <th>402933</th>\n",
              "      <td>26.709396</td>\n",
              "      <td>10.059654</td>\n",
              "      <td>8.214383</td>\n",
              "      <td>4.679882</td>\n",
              "      <td>10.280525</td>\n",
              "      <td>4.115453</td>\n",
              "      <td>-8.493011</td>\n",
              "      <td>4.833815</td>\n",
              "      <td>3.971858</td>\n",
              "      <td>13.190056</td>\n",
              "      <td>5.300375</td>\n",
              "      <td>-0.168679</td>\n",
              "      <td>1</td>\n",
              "      <td>0</td>\n",
              "      <td>0</td>\n",
              "      <td>0</td>\n",
              "      <td>2</td>\n",
              "    </tr>\n",
              "    <tr>\n",
              "      <th>11157998</th>\n",
              "      <td>12.616365</td>\n",
              "      <td>10.059654</td>\n",
              "      <td>8.857104</td>\n",
              "      <td>4.679882</td>\n",
              "      <td>10.280525</td>\n",
              "      <td>4.115453</td>\n",
              "      <td>0.294443</td>\n",
              "      <td>4.833815</td>\n",
              "      <td>3.943716</td>\n",
              "      <td>13.190056</td>\n",
              "      <td>5.300375</td>\n",
              "      <td>-0.168679</td>\n",
              "      <td>1</td>\n",
              "      <td>0</td>\n",
              "      <td>0</td>\n",
              "      <td>0</td>\n",
              "      <td>2</td>\n",
              "    </tr>\n",
              "  </tbody>\n",
              "</table>\n",
              "</div>\n",
              "      <button class=\"colab-df-convert\" onclick=\"convertToInteractive('df-a0e65e5e-705b-4269-be45-498546c04328')\"\n",
              "              title=\"Convert this dataframe to an interactive table.\"\n",
              "              style=\"display:none;\">\n",
              "        \n",
              "  <svg xmlns=\"http://www.w3.org/2000/svg\" height=\"24px\"viewBox=\"0 0 24 24\"\n",
              "       width=\"24px\">\n",
              "    <path d=\"M0 0h24v24H0V0z\" fill=\"none\"/>\n",
              "    <path d=\"M18.56 5.44l.94 2.06.94-2.06 2.06-.94-2.06-.94-.94-2.06-.94 2.06-2.06.94zm-11 1L8.5 8.5l.94-2.06 2.06-.94-2.06-.94L8.5 2.5l-.94 2.06-2.06.94zm10 10l.94 2.06.94-2.06 2.06-.94-2.06-.94-.94-2.06-.94 2.06-2.06.94z\"/><path d=\"M17.41 7.96l-1.37-1.37c-.4-.4-.92-.59-1.43-.59-.52 0-1.04.2-1.43.59L10.3 9.45l-7.72 7.72c-.78.78-.78 2.05 0 2.83L4 21.41c.39.39.9.59 1.41.59.51 0 1.02-.2 1.41-.59l7.78-7.78 2.81-2.81c.8-.78.8-2.07 0-2.86zM5.41 20L4 18.59l7.72-7.72 1.47 1.35L5.41 20z\"/>\n",
              "  </svg>\n",
              "      </button>\n",
              "      \n",
              "  <style>\n",
              "    .colab-df-container {\n",
              "      display:flex;\n",
              "      flex-wrap:wrap;\n",
              "      gap: 12px;\n",
              "    }\n",
              "\n",
              "    .colab-df-convert {\n",
              "      background-color: #E8F0FE;\n",
              "      border: none;\n",
              "      border-radius: 50%;\n",
              "      cursor: pointer;\n",
              "      display: none;\n",
              "      fill: #1967D2;\n",
              "      height: 32px;\n",
              "      padding: 0 0 0 0;\n",
              "      width: 32px;\n",
              "    }\n",
              "\n",
              "    .colab-df-convert:hover {\n",
              "      background-color: #E2EBFA;\n",
              "      box-shadow: 0px 1px 2px rgba(60, 64, 67, 0.3), 0px 1px 3px 1px rgba(60, 64, 67, 0.15);\n",
              "      fill: #174EA6;\n",
              "    }\n",
              "\n",
              "    [theme=dark] .colab-df-convert {\n",
              "      background-color: #3B4455;\n",
              "      fill: #D2E3FC;\n",
              "    }\n",
              "\n",
              "    [theme=dark] .colab-df-convert:hover {\n",
              "      background-color: #434B5C;\n",
              "      box-shadow: 0px 1px 3px 1px rgba(0, 0, 0, 0.15);\n",
              "      filter: drop-shadow(0px 1px 2px rgba(0, 0, 0, 0.3));\n",
              "      fill: #FFFFFF;\n",
              "    }\n",
              "  </style>\n",
              "\n",
              "      <script>\n",
              "        const buttonEl =\n",
              "          document.querySelector('#df-a0e65e5e-705b-4269-be45-498546c04328 button.colab-df-convert');\n",
              "        buttonEl.style.display =\n",
              "          google.colab.kernel.accessAllowed ? 'block' : 'none';\n",
              "\n",
              "        async function convertToInteractive(key) {\n",
              "          const element = document.querySelector('#df-a0e65e5e-705b-4269-be45-498546c04328');\n",
              "          const dataTable =\n",
              "            await google.colab.kernel.invokeFunction('convertToInteractive',\n",
              "                                                     [key], {});\n",
              "          if (!dataTable) return;\n",
              "\n",
              "          const docLinkHtml = 'Like what you see? Visit the ' +\n",
              "            '<a target=\"_blank\" href=https://colab.research.google.com/notebooks/data_table.ipynb>data table notebook</a>'\n",
              "            + ' to learn more about interactive tables.';\n",
              "          element.innerHTML = '';\n",
              "          dataTable['output_type'] = 'display_data';\n",
              "          await google.colab.output.renderOutput(dataTable, element);\n",
              "          const docLink = document.createElement('div');\n",
              "          docLink.innerHTML = docLinkHtml;\n",
              "          element.appendChild(docLink);\n",
              "        }\n",
              "      </script>\n",
              "    </div>\n",
              "  </div>\n",
              "  "
            ]
          },
          "metadata": {},
          "execution_count": 9
        }
      ]
    },
    {
      "cell_type": "code",
      "source": [
        "def qini_df(df, uplift_score):\n",
        "    # Отранжируем выборку по значению uplift в убывающем порядке\n",
        "    ranked = df.sort_values(uplift_score, ascending=False)\n",
        "    \n",
        "    N_c = sum(ranked['target_class'] <= 1)\n",
        "    N_t = sum(ranked['target_class'] >= 2)\n",
        "    \n",
        "    # Посчитаем в отсортированном датафрейме основные показатели, которые используются при расчете qini\n",
        "    ranked['n_c1'] = 0\n",
        "    ranked['n_t1'] = 0\n",
        "    ranked.loc[ranked.target_class == 1,'n_c1'] = 1\n",
        "    ranked.loc[ranked.target_class == 3,'n_t1'] = 1\n",
        "    ranked['n_c1/nc'] = ranked.n_c1.cumsum() / N_c\n",
        "    ranked['n_t1/nt'] = ranked.n_t1.cumsum() / N_t\n",
        "    \n",
        "    # Qini curve\n",
        "    ranked['uplift'] = round(ranked['n_t1/nt'] - ranked['n_c1/nc'],5)\n",
        "    # Random curve\n",
        "    ranked['random_uplift'] = round(ranked[uplift_score].rank(pct=True, ascending=False) * ranked['uplift'].iloc[-1],5)\n",
        "    \n",
        "    ranked[\"n\"] = ranked[uplift_score].rank(pct=True, ascending=False)\n",
        "    plt.plot(ranked['n'], ranked['uplift'], color='r')\n",
        "    plt.plot(ranked['n'], ranked['random_uplift'], color='b')\n",
        "    plt.show()\n",
        "    \n",
        "    return (ranked['uplift'] - ranked['random_uplift']).sum()"
      ],
      "metadata": {
        "id": "WDdQ-2lNQ1Ae"
      },
      "execution_count": null,
      "outputs": []
    },
    {
      "cell_type": "code",
      "source": [
        "# class_weights = class_weight.compute_class_weight('balanced', classes=np.unique(df_train.conversion), y=df_train.conversion)\n",
        "# train_class_weights = dict(enumerate(class_weights))"
      ],
      "metadata": {
        "id": "MNggLojjBlbK"
      },
      "execution_count": null,
      "outputs": []
    },
    {
      "cell_type": "markdown",
      "source": [
        "Балансировка по классам не дала существенного прироста в итоговых значениях, но дала значительный прирост по времени работы моделей. Решено было не использовать."
      ],
      "metadata": {
        "id": "QKWUtqtmx-gL"
      }
    },
    {
      "cell_type": "code",
      "source": [
        "# S-learner\n",
        "s_learner = BaseSClassifier(learner=CatBoostClassifier(random_seed=13, verbose=0))\n",
        "# class_weights=train_class_weights\n",
        "\n",
        "s_learner.fit(X=df_train[feature_cols],\n",
        "              treatment=df_train[treatment_col],\n",
        "              y=df_train[target_col])\n",
        "\n",
        "uplift_vals = s_learner.predict(np.array(df_test[feature_cols].values.copy()))\n",
        "\n",
        "\n",
        "df_test['uplift_score_s'] = uplift_vals"
      ],
      "metadata": {
        "id": "4WdM2-DJtOxt"
      },
      "execution_count": null,
      "outputs": []
    },
    {
      "cell_type": "code",
      "source": [
        "score_s = qini_df(df_test, 'uplift_score_s')\n",
        "score_s"
      ],
      "metadata": {
        "id": "fb9LnJlrIKMb",
        "colab": {
          "base_uri": "https://localhost:8080/",
          "height": 299
        },
        "outputId": "5c562187-a8a7-4725-ce90-6c3b2c5465a5"
      },
      "execution_count": null,
      "outputs": [
        {
          "output_type": "display_data",
          "data": {
            "text/plain": [
              "<Figure size 432x288 with 1 Axes>"
            ],
            "image/png": "[encoded data removed]"
          },
          "metadata": {}
        },
        {
          "output_type": "execute_result",
          "data": {
            "text/plain": [
              "1701.9433199999999"
            ]
          },
          "metadata": {},
          "execution_count": 14
        }
      ]
    },
    {
      "cell_type": "markdown",
      "source": [
        "1701.9433199999999"
      ],
      "metadata": {
        "id": "KoRwe5qEUGcq"
      }
    },
    {
      "cell_type": "code",
      "source": [
        "qini_s = qini_auc_score(df_test[target_col], df_test['uplift_score_s'], df_test[treatment_col], negative_effect=True)\n",
        "qini_s"
      ],
      "metadata": {
        "id": "3FkZYzAYQJx-",
        "colab": {
          "base_uri": "https://localhost:8080/"
        },
        "outputId": "f13aae45-794c-4030-8413-548a3a7ecfa2"
      },
      "execution_count": null,
      "outputs": [
        {
          "output_type": "execute_result",
          "data": {
            "text/plain": [
              "0.16757280119831666"
            ]
          },
          "metadata": {},
          "execution_count": 15
        }
      ]
    },
    {
      "cell_type": "markdown",
      "source": [
        "0.16757280119831666"
      ],
      "metadata": {
        "id": "g6SqoceNyR1U"
      }
    },
    {
      "cell_type": "code",
      "source": [
        "plot_qini_curve(df_test[target_col], df_test['uplift_score_s'], df_test[treatment_col], perfect=True)"
      ],
      "metadata": {
        "id": "Rjgix4U93KZp",
        "colab": {
          "base_uri": "https://localhost:8080/",
          "height": 340
        },
        "outputId": "32456f92-476b-4cd7-b75f-605d517def25"
      },
      "execution_count": null,
      "outputs": [
        {
          "output_type": "execute_result",
          "data": {
            "text/plain": [
              "<sklift.viz.base.UpliftCurveDisplay at 0x7f45ce3960d0>"
            ]
          },
          "metadata": {},
          "execution_count": 16
        },
        {
          "output_type": "display_data",
          "data": {
            "text/plain": [
              "<Figure size 432x288 with 1 Axes>"
            ],
            "image/png": "[encoded data removed]"
          },
          "metadata": {}
        }
      ]
    },
    {
      "cell_type": "code",
      "source": [
        "# T-learner\n",
        "t_learner = BaseTClassifier(learner=CatBoostClassifier(random_seed=13, verbose=0))\n",
        "\n",
        "t_learner.fit(X=df_train[feature_cols],\n",
        "              treatment=df_train[treatment_col],\n",
        "              y=df_train[target_col])\n",
        "\n",
        "uplift_vals = t_learner.predict(np.array(df_test[feature_cols].values.copy()))\n",
        "\n",
        "df_test['uplift_score_t'] = uplift_vals"
      ],
      "metadata": {
        "id": "yobu1xSINOaL"
      },
      "execution_count": null,
      "outputs": []
    },
    {
      "cell_type": "code",
      "source": [
        "score_t = qini_df(df_test, 'uplift_score_t')\n",
        "score_t"
      ],
      "metadata": {
        "id": "djuXrrVONbJJ",
        "colab": {
          "base_uri": "https://localhost:8080/",
          "height": 299
        },
        "outputId": "4c4e2b91-6812-408f-c5ff-9bdafd7d80ff"
      },
      "execution_count": null,
      "outputs": [
        {
          "output_type": "display_data",
          "data": {
            "text/plain": [
              "<Figure size 432x288 with 1 Axes>"
            ],
            "image/png": "[encoded data removed]"
          },
          "metadata": {}
        },
        {
          "output_type": "execute_result",
          "data": {
            "text/plain": [
              "1149.3000699999998"
            ]
          },
          "metadata": {},
          "execution_count": 18
        }
      ]
    },
    {
      "cell_type": "markdown",
      "source": [
        "1149.3000699999998"
      ],
      "metadata": {
        "id": "seqlHjFAYCBL"
      }
    },
    {
      "cell_type": "code",
      "source": [
        "qini_t = qini_auc_score(df_test[target_col], df_test['uplift_score_t'], df_test[treatment_col], negative_effect=True)\n",
        "qini_t"
      ],
      "metadata": {
        "id": "4Ye83RZ9NixB",
        "colab": {
          "base_uri": "https://localhost:8080/"
        },
        "outputId": "45d790d1-b1bd-419b-a265-52a39069a573"
      },
      "execution_count": null,
      "outputs": [
        {
          "output_type": "execute_result",
          "data": {
            "text/plain": [
              "0.18040629625802793"
            ]
          },
          "metadata": {},
          "execution_count": 19
        }
      ]
    },
    {
      "cell_type": "markdown",
      "source": [
        "0.18040629625802793"
      ],
      "metadata": {
        "id": "a8iccETJYHTh"
      }
    },
    {
      "cell_type": "code",
      "source": [
        "plot_qini_curve(df_test[target_col], df_test['uplift_score_t'], df_test[treatment_col], perfect=True)"
      ],
      "metadata": {
        "id": "9UZYWV8YNpKv",
        "colab": {
          "base_uri": "https://localhost:8080/",
          "height": 340
        },
        "outputId": "999bc802-9c25-4aa5-f010-89c37831c357"
      },
      "execution_count": null,
      "outputs": [
        {
          "output_type": "execute_result",
          "data": {
            "text/plain": [
              "<sklift.viz.base.UpliftCurveDisplay at 0x7f45cdd03f10>"
            ]
          },
          "metadata": {},
          "execution_count": 20
        },
        {
          "output_type": "display_data",
          "data": {
            "text/plain": [
              "<Figure size 432x288 with 1 Axes>"
            ],
            "image/png": "[encoded data removed]"
          },
          "metadata": {}
        }
      ]
    },
    {
      "cell_type": "code",
      "source": [
        "# X-learner\n",
        "x_learner = BaseXClassifier(outcome_learner=LogisticRegression(random_state=13),\n",
        "                           effect_learner=LinearRegression())\n",
        "\n",
        "x_learner.fit(X=df_train[feature_cols],\n",
        "              treatment=df_train[treatment_col],\n",
        "              y=df_train[target_col])\n",
        "\n",
        "uplift_vals = x_learner.predict(np.array(df_test[feature_cols].values.copy()))\n",
        "\n",
        "df_test['uplift_score_x'] = uplift_vals"
      ],
      "metadata": {
        "id": "jX4Mk6nXxHQ1",
        "colab": {
          "base_uri": "https://localhost:8080/"
        },
        "outputId": "64bfb26c-893a-4ff4-cfe4-b3fca49d1695"
      },
      "execution_count": null,
      "outputs": [
        {
          "output_type": "stream",
          "name": "stderr",
          "text": [
            "The max_iter was reached which means the coef_ did not converge\n",
            "The max_iter was reached which means the coef_ did not converge\n",
            "The max_iter was reached which means the coef_ did not converge\n",
            "The max_iter was reached which means the coef_ did not converge\n",
            "The max_iter was reached which means the coef_ did not converge\n",
            "The max_iter was reached which means the coef_ did not converge\n",
            "The max_iter was reached which means the coef_ did not converge\n",
            "The max_iter was reached which means the coef_ did not converge\n",
            "The max_iter was reached which means the coef_ did not converge\n",
            "The max_iter was reached which means the coef_ did not converge\n",
            "The max_iter was reached which means the coef_ did not converge\n",
            "The max_iter was reached which means the coef_ did not converge\n",
            "The max_iter was reached which means the coef_ did not converge\n",
            "The max_iter was reached which means the coef_ did not converge\n",
            "The max_iter was reached which means the coef_ did not converge\n",
            "The max_iter was reached which means the coef_ did not converge\n",
            "The max_iter was reached which means the coef_ did not converge\n",
            "The max_iter was reached which means the coef_ did not converge\n",
            "The max_iter was reached which means the coef_ did not converge\n",
            "The max_iter was reached which means the coef_ did not converge\n",
            "The max_iter was reached which means the coef_ did not converge\n",
            "The max_iter was reached which means the coef_ did not converge\n",
            "The max_iter was reached which means the coef_ did not converge\n",
            "The max_iter was reached which means the coef_ did not converge\n",
            "The max_iter was reached which means the coef_ did not converge\n",
            "The max_iter was reached which means the coef_ did not converge\n",
            "The max_iter was reached which means the coef_ did not converge\n",
            "The max_iter was reached which means the coef_ did not converge\n",
            "The max_iter was reached which means the coef_ did not converge\n",
            "The max_iter was reached which means the coef_ did not converge\n",
            "The max_iter was reached which means the coef_ did not converge\n",
            "The max_iter was reached which means the coef_ did not converge\n",
            "The max_iter was reached which means the coef_ did not converge\n",
            "The max_iter was reached which means the coef_ did not converge\n",
            "The max_iter was reached which means the coef_ did not converge\n",
            "The max_iter was reached which means the coef_ did not converge\n",
            "The max_iter was reached which means the coef_ did not converge\n",
            "The max_iter was reached which means the coef_ did not converge\n",
            "The max_iter was reached which means the coef_ did not converge\n",
            "The max_iter was reached which means the coef_ did not converge\n",
            "The max_iter was reached which means the coef_ did not converge\n",
            "The max_iter was reached which means the coef_ did not converge\n",
            "The max_iter was reached which means the coef_ did not converge\n",
            "The max_iter was reached which means the coef_ did not converge\n",
            "The max_iter was reached which means the coef_ did not converge\n",
            "The max_iter was reached which means the coef_ did not converge\n",
            "The max_iter was reached which means the coef_ did not converge\n",
            "The max_iter was reached which means the coef_ did not converge\n",
            "The max_iter was reached which means the coef_ did not converge\n",
            "The max_iter was reached which means the coef_ did not converge\n",
            "The max_iter was reached which means the coef_ did not converge\n",
            "The max_iter was reached which means the coef_ did not converge\n",
            "The max_iter was reached which means the coef_ did not converge\n",
            "The max_iter was reached which means the coef_ did not converge\n",
            "The max_iter was reached which means the coef_ did not converge\n",
            "The max_iter was reached which means the coef_ did not converge\n",
            "The max_iter was reached which means the coef_ did not converge\n",
            "The max_iter was reached which means the coef_ did not converge\n",
            "The max_iter was reached which means the coef_ did not converge\n",
            "The max_iter was reached which means the coef_ did not converge\n",
            "The max_iter was reached which means the coef_ did not converge\n",
            "The max_iter was reached which means the coef_ did not converge\n",
            "The max_iter was reached which means the coef_ did not converge\n",
            "The max_iter was reached which means the coef_ did not converge\n",
            "The max_iter was reached which means the coef_ did not converge\n",
            "lbfgs failed to converge (status=1):\n",
            "STOP: TOTAL NO. of ITERATIONS REACHED LIMIT.\n",
            "\n",
            "Increase the number of iterations (max_iter) or scale the data as shown in:\n",
            "    https://scikit-learn.org/stable/modules/preprocessing.html\n",
            "Please also refer to the documentation for alternative solver options:\n",
            "    https://scikit-learn.org/stable/modules/linear_model.html#logistic-regression\n",
            "lbfgs failed to converge (status=1):\n",
            "STOP: TOTAL NO. of ITERATIONS REACHED LIMIT.\n",
            "\n",
            "Increase the number of iterations (max_iter) or scale the data as shown in:\n",
            "    https://scikit-learn.org/stable/modules/preprocessing.html\n",
            "Please also refer to the documentation for alternative solver options:\n",
            "    https://scikit-learn.org/stable/modules/linear_model.html#logistic-regression\n"
          ]
        }
      ]
    },
    {
      "cell_type": "code",
      "source": [
        "score_x = qini_df(df_test, 'uplift_score_x')\n",
        "score_x"
      ],
      "metadata": {
        "id": "U2M9wneYxPJ0",
        "colab": {
          "base_uri": "https://localhost:8080/",
          "height": 299
        },
        "outputId": "e7070be6-f40a-4b96-afa1-27fa1e4bf456"
      },
      "execution_count": null,
      "outputs": [
        {
          "output_type": "display_data",
          "data": {
            "text/plain": [
              "<Figure size 432x288 with 1 Axes>"
            ],
            "image/png": "[encoded data removed]"
          },
          "metadata": {}
        },
        {
          "output_type": "execute_result",
          "data": {
            "text/plain": [
              "1752.8238499999989"
            ]
          },
          "metadata": {},
          "execution_count": 22
        }
      ]
    },
    {
      "cell_type": "markdown",
      "source": [
        "1752.8238499999989"
      ],
      "metadata": {
        "id": "hLMID3FfzUD2"
      }
    },
    {
      "cell_type": "code",
      "source": [
        "qini_x = qini_auc_score(df_test[target_col], df_test['uplift_score_x'], df_test[treatment_col], negative_effect=True)\n",
        "qini_x"
      ],
      "metadata": {
        "id": "IiP1LC1sxjb6",
        "colab": {
          "base_uri": "https://localhost:8080/"
        },
        "outputId": "5b597b09-8fa6-4256-c801-1a72f7c0af7c"
      },
      "execution_count": null,
      "outputs": [
        {
          "output_type": "execute_result",
          "data": {
            "text/plain": [
              "0.20747580080128103"
            ]
          },
          "metadata": {},
          "execution_count": 23
        }
      ]
    },
    {
      "cell_type": "markdown",
      "source": [
        "0.20747580080128103"
      ],
      "metadata": {
        "id": "1ltasBSkzUpL"
      }
    },
    {
      "cell_type": "code",
      "source": [
        "plot_qini_curve(df_test[target_col], df_test['uplift_score_x'], df_test[treatment_col], perfect=True)"
      ],
      "metadata": {
        "id": "UZm3ZKYrxr0q",
        "colab": {
          "base_uri": "https://localhost:8080/",
          "height": 340
        },
        "outputId": "a2e0a3b7-be00-4b42-e046-d41112e1d7a1"
      },
      "execution_count": null,
      "outputs": [
        {
          "output_type": "execute_result",
          "data": {
            "text/plain": [
              "<sklift.viz.base.UpliftCurveDisplay at 0x7f45ccff9750>"
            ]
          },
          "metadata": {},
          "execution_count": 24
        },
        {
          "output_type": "display_data",
          "data": {
            "text/plain": [
              "<Figure size 432x288 with 1 Axes>"
            ],
            "image/png": "[encoded data removed]"
          },
          "metadata": {}
        }
      ]
    },
    {
      "cell_type": "code",
      "source": [
        "# R-learner\n",
        "r_learner = BaseRClassifier(outcome_learner=LogisticRegression(),\n",
        "                            effect_learner=LinearRegression())\n",
        "\n",
        "r_learner.fit(X=df_train[feature_cols],\n",
        "              treatment=df_train[treatment_col],\n",
        "              y=df_train[target_col])\n",
        "\n",
        "uplift_vals = r_learner.predict(np.array(df_test[feature_cols].values.copy()))\n",
        "\n",
        "df_test['uplift_score_r'] = uplift_vals"
      ],
      "metadata": {
        "id": "jEoTG0EvaGjP",
        "colab": {
          "base_uri": "https://localhost:8080/"
        },
        "outputId": "d5550192-a710-416c-c5f0-2c02c06984d5"
      },
      "execution_count": null,
      "outputs": [
        {
          "output_type": "stream",
          "name": "stderr",
          "text": [
            "The max_iter was reached which means the coef_ did not converge\n",
            "The max_iter was reached which means the coef_ did not converge\n",
            "The max_iter was reached which means the coef_ did not converge\n",
            "The max_iter was reached which means the coef_ did not converge\n",
            "The max_iter was reached which means the coef_ did not converge\n",
            "The max_iter was reached which means the coef_ did not converge\n",
            "The max_iter was reached which means the coef_ did not converge\n",
            "The max_iter was reached which means the coef_ did not converge\n",
            "The max_iter was reached which means the coef_ did not converge\n",
            "The max_iter was reached which means the coef_ did not converge\n",
            "The max_iter was reached which means the coef_ did not converge\n",
            "The max_iter was reached which means the coef_ did not converge\n",
            "The max_iter was reached which means the coef_ did not converge\n",
            "The max_iter was reached which means the coef_ did not converge\n",
            "The max_iter was reached which means the coef_ did not converge\n",
            "The max_iter was reached which means the coef_ did not converge\n",
            "The max_iter was reached which means the coef_ did not converge\n",
            "The max_iter was reached which means the coef_ did not converge\n",
            "The max_iter was reached which means the coef_ did not converge\n",
            "The max_iter was reached which means the coef_ did not converge\n",
            "The max_iter was reached which means the coef_ did not converge\n",
            "The max_iter was reached which means the coef_ did not converge\n",
            "The max_iter was reached which means the coef_ did not converge\n",
            "The max_iter was reached which means the coef_ did not converge\n",
            "The max_iter was reached which means the coef_ did not converge\n",
            "The max_iter was reached which means the coef_ did not converge\n",
            "The max_iter was reached which means the coef_ did not converge\n",
            "The max_iter was reached which means the coef_ did not converge\n",
            "The max_iter was reached which means the coef_ did not converge\n",
            "The max_iter was reached which means the coef_ did not converge\n",
            "The max_iter was reached which means the coef_ did not converge\n",
            "The max_iter was reached which means the coef_ did not converge\n",
            "The max_iter was reached which means the coef_ did not converge\n",
            "The max_iter was reached which means the coef_ did not converge\n",
            "The max_iter was reached which means the coef_ did not converge\n",
            "The max_iter was reached which means the coef_ did not converge\n",
            "The max_iter was reached which means the coef_ did not converge\n",
            "The max_iter was reached which means the coef_ did not converge\n",
            "The max_iter was reached which means the coef_ did not converge\n",
            "The max_iter was reached which means the coef_ did not converge\n",
            "The max_iter was reached which means the coef_ did not converge\n",
            "The max_iter was reached which means the coef_ did not converge\n",
            "The max_iter was reached which means the coef_ did not converge\n",
            "The max_iter was reached which means the coef_ did not converge\n",
            "The max_iter was reached which means the coef_ did not converge\n",
            "The max_iter was reached which means the coef_ did not converge\n",
            "The max_iter was reached which means the coef_ did not converge\n",
            "The max_iter was reached which means the coef_ did not converge\n",
            "The max_iter was reached which means the coef_ did not converge\n",
            "The max_iter was reached which means the coef_ did not converge\n",
            "The max_iter was reached which means the coef_ did not converge\n",
            "The max_iter was reached which means the coef_ did not converge\n",
            "The max_iter was reached which means the coef_ did not converge\n",
            "The max_iter was reached which means the coef_ did not converge\n",
            "The max_iter was reached which means the coef_ did not converge\n",
            "The max_iter was reached which means the coef_ did not converge\n",
            "The max_iter was reached which means the coef_ did not converge\n",
            "The max_iter was reached which means the coef_ did not converge\n",
            "The max_iter was reached which means the coef_ did not converge\n",
            "The max_iter was reached which means the coef_ did not converge\n",
            "The max_iter was reached which means the coef_ did not converge\n",
            "The max_iter was reached which means the coef_ did not converge\n",
            "The max_iter was reached which means the coef_ did not converge\n",
            "The max_iter was reached which means the coef_ did not converge\n",
            "The max_iter was reached which means the coef_ did not converge\n"
          ]
        }
      ]
    },
    {
      "cell_type": "code",
      "source": [
        "score_r = qini_df(df_test, 'uplift_score_r')\n",
        "score_r"
      ],
      "metadata": {
        "id": "V3TQG15lafgA",
        "colab": {
          "base_uri": "https://localhost:8080/",
          "height": 299
        },
        "outputId": "844ef5f5-27b3-464d-eeed-05a73e6033c1"
      },
      "execution_count": null,
      "outputs": [
        {
          "output_type": "display_data",
          "data": {
            "text/plain": [
              "<Figure size 432x288 with 1 Axes>"
            ],
            "image/png": "[encoded data removed]"
          },
          "metadata": {}
        },
        {
          "output_type": "execute_result",
          "data": {
            "text/plain": [
              "1880.5980300000003"
            ]
          },
          "metadata": {},
          "execution_count": 26
        }
      ]
    },
    {
      "cell_type": "markdown",
      "source": [
        "1880.5980300000003"
      ],
      "metadata": {
        "id": "iUNVzfFn4yf8"
      }
    },
    {
      "cell_type": "code",
      "source": [
        "qini_r = qini_auc_score(df_test[target_col], df_test['uplift_score_r'], df_test[treatment_col], negative_effect=True)\n",
        "qini_r"
      ],
      "metadata": {
        "id": "jC1F3GQiajUc",
        "colab": {
          "base_uri": "https://localhost:8080/"
        },
        "outputId": "8a3e19cc-2e8d-4165-9d81-bb43ed0e6301"
      },
      "execution_count": null,
      "outputs": [
        {
          "output_type": "execute_result",
          "data": {
            "text/plain": [
              "0.20484008603211193"
            ]
          },
          "metadata": {},
          "execution_count": 27
        }
      ]
    },
    {
      "cell_type": "markdown",
      "source": [
        "0.20484008603211193"
      ],
      "metadata": {
        "id": "8buz3wb74jCf"
      }
    },
    {
      "cell_type": "code",
      "source": [
        "plot_qini_curve(df_test[target_col], df_test['uplift_score_r'], df_test[treatment_col], perfect=True)"
      ],
      "metadata": {
        "id": "fCKyOpeNapf9",
        "colab": {
          "base_uri": "https://localhost:8080/",
          "height": 340
        },
        "outputId": "02dc6583-47d5-4c65-ae48-031526efe705"
      },
      "execution_count": null,
      "outputs": [
        {
          "output_type": "execute_result",
          "data": {
            "text/plain": [
              "<sklift.viz.base.UpliftCurveDisplay at 0x7f45ccf91cd0>"
            ]
          },
          "metadata": {},
          "execution_count": 28
        },
        {
          "output_type": "display_data",
          "data": {
            "text/plain": [
              "<Figure size 432x288 with 1 Axes>"
            ],
            "image/png": "[encoded data removed]"
          },
          "metadata": {}
        }
      ]
    },
    {
      "cell_type": "code",
      "source": [
        "# RandomForest\n",
        "uplift_model = UpliftRandomForestClassifier(max_depth=5, min_samples_leaf=200, min_samples_treatment=50,\n",
        "                                    n_reg=100, evaluationFunction='ED', control_name='0')\n",
        "\n",
        "uplift_model.fit(df_train[feature_cols].values,\n",
        "                 treatment=df_train[treatment_col].apply(str).values,\n",
        "                 y=df_train[target_col].values)\n",
        "\n",
        "uplift_vals = uplift_model.predict(np.array(df_test[feature_cols].values.copy()))\n",
        "\n",
        "# Мы получили какие-то значения рамках решения задачи классификации, давайте посмотрим на qini score\n",
        "df_test['uplift_score_rf'] = uplift_vals"
      ],
      "metadata": {
        "id": "ypywTN_55YWv"
      },
      "execution_count": null,
      "outputs": []
    },
    {
      "cell_type": "code",
      "source": [
        "score_rf = qini_df(df_test, 'uplift_score_rf')\n",
        "score_rf"
      ],
      "metadata": {
        "id": "sD_Wzglm536A",
        "colab": {
          "base_uri": "https://localhost:8080/",
          "height": 299
        },
        "outputId": "fe4c00d3-9ff0-438c-e854-82ba8ebc8c53"
      },
      "execution_count": null,
      "outputs": [
        {
          "output_type": "display_data",
          "data": {
            "text/plain": [
              "<Figure size 432x288 with 1 Axes>"
            ],
            "image/png": "[encoded data removed]"
          },
          "metadata": {}
        },
        {
          "output_type": "execute_result",
          "data": {
            "text/plain": [
              "1628.1382600000002"
            ]
          },
          "metadata": {},
          "execution_count": 30
        }
      ]
    },
    {
      "cell_type": "markdown",
      "source": [
        "1628.1382600000002"
      ],
      "metadata": {
        "id": "GYehce9JGX7w"
      }
    },
    {
      "cell_type": "code",
      "source": [
        "qini_rf = qini_auc_score(df_test[target_col], df_test['uplift_score_rf'], df_test[treatment_col], negative_effect=True)\n",
        "qini_rf"
      ],
      "metadata": {
        "id": "VO0-WyZI5-tn",
        "colab": {
          "base_uri": "https://localhost:8080/"
        },
        "outputId": "106c10b9-0f2d-4686-de17-4e6dab07de78"
      },
      "execution_count": null,
      "outputs": [
        {
          "output_type": "execute_result",
          "data": {
            "text/plain": [
              "0.18630643652755424"
            ]
          },
          "metadata": {},
          "execution_count": 31
        }
      ]
    },
    {
      "cell_type": "markdown",
      "source": [
        "0.18630643652755424"
      ],
      "metadata": {
        "id": "zKw4sNpxGYnf"
      }
    },
    {
      "cell_type": "code",
      "source": [
        "plot_qini_curve(df_test[target_col], df_test['uplift_score_rf'], df_test[treatment_col], perfect=True)"
      ],
      "metadata": {
        "id": "_spmcQtf6FOr",
        "colab": {
          "base_uri": "https://localhost:8080/",
          "height": 340
        },
        "outputId": "1d32f44b-7606-491c-be99-f36aa0f3d772"
      },
      "execution_count": null,
      "outputs": [
        {
          "output_type": "execute_result",
          "data": {
            "text/plain": [
              "<sklift.viz.base.UpliftCurveDisplay at 0x7f45ce2d8b50>"
            ]
          },
          "metadata": {},
          "execution_count": 32
        },
        {
          "output_type": "display_data",
          "data": {
            "text/plain": [
              "<Figure size 432x288 with 1 Axes>"
            ],
            "image/png": "[encoded data removed]"
          },
          "metadata": {}
        }
      ]
    },
    {
      "cell_type": "code",
      "source": [
        "pd.DataFrame({\"uplift-score\":np.array([score_s, score_t, score_x, score_r, score_rf]),\n",
        "              \"qini-score\": np.array([qini_s, qini_t, qini_x, qini_r, qini_rf])}, index=['S-learner', 'T-learner', 'X-learner', 'R-learner', 'UpliftRandomForest'])"
      ],
      "metadata": {
        "colab": {
          "base_uri": "https://localhost:8080/",
          "height": 206
        },
        "id": "zeYkUDbBGZgm",
        "outputId": "cee38561-2c34-4091-bd4e-383dea1a03bf"
      },
      "execution_count": null,
      "outputs": [
        {
          "output_type": "execute_result",
          "data": {
            "text/plain": [
              "                    uplift-score  qini-score\n",
              "S-learner             1701.94332    0.167573\n",
              "T-learner             1149.30007    0.180406\n",
              "X-learner             1752.82385    0.207476\n",
              "R-learner             1880.59803    0.204840\n",
              "UpliftRandomForest    1628.13826    0.186306"
            ],
            "text/html": [
              "\n",
              "  <div id=\"df-05253077-15a1-42c2-bcdb-9d6f1913b2ed\">\n",
              "    <div class=\"colab-df-container\">\n",
              "      <div>\n",
              "<style scoped>\n",
              "    .dataframe tbody tr th:only-of-type {\n",
              "        vertical-align: middle;\n",
              "    }\n",
              "\n",
              "    .dataframe tbody tr th {\n",
              "        vertical-align: top;\n",
              "    }\n",
              "\n",
              "    .dataframe thead th {\n",
              "        text-align: right;\n",
              "    }\n",
              "</style>\n",
              "<table border=\"1\" class=\"dataframe\">\n",
              "  <thead>\n",
              "    <tr style=\"text-align: right;\">\n",
              "      <th></th>\n",
              "      <th>uplift-score</th>\n",
              "      <th>qini-score</th>\n",
              "    </tr>\n",
              "  </thead>\n",
              "  <tbody>\n",
              "    <tr>\n",
              "      <th>S-learner</th>\n",
              "      <td>1701.94332</td>\n",
              "      <td>0.167573</td>\n",
              "    </tr>\n",
              "    <tr>\n",
              "      <th>T-learner</th>\n",
              "      <td>1149.30007</td>\n",
              "      <td>0.180406</td>\n",
              "    </tr>\n",
              "    <tr>\n",
              "      <th>X-learner</th>\n",
              "      <td>1752.82385</td>\n",
              "      <td>0.207476</td>\n",
              "    </tr>\n",
              "    <tr>\n",
              "      <th>R-learner</th>\n",
              "      <td>1880.59803</td>\n",
              "      <td>0.204840</td>\n",
              "    </tr>\n",
              "    <tr>\n",
              "      <th>UpliftRandomForest</th>\n",
              "      <td>1628.13826</td>\n",
              "      <td>0.186306</td>\n",
              "    </tr>\n",
              "  </tbody>\n",
              "</table>\n",
              "</div>\n",
              "      <button class=\"colab-df-convert\" onclick=\"convertToInteractive('df-05253077-15a1-42c2-bcdb-9d6f1913b2ed')\"\n",
              "              title=\"Convert this dataframe to an interactive table.\"\n",
              "              style=\"display:none;\">\n",
              "        \n",
              "  <svg xmlns=\"http://www.w3.org/2000/svg\" height=\"24px\"viewBox=\"0 0 24 24\"\n",
              "       width=\"24px\">\n",
              "    <path d=\"M0 0h24v24H0V0z\" fill=\"none\"/>\n",
              "    <path d=\"M18.56 5.44l.94 2.06.94-2.06 2.06-.94-2.06-.94-.94-2.06-.94 2.06-2.06.94zm-11 1L8.5 8.5l.94-2.06 2.06-.94-2.06-.94L8.5 2.5l-.94 2.06-2.06.94zm10 10l.94 2.06.94-2.06 2.06-.94-2.06-.94-.94-2.06-.94 2.06-2.06.94z\"/><path d=\"M17.41 7.96l-1.37-1.37c-.4-.4-.92-.59-1.43-.59-.52 0-1.04.2-1.43.59L10.3 9.45l-7.72 7.72c-.78.78-.78 2.05 0 2.83L4 21.41c.39.39.9.59 1.41.59.51 0 1.02-.2 1.41-.59l7.78-7.78 2.81-2.81c.8-.78.8-2.07 0-2.86zM5.41 20L4 18.59l7.72-7.72 1.47 1.35L5.41 20z\"/>\n",
              "  </svg>\n",
              "      </button>\n",
              "      \n",
              "  <style>\n",
              "    .colab-df-container {\n",
              "      display:flex;\n",
              "      flex-wrap:wrap;\n",
              "      gap: 12px;\n",
              "    }\n",
              "\n",
              "    .colab-df-convert {\n",
              "      background-color: #E8F0FE;\n",
              "      border: none;\n",
              "      border-radius: 50%;\n",
              "      cursor: pointer;\n",
              "      display: none;\n",
              "      fill: #1967D2;\n",
              "      height: 32px;\n",
              "      padding: 0 0 0 0;\n",
              "      width: 32px;\n",
              "    }\n",
              "\n",
              "    .colab-df-convert:hover {\n",
              "      background-color: #E2EBFA;\n",
              "      box-shadow: 0px 1px 2px rgba(60, 64, 67, 0.3), 0px 1px 3px 1px rgba(60, 64, 67, 0.15);\n",
              "      fill: #174EA6;\n",
              "    }\n",
              "\n",
              "    [theme=dark] .colab-df-convert {\n",
              "      background-color: #3B4455;\n",
              "      fill: #D2E3FC;\n",
              "    }\n",
              "\n",
              "    [theme=dark] .colab-df-convert:hover {\n",
              "      background-color: #434B5C;\n",
              "      box-shadow: 0px 1px 3px 1px rgba(0, 0, 0, 0.15);\n",
              "      filter: drop-shadow(0px 1px 2px rgba(0, 0, 0, 0.3));\n",
              "      fill: #FFFFFF;\n",
              "    }\n",
              "  </style>\n",
              "\n",
              "      <script>\n",
              "        const buttonEl =\n",
              "          document.querySelector('#df-05253077-15a1-42c2-bcdb-9d6f1913b2ed button.colab-df-convert');\n",
              "        buttonEl.style.display =\n",
              "          google.colab.kernel.accessAllowed ? 'block' : 'none';\n",
              "\n",
              "        async function convertToInteractive(key) {\n",
              "          const element = document.querySelector('#df-05253077-15a1-42c2-bcdb-9d6f1913b2ed');\n",
              "          const dataTable =\n",
              "            await google.colab.kernel.invokeFunction('convertToInteractive',\n",
              "                                                     [key], {});\n",
              "          if (!dataTable) return;\n",
              "\n",
              "          const docLinkHtml = 'Like what you see? Visit the ' +\n",
              "            '<a target=\"_blank\" href=https://colab.research.google.com/notebooks/data_table.ipynb>data table notebook</a>'\n",
              "            + ' to learn more about interactive tables.';\n",
              "          element.innerHTML = '';\n",
              "          dataTable['output_type'] = 'display_data';\n",
              "          await google.colab.output.renderOutput(dataTable, element);\n",
              "          const docLink = document.createElement('div');\n",
              "          docLink.innerHTML = docLinkHtml;\n",
              "          element.appendChild(docLink);\n",
              "        }\n",
              "      </script>\n",
              "    </div>\n",
              "  </div>\n",
              "  "
            ]
          },
          "metadata": {},
          "execution_count": 34
        }
      ]
    },
    {
      "cell_type": "markdown",
      "source": [
        "На таком размере датасета, лучше всего себя показали X-leaner и R-leaner, неожиданно слабо показал себя UpliftRandomForest. Худший результат у S-leaner. "
      ],
      "metadata": {
        "id": "DB0J_ogtxF1D"
      }
    }
  ]
}