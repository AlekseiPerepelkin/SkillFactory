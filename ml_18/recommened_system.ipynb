{
 "cells": [
  {
   "cell_type": "code",
   "execution_count": 2,
   "metadata": {
    "id": "BphJzgL-1n8Y",
    "outputId": "1ab37fe8-2a13-4f42-ca4a-93b33d832c0f"
   },
   "outputs": [],
   "source": [
    "import pickle\n",
    "import string\n",
    "import annoy\n",
    "\n",
    "import pandas as pd\n",
    "import numpy as np\n",
    "\n",
    "from sklearn.model_selection import train_test_split\n",
    "from pymorphy2 import MorphAnalyzer\n",
    "from stop_words import get_stop_words\n",
    "from gensim.models import FastText\n",
    "from tqdm import tqdm_notebook\n",
    "\n",
    "import operator"
   ]
  },
  {
   "cell_type": "code",
   "execution_count": 5,
   "metadata": {
    "id": "tEW9k9Uq1n8c",
    "outputId": "dd5d20aa-c9ff-4707-f09f-79d0a5e50a53"
   },
   "outputs": [
    {
     "name": "stderr",
     "output_type": "stream",
     "text": [
      "C:\\Progs\\Anaconda\\lib\\site-packages\\IPython\\core\\interactiveshell.py:3444: DtypeWarning: Columns (1) have mixed types.Specify dtype option on import or set low_memory=False.\n",
      "  exec(code_obj, self.user_global_ns, self.user_ns)\n"
     ]
    },
    {
     "data": {
      "text/html": [
       "<div>\n",
       "<style scoped>\n",
       "    .dataframe tbody tr th:only-of-type {\n",
       "        vertical-align: middle;\n",
       "    }\n",
       "\n",
       "    .dataframe tbody tr th {\n",
       "        vertical-align: top;\n",
       "    }\n",
       "\n",
       "    .dataframe thead th {\n",
       "        text-align: right;\n",
       "    }\n",
       "</style>\n",
       "<table border=\"1\" class=\"dataframe\">\n",
       "  <thead>\n",
       "    <tr style=\"text-align: right;\">\n",
       "      <th></th>\n",
       "      <th>sale_date_date</th>\n",
       "      <th>contact_id</th>\n",
       "      <th>shop_id</th>\n",
       "      <th>product_id</th>\n",
       "      <th>product_sub_category_id</th>\n",
       "      <th>product_category_id</th>\n",
       "      <th>brand_id</th>\n",
       "      <th>quantity</th>\n",
       "    </tr>\n",
       "  </thead>\n",
       "  <tbody>\n",
       "    <tr>\n",
       "      <th>0</th>\n",
       "      <td>2018-12-07</td>\n",
       "      <td>1260627</td>\n",
       "      <td>1455.0</td>\n",
       "      <td>168308.0</td>\n",
       "      <td>906.0</td>\n",
       "      <td>205.0</td>\n",
       "      <td>-1.0</td>\n",
       "      <td>1,00</td>\n",
       "    </tr>\n",
       "    <tr>\n",
       "      <th>1</th>\n",
       "      <td>2018-12-07</td>\n",
       "      <td>198287</td>\n",
       "      <td>279.0</td>\n",
       "      <td>134832.0</td>\n",
       "      <td>404.0</td>\n",
       "      <td>93.0</td>\n",
       "      <td>-1.0</td>\n",
       "      <td>1,00</td>\n",
       "    </tr>\n",
       "    <tr>\n",
       "      <th>2</th>\n",
       "      <td>2018-12-07</td>\n",
       "      <td>2418385</td>\n",
       "      <td>848.0</td>\n",
       "      <td>101384.0</td>\n",
       "      <td>404.0</td>\n",
       "      <td>93.0</td>\n",
       "      <td>-1.0</td>\n",
       "      <td>1,00</td>\n",
       "    </tr>\n",
       "    <tr>\n",
       "      <th>3</th>\n",
       "      <td>2018-12-07</td>\n",
       "      <td>1285774</td>\n",
       "      <td>1511.0</td>\n",
       "      <td>168570.0</td>\n",
       "      <td>906.0</td>\n",
       "      <td>205.0</td>\n",
       "      <td>-1.0</td>\n",
       "      <td>1,00</td>\n",
       "    </tr>\n",
       "    <tr>\n",
       "      <th>4</th>\n",
       "      <td>2018-12-07</td>\n",
       "      <td>1810323</td>\n",
       "      <td>1501.0</td>\n",
       "      <td>168319.0</td>\n",
       "      <td>906.0</td>\n",
       "      <td>205.0</td>\n",
       "      <td>-1.0</td>\n",
       "      <td>1,00</td>\n",
       "    </tr>\n",
       "  </tbody>\n",
       "</table>\n",
       "</div>"
      ],
      "text/plain": [
       "  sale_date_date contact_id  shop_id  product_id  product_sub_category_id  \\\n",
       "0     2018-12-07    1260627   1455.0    168308.0                    906.0   \n",
       "1     2018-12-07     198287    279.0    134832.0                    404.0   \n",
       "2     2018-12-07    2418385    848.0    101384.0                    404.0   \n",
       "3     2018-12-07    1285774   1511.0    168570.0                    906.0   \n",
       "4     2018-12-07    1810323   1501.0    168319.0                    906.0   \n",
       "\n",
       "   product_category_id  brand_id quantity  \n",
       "0                205.0      -1.0     1,00  \n",
       "1                 93.0      -1.0     1,00  \n",
       "2                 93.0      -1.0     1,00  \n",
       "3                205.0      -1.0     1,00  \n",
       "4                205.0      -1.0     1,00  "
      ]
     },
     "execution_count": 5,
     "metadata": {},
     "output_type": "execute_result"
    }
   ],
   "source": [
    "checks = pd.read_csv(\"data\\чековые данные.csv\")\n",
    "checks.drop(['name'], axis=1, inplace=True)\n",
    "\n",
    "with open(\"data\\Product_dict.pkl\",\"rb\") as f:\n",
    "    product_dict = pickle.load(f)\n",
    "\n",
    "checks.head()"
   ]
  },
  {
   "cell_type": "code",
   "execution_count": 7,
   "metadata": {},
   "outputs": [],
   "source": [
    "#product_dict"
   ]
  },
  {
   "cell_type": "code",
   "execution_count": 4,
   "metadata": {
    "id": "6K9CNpd_1n8c",
    "outputId": "8d6cf1de-e516-4a4b-d6fb-8175a16d46aa"
   },
   "outputs": [
    {
     "data": {
      "text/html": [
       "<div>\n",
       "<style scoped>\n",
       "    .dataframe tbody tr th:only-of-type {\n",
       "        vertical-align: middle;\n",
       "    }\n",
       "\n",
       "    .dataframe tbody tr th {\n",
       "        vertical-align: top;\n",
       "    }\n",
       "\n",
       "    .dataframe thead th {\n",
       "        text-align: right;\n",
       "    }\n",
       "</style>\n",
       "<table border=\"1\" class=\"dataframe\">\n",
       "  <thead>\n",
       "    <tr style=\"text-align: right;\">\n",
       "      <th></th>\n",
       "      <th>sale_date_date</th>\n",
       "      <th>contact_id</th>\n",
       "      <th>shop_id</th>\n",
       "      <th>product_id</th>\n",
       "      <th>product_sub_category_id</th>\n",
       "      <th>product_category_id</th>\n",
       "      <th>brand_id</th>\n",
       "      <th>quantity</th>\n",
       "      <th>key_col</th>\n",
       "    </tr>\n",
       "  </thead>\n",
       "  <tbody>\n",
       "    <tr>\n",
       "      <th>0</th>\n",
       "      <td>2018-12-07</td>\n",
       "      <td>1260627</td>\n",
       "      <td>1455.0</td>\n",
       "      <td>168308.0</td>\n",
       "      <td>906.0</td>\n",
       "      <td>205.0</td>\n",
       "      <td>-1.0</td>\n",
       "      <td>1,00</td>\n",
       "      <td>2018-12-07_1260627_1455.0</td>\n",
       "    </tr>\n",
       "    <tr>\n",
       "      <th>1</th>\n",
       "      <td>2018-12-07</td>\n",
       "      <td>198287</td>\n",
       "      <td>279.0</td>\n",
       "      <td>134832.0</td>\n",
       "      <td>404.0</td>\n",
       "      <td>93.0</td>\n",
       "      <td>-1.0</td>\n",
       "      <td>1,00</td>\n",
       "      <td>2018-12-07_198287_279.0</td>\n",
       "    </tr>\n",
       "    <tr>\n",
       "      <th>2</th>\n",
       "      <td>2018-12-07</td>\n",
       "      <td>2418385</td>\n",
       "      <td>848.0</td>\n",
       "      <td>101384.0</td>\n",
       "      <td>404.0</td>\n",
       "      <td>93.0</td>\n",
       "      <td>-1.0</td>\n",
       "      <td>1,00</td>\n",
       "      <td>2018-12-07_2418385_848.0</td>\n",
       "    </tr>\n",
       "    <tr>\n",
       "      <th>3</th>\n",
       "      <td>2018-12-07</td>\n",
       "      <td>1285774</td>\n",
       "      <td>1511.0</td>\n",
       "      <td>168570.0</td>\n",
       "      <td>906.0</td>\n",
       "      <td>205.0</td>\n",
       "      <td>-1.0</td>\n",
       "      <td>1,00</td>\n",
       "      <td>2018-12-07_1285774_1511.0</td>\n",
       "    </tr>\n",
       "    <tr>\n",
       "      <th>4</th>\n",
       "      <td>2018-12-07</td>\n",
       "      <td>1810323</td>\n",
       "      <td>1501.0</td>\n",
       "      <td>168319.0</td>\n",
       "      <td>906.0</td>\n",
       "      <td>205.0</td>\n",
       "      <td>-1.0</td>\n",
       "      <td>1,00</td>\n",
       "      <td>2018-12-07_1810323_1501.0</td>\n",
       "    </tr>\n",
       "  </tbody>\n",
       "</table>\n",
       "</div>"
      ],
      "text/plain": [
       "  sale_date_date contact_id  shop_id  product_id  product_sub_category_id  \\\n",
       "0     2018-12-07    1260627   1455.0    168308.0                    906.0   \n",
       "1     2018-12-07     198287    279.0    134832.0                    404.0   \n",
       "2     2018-12-07    2418385    848.0    101384.0                    404.0   \n",
       "3     2018-12-07    1285774   1511.0    168570.0                    906.0   \n",
       "4     2018-12-07    1810323   1501.0    168319.0                    906.0   \n",
       "\n",
       "   product_category_id  brand_id quantity                    key_col  \n",
       "0                205.0      -1.0     1,00  2018-12-07_1260627_1455.0  \n",
       "1                 93.0      -1.0     1,00    2018-12-07_198287_279.0  \n",
       "2                 93.0      -1.0     1,00   2018-12-07_2418385_848.0  \n",
       "3                205.0      -1.0     1,00  2018-12-07_1285774_1511.0  \n",
       "4                205.0      -1.0     1,00  2018-12-07_1810323_1501.0  "
      ]
     },
     "execution_count": 4,
     "metadata": {},
     "output_type": "execute_result"
    }
   ],
   "source": [
    "# Создадим ключевую колонку: время + касса + магазин\n",
    "checks['key_col'] = checks['sale_date_date'].apply(str) + \"_\" + checks['contact_id'].apply(str) + \"_\" + checks['shop_id'].apply(str)\n",
    "checks.head()"
   ]
  },
  {
   "cell_type": "code",
   "execution_count": 5,
   "metadata": {
    "id": "4PkcECXI1n8d"
   },
   "outputs": [],
   "source": [
    "checks.dropna(inplace=True)\n",
    "checks = checks[checks['sale_date_date'].str.startswith(\"20\")]\n",
    "checks.reset_index(inplace=True, drop=True)\n",
    "checks['sale_date_date'] = pd.to_datetime(checks['sale_date_date'])\n",
    "checks.sort_values('sale_date_date', inplace=True)\n",
    "\n",
    "# Достаточно отсортировать и сделать трейн-тест, чтобы построить валидацию. Забьем на разорванные сессии\n",
    "train, test = train_test_split(checks, test_size=0.3)"
   ]
  },
  {
   "cell_type": "code",
   "execution_count": 6,
   "metadata": {
    "id": "WNlDG4tl1n8e"
   },
   "outputs": [
    {
     "name": "stderr",
     "output_type": "stream",
     "text": [
      "C:\\Users\\olga_\\AppData\\Local\\Temp/ipykernel_124/3277854769.py:31: TqdmDeprecationWarning: This function will be removed in tqdm==5.0.0\n",
      "Please use `tqdm.notebook.tqdm` instead of `tqdm.tqdm_notebook`\n",
      "  for name in tqdm_notebook(product_dict.keys()):\n"
     ]
    },
    {
     "data": {
      "application/vnd.jupyter.widget-view+json": {
       "model_id": "eac791b662294e16a0046ab146496efd",
       "version_major": 2,
       "version_minor": 0
      },
      "text/plain": [
       "  0%|          | 0/30418 [00:00<?, ?it/s]"
      ]
     },
     "metadata": {},
     "output_type": "display_data"
    },
    {
     "data": {
      "text/plain": [
       "True"
      ]
     },
     "execution_count": 6,
     "metadata": {},
     "output_type": "execute_result"
    }
   ],
   "source": [
    "# Обучим простые контетные рекомендации\n",
    "\n",
    "# Для фильтрации пунктуации\n",
    "exclude = set(string.punctuation)\n",
    "# Для приведения слов в начальной форме\n",
    "morpher = MorphAnalyzer()\n",
    "\n",
    "# Для фильтрации стоп-слов\n",
    "sw = get_stop_words(\"ru\")\n",
    "\n",
    "def preprocess_txt(line):\n",
    "    spls = \"\".join(i for i in str(line).strip() if i not in exclude).split()\n",
    "    spls = [morpher.parse(i.lower())[0].normal_form for i in spls]\n",
    "    spls = [i for i in spls if i not in sw and i != \"\"]\n",
    "    return spls\n",
    "\n",
    "sentences = [preprocess_txt(k) for k in product_dict.keys()]\n",
    "\n",
    "# Подготовим кандидатогенератор, который будет отдавать фильмы похожие по текстовому описанию на те, которые оенил пользователь\n",
    "# Обучим Fasttext и заэмбедим фильмы\n",
    "modelFT = FastText(sentences=sentences, vector_size=20, min_count=1, window=5)\n",
    "\n",
    "# Для того, чтобы быстро находить айтемы положим эмбединги их тайтлов в ANN индекс\n",
    "# Создадим объект индекса\n",
    "ft_index_names = annoy.AnnoyIndex(20 ,'angular')\n",
    "\n",
    "# Будем хранить соответствия не только id-> фильм, но и фильм-> id, чтобы быстрее находить эмбеддинги айтемов\n",
    "reverse_index_map = {}\n",
    "counter = 0\n",
    "\n",
    "for name in tqdm_notebook(product_dict.keys()):\n",
    "    n_ft = 0\n",
    "    reverse_index_map[counter] = name\n",
    "    vector_ft = np.zeros(20)\n",
    "    # Каждое слово обернем в эмбеддинг\n",
    "    for word in preprocess_txt(name):\n",
    "        if word in modelFT.wv.key_to_index:\n",
    "            vector_ft += modelFT.wv[word]\n",
    "            n_ft += 1\n",
    "    if n_ft > 0:\n",
    "        vector_ft = vector_ft / n_ft\n",
    "    ft_index_names.add_item(counter, vector_ft)\n",
    "    counter += 1\n",
    "\n",
    "# \n",
    "ft_index_names.build(10)"
   ]
  },
  {
   "cell_type": "code",
   "execution_count": 7,
   "metadata": {
    "id": "AgJvnjSP1n8e"
   },
   "outputs": [],
   "source": [
    "reverse_item_mapping = {v: k for k, v in product_dict.items()}\n",
    "\n",
    "def recommend(items_list):\n",
    "    current_vector = np.zeros(20)\n",
    "    c = len(items_list)\n",
    "    for iid in items_list:\n",
    "        iname = product_dict[iid]\n",
    "        if iname not in reverse_index_map:\n",
    "            c -= 1\n",
    "            continue\n",
    "        current_vector += np.array(ft_index_names.get_item_vector[reverse_index_map[iname]])\n",
    "    return [product_dict[reverse_index_map[i]] for i in ft_index_names.get_nns_by_vector(current_vector / c, 10)]"
   ]
  },
  {
   "cell_type": "code",
   "execution_count": 8,
   "metadata": {
    "id": "eil_GO2q1n8f"
   },
   "outputs": [
    {
     "name": "stderr",
     "output_type": "stream",
     "text": [
      "C:\\Users\\olga_\\AppData\\Local\\Temp/ipykernel_124/3531675664.py:12: RuntimeWarning: invalid value encountered in true_divide\n",
      "  return [product_dict[reverse_index_map[i]] for i in ft_index_names.get_nns_by_vector(current_vector / c, 10)]\n"
     ]
    },
    {
     "data": {
      "text/plain": [
       "['(106357) Салфетки EURON д/ухода за лежачими больными №64 755',\n",
       " '(62527) Плавикс табл. п.п.о. 75мг N28 738',\n",
       " '(42786) Арифон ретард таб. п/о 1,5мг №30 735',\n",
       " '(61845) Ноопепт таб.10мг №50 638',\n",
       " '(120617) Глюкофаж Лонг таб.пролонг.действ.1г №30 462',\n",
       " '(96641) Пустырника экстракт тб 14мг N50 613',\n",
       " '(68258) Проваг капс. №10 448',\n",
       " '(106123) Минеральная вода Пролом 1,5л ПЭТ 569',\n",
       " '(58685) Альфа Нормикс таб.200мг №12 596',\n",
       " '(27088) Бифидум БАГ 1000доз фл.12мл №1 600']"
      ]
     },
     "execution_count": 8,
     "metadata": {},
     "output_type": "execute_result"
    }
   ],
   "source": [
    "recommend(['52539', '110342'])"
   ]
  },
  {
   "cell_type": "code",
   "execution_count": 9,
   "metadata": {
    "id": "I4jrOD771n8f",
    "outputId": "40a3f3f0-b6eb-450c-d731-41cf485c263a"
   },
   "outputs": [
    {
     "name": "stderr",
     "output_type": "stream",
     "text": [
      "C:\\Users\\olga_\\AppData\\Local\\Temp/ipykernel_124/2304771833.py:4: SettingWithCopyWarning: \n",
      "A value is trying to be set on a copy of a slice from a DataFrame.\n",
      "Try using .loc[row_indexer,col_indexer] = value instead\n",
      "\n",
      "See the caveats in the documentation: https://pandas.pydata.org/pandas-docs/stable/user_guide/indexing.html#returning-a-view-versus-a-copy\n",
      "  train['product_id'] = train['product_id'].apply(int).apply(str)\n"
     ]
    }
   ],
   "source": [
    "# Обучение эмбеддингов по последовательности\n",
    "from gensim.models import Word2Vec\n",
    "\n",
    "train['product_id'] = train['product_id'].apply(int).apply(str)\n",
    "\n",
    "grouped = train.groupby('key_col')\n",
    "sentences = []"
   ]
  },
  {
   "cell_type": "code",
   "execution_count": 10,
   "metadata": {
    "colab": {
     "referenced_widgets": [
      "f44a5b29465247c18019000eb56ed8b9"
     ]
    },
    "id": "tGgezbwj1n8g",
    "outputId": "20201a75-953a-416c-a9a9-b085fc522526",
    "scrolled": true
   },
   "outputs": [
    {
     "name": "stderr",
     "output_type": "stream",
     "text": [
      "C:\\Users\\olga_\\AppData\\Local\\Temp/ipykernel_124/2026112379.py:5: TqdmDeprecationWarning: This function will be removed in tqdm==5.0.0\n",
      "Please use `tqdm.notebook.tqdm` instead of `tqdm.tqdm_notebook`\n",
      "  for group in tqdm_notebook(grouped.groups):\n"
     ]
    },
    {
     "data": {
      "application/vnd.jupyter.widget-view+json": {
       "model_id": "5e1e053f1dd149dcb2d98199c751521e",
       "version_major": 2,
       "version_minor": 0
      },
      "text/plain": [
       "  0%|          | 0/5458204 [00:00<?, ?it/s]"
      ]
     },
     "metadata": {},
     "output_type": "display_data"
    }
   ],
   "source": [
    "# Сформируем последовательности\n",
    "\n",
    "from tqdm import tqdm \n",
    "sentences = []\n",
    "for group in tqdm_notebook(grouped.groups):\n",
    "    products = grouped.get_group(group)['product_id'].values\n",
    "    if len(products) < 3:\n",
    "        continue\n",
    "    sentences.append(list(products))"
   ]
  },
  {
   "cell_type": "code",
   "execution_count": 12,
   "metadata": {
    "id": "NM412GSU1n8h"
   },
   "outputs": [],
   "source": [
    "modelW2V = Word2Vec(sentences, vector_size=10)"
   ]
  },
  {
   "cell_type": "code",
   "execution_count": 13,
   "metadata": {
    "id": "qUGOzOqn1n8h",
    "outputId": "e1bf1426-8702-4a4b-9f89-43f493e2d2e5"
   },
   "outputs": [
    {
     "data": {
      "text/plain": [
       "['99821', '52529', '82717', '134475']"
      ]
     },
     "execution_count": 13,
     "metadata": {},
     "output_type": "execute_result"
    }
   ],
   "source": [
    "sentences[0]"
   ]
  },
  {
   "cell_type": "code",
   "execution_count": 17,
   "metadata": {
    "id": "_tmLBMRz1n8h",
    "outputId": "7ca846ae-4af2-4cc9-dd8a-d68cf1102a61"
   },
   "outputs": [
    {
     "data": {
      "text/plain": [
       "[('37651', 0.9376478791236877),\n",
       " ('54889', 0.9195696115493774),\n",
       " ('71821', 0.9067696332931519),\n",
       " ('140961', 0.900420606136322),\n",
       " ('60496', 0.897085428237915),\n",
       " ('63413', 0.8964385390281677),\n",
       " ('74585', 0.8845712542533875),\n",
       " ('60602', 0.8844577670097351),\n",
       " ('51925', 0.8841484785079956),\n",
       " ('115324', 0.8771871328353882)]"
      ]
     },
     "execution_count": 17,
     "metadata": {},
     "output_type": "execute_result"
    }
   ],
   "source": [
    "modelW2V.wv.most_similar([1,2])"
   ]
  },
  {
   "cell_type": "code",
   "execution_count": 25,
   "metadata": {
    "id": "6bhlwjwC1n8i"
   },
   "outputs": [],
   "source": [
    "def recommend_w2v(items_list):\n",
    "    current_vector = np.zeros(10)\n",
    "    c = len(items_list)+1\n",
    "    for iid in items_list:\n",
    "        iname = product_dict[iid]\n",
    "        if iname not in modelW2V.wv:\n",
    "            c -= 1\n",
    "            continue\n",
    "        current_vector += np.array(modelW2V.wv[reverse_index_map[iname]])\n",
    "    return [product_dict[i[0]] for i in modelW2V.wv.similar_by_vector(current_vector / c, 10)]"
   ]
  },
  {
   "cell_type": "code",
   "execution_count": 26,
   "metadata": {
    "id": "ga2A4ifk1n8i",
    "outputId": "0f807d91-bf78-4a33-a100-dc94b3b47280"
   },
   "outputs": [
    {
     "data": {
      "text/plain": [
       "['(107901) Глюкоза р-р д/инфуз 5% бут. 200мл №28 434',\n",
       " '(96317) Ибупрофен сусп.д/приема внутрь 100мг/5мл фл.100мл д/детей 397',\n",
       " '(71579) Динамико таб.п.п.о.100мг №1 683',\n",
       " '(114492) Кординорм Кор таб.2,5мг №90 738',\n",
       " '(123319) Ван Тач Селект Тест-полоски №50х3 (промо) 452',\n",
       " '(71365) Крем \"Женьшеневый\" д/зрелой кожи 40мл -1',\n",
       " '(99872) Аскорбиновая кислота р-р д/и 5% амп 2мл N10 429',\n",
       " '(70318) Тобропт капли глазные 0,3% фл.-кап. 5мл 575',\n",
       " '(102173) Клеопатра масло антицеллюлитное массажное 150мл -1',\n",
       " '(186975) Адиарин пор.д/приг.сусп.д/приема внутрь 250мг пак.№8 597']"
      ]
     },
     "execution_count": 26,
     "metadata": {},
     "output_type": "execute_result"
    }
   ],
   "source": [
    "recommend_w2v(['99821', '138583', '45321', '134475'])"
   ]
  },
  {
   "cell_type": "code",
   "execution_count": 27,
   "metadata": {},
   "outputs": [],
   "source": [
    "# Создадим метод, который по id продукта будет возвращать похожие на него\n",
    "def recommend(product_id, num_sampled=10):\n",
    "    n = 0\n",
    "    for key, value in reverse_index_map.items():\n",
    "         if product_id == value:\n",
    "                n = key          \n",
    "    if n not in reverse_index_map:\n",
    "        return []\n",
    "    return ft_index_names.get_nns_by_item(n, num_sampled)"
   ]
  },
  {
   "cell_type": "code",
   "execution_count": 28,
   "metadata": {},
   "outputs": [
    {
     "data": {
      "text/plain": [
       "[10117, 1834, 19808, 15573, 8360, 3270, 8192, 13297, 17349, 4933]"
      ]
     },
     "execution_count": 28,
     "metadata": {},
     "output_type": "execute_result"
    }
   ],
   "source": [
    "recommend('214112')"
   ]
  },
  {
   "cell_type": "code",
   "execution_count": 29,
   "metadata": {},
   "outputs": [],
   "source": [
    "# Сделаем сразу рандомный кандидатогенератор (он нам пригодится для кандидатогенерации по субкатегории)\n",
    "def sample_random(sample_set, num_sampled=10):\n",
    "    return np.random.choice(sample_set, num_sampled, replace=True)"
   ]
  },
  {
   "cell_type": "code",
   "execution_count": 31,
   "metadata": {},
   "outputs": [
    {
     "name": "stderr",
     "output_type": "stream",
     "text": [
      "C:\\Users\\olga_\\AppData\\Local\\Temp/ipykernel_124/3963481202.py:6: TqdmDeprecationWarning: This function will be removed in tqdm==5.0.0\n",
      "Please use `tqdm.notebook.tqdm` instead of `tqdm.tqdm_notebook`\n",
      "  for i in tqdm_notebook(train.index):\n"
     ]
    },
    {
     "data": {
      "application/vnd.jupyter.widget-view+json": {
       "model_id": "5de829efee2940fa8c6704c150cc0209",
       "version_major": 2,
       "version_minor": 0
      },
      "text/plain": [
       "  0%|          | 0/14000000 [00:00<?, ?it/s]"
      ]
     },
     "metadata": {},
     "output_type": "display_data"
    }
   ],
   "source": [
    "# Сделаем кандидатогенератор по последним купленным товарам из субкатегории\n",
    "\n",
    "product2subcat = {}\n",
    "subcat_dict = {}\n",
    "\n",
    "for i in tqdm_notebook(train.index):\n",
    "    subcats = train.loc[i, \"product_sub_category_id\"]\n",
    "    product2subcat[train.loc[i, 'product_id']] = subcats\n",
    "#     for subcat in subcats:\n",
    "    if subcats not in subcat_dict:\n",
    "        subcat_dict[subcats] = []\n",
    "    subcat_dict[subcats].append(train.loc[i, 'product_id'])"
   ]
  },
  {
   "cell_type": "code",
   "execution_count": 32,
   "metadata": {},
   "outputs": [],
   "source": [
    "# формируем перечень всех купленных товаров\n",
    "product_unique = train['product_id'].unique()"
   ]
  },
  {
   "cell_type": "code",
   "execution_count": 33,
   "metadata": {},
   "outputs": [],
   "source": [
    "# Создадим метод, который по последнему купленному товару будет возвращать набор кандидатов\n",
    "# товаров из субкатегории товаров\n",
    "\n",
    "def candidate_generator(product_id):\n",
    "\n",
    "    candidates_ft = []\n",
    "    if product_id is not None:\n",
    "        candidates_ft = list(recommend(product_id))\n",
    "    candidates_random = list(sample_random(product_unique))\n",
    "    candidates_random = [int(i) for i in candidates_random]\n",
    "    candidates_ft = [i for i in candidates_ft[1:]]\n",
    "    candidates_subcat = []\n",
    "    try:\n",
    "        for subcat in product2subcat.get(str(product_id), []):\n",
    "            candidates_subcat += list(sample_random(subcat_dict[subcat], 5))\n",
    "    except:\n",
    "        candidates_subcat = sample_random(subcat_dict[product2subcat.get(str(product_id), [])], 5)\n",
    "    candidates_subcat = [int(i) for i in candidates_subcat]\n",
    "    # Отфильтруем входной продукт (он мог попасть в кандидаты) и уберем дубликаты\n",
    "    return set([i for i in candidates_ft + candidates_subcat + candidates_random if i!= product_id])"
   ]
  },
  {
   "cell_type": "code",
   "execution_count": 34,
   "metadata": {},
   "outputs": [
    {
     "data": {
      "text/plain": [
       "{4578,\n",
       " 13107,\n",
       " 13713,\n",
       " 14380,\n",
       " 17801,\n",
       " 19602,\n",
       " 19860,\n",
       " 22703,\n",
       " 23899,\n",
       " 26925,\n",
       " 28168,\n",
       " 29073,\n",
       " 54302,\n",
       " 55276,\n",
       " 75095,\n",
       " 101264,\n",
       " 125983,\n",
       " 135298,\n",
       " 136835,\n",
       " 136850,\n",
       " 141339,\n",
       " 144398,\n",
       " 154216,\n",
       " 355759}"
      ]
     },
     "execution_count": 34,
     "metadata": {},
     "output_type": "execute_result"
    }
   ],
   "source": [
    "# Проверим как работает кандидатогенератор\n",
    "candidate_generator(22453)"
   ]
  },
  {
   "cell_type": "code",
   "execution_count": 35,
   "metadata": {},
   "outputs": [],
   "source": [
    "# частота покупки товара\n",
    "product_freq = train['product_id'].value_counts().to_dict()"
   ]
  },
  {
   "cell_type": "code",
   "execution_count": 36,
   "metadata": {},
   "outputs": [],
   "source": [
    "def recommend_multy_range(item_list):\n",
    "    сandidates_list = [] # перечень сгенерированных товаров\n",
    "    rec_items = [] # перечень рекомендованных товаров\n",
    "    new_dict = {} # отранжированный словарь рекомендованных товаров \n",
    "    \n",
    "    for iid in item_list:\n",
    "#       получаем перечень кандидатов\n",
    "        сandidates_list = list(candidate_generator(iid))\n",
    "#         ранжируем кандидатов по частоте покупки товара\n",
    "        for elem in сandidates_list:\n",
    "            if str(elem) in product_freq.keys():\n",
    "                new_dict[elem] = product_freq.get(str(elem))\n",
    "        # сортируем товар по наболее часто покупаемому\n",
    "    sorted_x = sorted(new_dict.items(), key=operator.itemgetter(1), reverse=True)\n",
    "#   выдаем 10 наиболее часто покупаемых товаров\n",
    "    for i in sorted_x[:10]:\n",
    "        rec_items.append(product_dict[str(i[0])])\n",
    "    return rec_items"
   ]
  },
  {
   "cell_type": "code",
   "execution_count": 39,
   "metadata": {},
   "outputs": [
    {
     "data": {
      "text/plain": [
       "['(25205) Трентал таб. п.о. 400мг N20 738',\n",
       " '(49135) Камфорное масло 10% фл 30мл N1 648',\n",
       " '(89314) Кэа Вумен Прокладки гигиенические Найт Ультра Драй №7 555',\n",
       " '(16294) Прокладки \"Molimed premium midi\" женск. впитыв. 420 мл. №14 арт.168644\\\\1683990 555',\n",
       " '(15728) Дилтиазем Ланнахер тб п/о ретард 180мг N30 738',\n",
       " '(63495) Прокладки гигиенические Либресс Ультра Нормал с мягкой поверхностью №10 арт.8873 555',\n",
       " '(22095) Тампоны ватные \"O.b.\" Pro Comfort супер № 16 арт.23432 558',\n",
       " '(45640) Тампоны Котекс Нормал уп №16 558',\n",
       " '(29826) Тампоны Котекс Нормал уп №8 558',\n",
       " '(15839) Тампоны ватные \"O.b.\" супер коробка №16 арт.18458 558']"
      ]
     },
     "execution_count": 39,
     "metadata": {},
     "output_type": "execute_result"
    }
   ],
   "source": [
    "recommend_multy_range(['120171', '69028', '62087'])"
   ]
  },
  {
   "cell_type": "markdown",
   "metadata": {},
   "source": [
    "Для грамотной валидации нам не хватает дополнительных сведений, для какого набора болезней применяются эти препараты, остается ориентироваться только на категории товара. Также предсказания строятся только на предыдущих покупках одного препарата с другим. \n",
    "В целом, система крайне слаба для реального применения. "
   ]
  }
 ],
 "metadata": {
  "colab": {
   "collapsed_sections": [],
   "name": "SolutionExample.ipynb",
   "provenance": []
  },
  "kernelspec": {
   "display_name": "Python 3 (ipykernel)",
   "language": "python",
   "name": "python3"
  },
  "language_info": {
   "codemirror_mode": {
    "name": "ipython",
    "version": 3
   },
   "file_extension": ".py",
   "mimetype": "text/x-python",
   "name": "python",
   "nbconvert_exporter": "python",
   "pygments_lexer": "ipython3",
   "version": "3.9.7"
  }
 },
 "nbformat": 4,
 "nbformat_minor": 1
}
