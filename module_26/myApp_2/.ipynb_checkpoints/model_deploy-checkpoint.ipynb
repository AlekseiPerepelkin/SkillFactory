{
 "cells": [
  {
   "cell_type": "code",
   "execution_count": 1,
   "id": "8f10ee20",
   "metadata": {},
   "outputs": [],
   "source": [
    "import pandas as pd"
   ]
  },
  {
   "cell_type": "code",
   "execution_count": 2,
   "id": "a11a347c",
   "metadata": {},
   "outputs": [
    {
     "data": {
      "text/html": [
       "<div>\n",
       "<style scoped>\n",
       "    .dataframe tbody tr th:only-of-type {\n",
       "        vertical-align: middle;\n",
       "    }\n",
       "\n",
       "    .dataframe tbody tr th {\n",
       "        vertical-align: top;\n",
       "    }\n",
       "\n",
       "    .dataframe thead th {\n",
       "        text-align: right;\n",
       "    }\n",
       "</style>\n",
       "<table border=\"1\" class=\"dataframe\">\n",
       "  <thead>\n",
       "    <tr style=\"text-align: right;\">\n",
       "      <th></th>\n",
       "      <th>city</th>\n",
       "      <th>floorNumber</th>\n",
       "      <th>floorsTotal</th>\n",
       "      <th>totalArea</th>\n",
       "      <th>price</th>\n",
       "      <th>rooms</th>\n",
       "    </tr>\n",
       "  </thead>\n",
       "  <tbody>\n",
       "    <tr>\n",
       "      <th>0</th>\n",
       "      <td>Краснодар</td>\n",
       "      <td>1</td>\n",
       "      <td>5.0</td>\n",
       "      <td>18.0</td>\n",
       "      <td>5600000</td>\n",
       "      <td>2</td>\n",
       "    </tr>\n",
       "    <tr>\n",
       "      <th>1</th>\n",
       "      <td>Краснодар</td>\n",
       "      <td>1</td>\n",
       "      <td>5.0</td>\n",
       "      <td>15.0</td>\n",
       "      <td>4650000</td>\n",
       "      <td>1</td>\n",
       "    </tr>\n",
       "    <tr>\n",
       "      <th>2</th>\n",
       "      <td>Краснодар</td>\n",
       "      <td>1</td>\n",
       "      <td>5.0</td>\n",
       "      <td>11.9</td>\n",
       "      <td>2990000</td>\n",
       "      <td>3</td>\n",
       "    </tr>\n",
       "    <tr>\n",
       "      <th>3</th>\n",
       "      <td>Краснодар</td>\n",
       "      <td>1</td>\n",
       "      <td>7.0</td>\n",
       "      <td>18.4</td>\n",
       "      <td>4390000</td>\n",
       "      <td>2</td>\n",
       "    </tr>\n",
       "    <tr>\n",
       "      <th>4</th>\n",
       "      <td>Краснодар</td>\n",
       "      <td>2</td>\n",
       "      <td>5.0</td>\n",
       "      <td>17.6</td>\n",
       "      <td>4890000</td>\n",
       "      <td>4</td>\n",
       "    </tr>\n",
       "    <tr>\n",
       "      <th>...</th>\n",
       "      <td>...</td>\n",
       "      <td>...</td>\n",
       "      <td>...</td>\n",
       "      <td>...</td>\n",
       "      <td>...</td>\n",
       "      <td>...</td>\n",
       "    </tr>\n",
       "    <tr>\n",
       "      <th>63940</th>\n",
       "      <td>Санкт-Петербург</td>\n",
       "      <td>1</td>\n",
       "      <td>4.0</td>\n",
       "      <td>152.0</td>\n",
       "      <td>9999000</td>\n",
       "      <td>11</td>\n",
       "    </tr>\n",
       "    <tr>\n",
       "      <th>63941</th>\n",
       "      <td>Москва</td>\n",
       "      <td>5</td>\n",
       "      <td>5.0</td>\n",
       "      <td>167.0</td>\n",
       "      <td>10000000</td>\n",
       "      <td>5</td>\n",
       "    </tr>\n",
       "    <tr>\n",
       "      <th>63942</th>\n",
       "      <td>Ярославль</td>\n",
       "      <td>1</td>\n",
       "      <td>4.0</td>\n",
       "      <td>235.0</td>\n",
       "      <td>13500000</td>\n",
       "      <td>8</td>\n",
       "    </tr>\n",
       "    <tr>\n",
       "      <th>63943</th>\n",
       "      <td>Ярославль</td>\n",
       "      <td>4</td>\n",
       "      <td>5.0</td>\n",
       "      <td>271.0</td>\n",
       "      <td>13750000</td>\n",
       "      <td>6</td>\n",
       "    </tr>\n",
       "    <tr>\n",
       "      <th>63944</th>\n",
       "      <td>Санкт-Петербург</td>\n",
       "      <td>3</td>\n",
       "      <td>3.0</td>\n",
       "      <td>220.0</td>\n",
       "      <td>15400000</td>\n",
       "      <td>1</td>\n",
       "    </tr>\n",
       "  </tbody>\n",
       "</table>\n",
       "<p>63945 rows × 6 columns</p>\n",
       "</div>"
      ],
      "text/plain": [
       "                  city  floorNumber  floorsTotal  totalArea     price  rooms\n",
       "0            Краснодар            1          5.0       18.0   5600000      2\n",
       "1            Краснодар            1          5.0       15.0   4650000      1\n",
       "2            Краснодар            1          5.0       11.9   2990000      3\n",
       "3            Краснодар            1          7.0       18.4   4390000      2\n",
       "4            Краснодар            2          5.0       17.6   4890000      4\n",
       "...                ...          ...          ...        ...       ...    ...\n",
       "63940  Санкт-Петербург            1          4.0      152.0   9999000     11\n",
       "63941           Москва            5          5.0      167.0  10000000      5\n",
       "63942        Ярославль            1          4.0      235.0  13500000      8\n",
       "63943        Ярославль            4          5.0      271.0  13750000      6\n",
       "63944  Санкт-Петербург            3          3.0      220.0  15400000      1\n",
       "\n",
       "[63945 rows x 6 columns]"
      ]
     },
     "execution_count": 2,
     "metadata": {},
     "output_type": "execute_result"
    }
   ],
   "source": [
    "df = pd.read_csv('flat_dataset_2020.csv')\n",
    "df"
   ]
  },
  {
   "cell_type": "code",
   "execution_count": 35,
   "id": "76877458",
   "metadata": {},
   "outputs": [],
   "source": [
    "from sklearn.preprocessing import LabelEncoder\n",
    "le = LabelEncoder()\n",
    "df['city'] = le.fit_transform(df.city)"
   ]
  },
  {
   "cell_type": "code",
   "execution_count": 59,
   "id": "df39d791",
   "metadata": {},
   "outputs": [
    {
     "name": "stdout",
     "output_type": "stream",
     "text": [
      "LinearRegression() 8401985.363689497\n",
      "LassoCV() 8463612.525459489\n",
      "RidgeCV(alphas=array([ 0.1,  1. , 10. ])) 8401990.739911938\n",
      "RandomForestRegressor() 4836007.9184295945\n",
      "GradientBoostingRegressor() 5376228.537641208\n"
     ]
    }
   ],
   "source": [
    "from sklearn.model_selection import cross_val_score, train_test_split\n",
    "from sklearn.linear_model import LinearRegression, LassoCV, RidgeCV\n",
    "from sklearn.ensemble import RandomForestRegressor, GradientBoostingRegressor\n",
    "import numpy as np\n",
    "\n",
    "X_train, X_test, y_train, y_test = train_test_split(df.drop('price', axis = 1), df.price, test_size=0.15, random_state=42)\n",
    "\n",
    "models = [LinearRegression(),LassoCV(),RidgeCV(), RandomForestRegressor(), GradientBoostingRegressor()]\n",
    "for model in models:\n",
    "    print(str(model), -np.mean(cross_val_score(model, X_train, y_train, cv=3, scoring='neg_mean_absolute_error')))\n",
    "    \n"
   ]
  },
  {
   "cell_type": "code",
   "execution_count": 63,
   "id": "f44d7d50",
   "metadata": {},
   "outputs": [
    {
     "data": {
      "text/plain": [
       "RandomizedSearchCV(estimator=RandomForestRegressor(),\n",
       "                   param_distributions={'max_depth': [3, 6, 9],\n",
       "                                        'n_estimators': [50, 70, 100, 150,\n",
       "                                                         200]})"
      ]
     },
     "execution_count": 63,
     "metadata": {},
     "output_type": "execute_result"
    }
   ],
   "source": [
    "from sklearn.model_selection import RandomizedSearchCV\n",
    "\n",
    "params = {\n",
    "    'n_estimators':[50,70,100,150,200],\n",
    "    'max_depth':[3,6,9]\n",
    "    \n",
    "}\n",
    "rsCV = RandomizedSearchCV(RandomForestRegressor(),params)\n",
    "rsCV.fit(X_train, y_train)\n"
   ]
  },
  {
   "cell_type": "code",
   "execution_count": 65,
   "id": "c07d99e2",
   "metadata": {},
   "outputs": [
    {
     "data": {
      "text/plain": [
       "{'n_estimators': 70, 'max_depth': 9}"
      ]
     },
     "execution_count": 65,
     "metadata": {},
     "output_type": "execute_result"
    }
   ],
   "source": [
    "rsCV.best_params_"
   ]
  },
  {
   "cell_type": "code",
   "execution_count": 67,
   "id": "ceac33cd",
   "metadata": {},
   "outputs": [
    {
     "data": {
      "text/plain": [
       "4926413.643524185"
      ]
     },
     "execution_count": 67,
     "metadata": {},
     "output_type": "execute_result"
    }
   ],
   "source": [
    "from sklearn.metrics import mean_absolute_error\n",
    "\n",
    "predict = rsCV.best_estimator_.predict(X_test)\n",
    "mean_absolute_error(y_test, predict)"
   ]
  },
  {
   "cell_type": "markdown",
   "id": "104b039b",
   "metadata": {},
   "source": [
    "## Сохранение"
   ]
  },
  {
   "cell_type": "code",
   "execution_count": 69,
   "id": "d4e2f25a",
   "metadata": {},
   "outputs": [
    {
     "data": {
      "text/plain": [
       "['model.joblib']"
      ]
     },
     "execution_count": 69,
     "metadata": {},
     "output_type": "execute_result"
    }
   ],
   "source": [
    "from joblib import dump\n",
    "\n",
    "dump(rsCV.best_estimator_, 'model.joblib') "
   ]
  },
  {
   "cell_type": "code",
   "execution_count": 70,
   "id": "7987b50b",
   "metadata": {},
   "outputs": [],
   "source": [
    "np.save('classes.npy', le.classes_)"
   ]
  },
  {
   "cell_type": "code",
   "execution_count": 85,
   "id": "cdbb48c6",
   "metadata": {},
   "outputs": [
    {
     "data": {
      "text/plain": [
       "14.757588552662444"
      ]
     },
     "execution_count": 85,
     "metadata": {},
     "output_type": "execute_result"
    }
   ],
   "source": [
    "df.floorsTotal.mean()"
   ]
  },
  {
   "cell_type": "code",
   "execution_count": null,
   "id": "53c13d7a",
   "metadata": {},
   "outputs": [],
   "source": []
  },
  {
   "cell_type": "markdown",
   "id": "c9b77a53",
   "metadata": {},
   "source": [
    "## Использование модели"
   ]
  },
  {
   "cell_type": "code",
   "execution_count": 98,
   "id": "1bb7d51c",
   "metadata": {},
   "outputs": [],
   "source": [
    "from joblib import load\n",
    "from sklearn.preprocessing import LabelEncoder\n",
    "\n",
    "def get_predictions(city, floor, area, rooms):\n",
    "\n",
    "    model = load('model.joblib') \n",
    "\n",
    "    encoder = LabelEncoder()\n",
    "    encoder.classes_ = np.load('classes.npy', allow_pickle=True)\n",
    "    \n",
    "    df = pd.DataFrame([[city, floor, area, rooms]], columns=['city', 'floorNumber', 'totalArea', 'rooms'])\n",
    "    df['floorsTotal'] = 14.75\n",
    "    df.city = encoder.transform(df.city)\n",
    "    \n",
    "    return round(model.predict(df)[0])\n",
    "\n"
   ]
  },
  {
   "cell_type": "code",
   "execution_count": 99,
   "id": "3c517e1a",
   "metadata": {},
   "outputs": [
    {
     "data": {
      "text/plain": [
       "3301470"
      ]
     },
     "execution_count": 99,
     "metadata": {},
     "output_type": "execute_result"
    }
   ],
   "source": [
    "get_predictions('Москва',2,100,13)"
   ]
  },
  {
   "cell_type": "code",
   "execution_count": null,
   "id": "1f425e58",
   "metadata": {},
   "outputs": [],
   "source": []
  }
 ],
 "metadata": {
  "kernelspec": {
   "display_name": "Python 3 (ipykernel)",
   "language": "python",
   "name": "python3"
  },
  "language_info": {
   "codemirror_mode": {
    "name": "ipython",
    "version": 3
   },
   "file_extension": ".py",
   "mimetype": "text/x-python",
   "name": "python",
   "nbconvert_exporter": "python",
   "pygments_lexer": "ipython3",
   "version": "3.9.12"
  }
 },
 "nbformat": 4,
 "nbformat_minor": 5
}
